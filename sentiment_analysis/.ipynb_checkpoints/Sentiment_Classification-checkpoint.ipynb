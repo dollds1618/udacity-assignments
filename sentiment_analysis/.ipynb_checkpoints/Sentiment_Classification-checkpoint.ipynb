{
 "cells": [
  {
   "cell_type": "markdown",
   "metadata": {},
   "source": [
    "# Sentiment Classification & How To \"Frame Problems\" for a Neural Network\n",
    "\n",
    "by Andrew Trask\n",
    "\n",
    "- **Twitter**: @iamtrask\n",
    "- **Blog**: http://iamtrask.github.io"
   ]
  },
  {
   "cell_type": "markdown",
   "metadata": {},
   "source": [
    "### What You Should Already Know\n",
    "\n",
    "- neural networks, forward and back-propagation\n",
    "- stochastic gradient descent\n",
    "- mean squared error\n",
    "- and train/test splits\n",
    "\n",
    "### Where to Get Help if You Need it\n",
    "- Re-watch previous Udacity Lectures\n",
    "- Leverage the recommended Course Reading Material - [Grokking Deep Learning](https://www.manning.com/books/grokking-deep-learning) (Check inside your classroom for a discount code)\n",
    "- Shoot me a tweet @iamtrask\n",
    "\n",
    "\n",
    "### Tutorial Outline:\n",
    "\n",
    "- Intro: The Importance of \"Framing a Problem\" (this lesson)\n",
    "\n",
    "- [Curate a Dataset](#lesson_1)\n",
    "- [Developing a \"Predictive Theory\"](#lesson_2)\n",
    "- [**PROJECT 1**: Quick Theory Validation](#project_1)\n",
    "\n",
    "\n",
    "- [Transforming Text to Numbers](#lesson_3)\n",
    "- [**PROJECT 2**: Creating the Input/Output Data](#project_2)\n",
    "\n",
    "\n",
    "- Putting it all together in a Neural Network (video only - nothing in notebook)\n",
    "- [**PROJECT 3**: Building our Neural Network](#project_3)\n",
    "\n",
    "\n",
    "- [Understanding Neural Noise](#lesson_4)\n",
    "- [**PROJECT 4**: Making Learning Faster by Reducing Noise](#project_4)\n",
    "\n",
    "\n",
    "- [Analyzing Inefficiencies in our Network](#lesson_5)\n",
    "- [**PROJECT 5**: Making our Network Train and Run Faster](#project_5)\n",
    "\n",
    "\n",
    "- [Further Noise Reduction](#lesson_6)\n",
    "- [**PROJECT 6**: Reducing Noise by Strategically Reducing the Vocabulary](#project_6)\n",
    "\n",
    "\n",
    "- [Analysis: What's going on in the weights?](#lesson_7)"
   ]
  },
  {
   "cell_type": "markdown",
   "metadata": {
    "nbpresent": {
     "id": "56bb3cba-260c-4ebe-9ed6-b995b4c72aa3"
    }
   },
   "source": [
    "# Lesson: Curate a Dataset<a id='lesson_1'></a>\n",
    "The cells from here until Project 1 include code Andrew shows in the videos leading up to mini project 1. We've included them so you can run the code along with the videos without having to type in everything."
   ]
  },
  {
   "cell_type": "code",
   "execution_count": 1,
   "metadata": {
    "nbpresent": {
     "id": "eba2b193-0419-431e-8db9-60f34dd3fe83"
    }
   },
   "outputs": [],
   "source": [
    "def pretty_print_review_and_label(i):\n",
    "    print(labels[i] + \"\\t:\\t\" + reviews[i][:80] + \"...\")\n",
    "\n",
    "g = open('reviews.txt','r') # What we know!\n",
    "reviews = list(map(lambda x:x[:-1],g.readlines()))\n",
    "g.close()\n",
    "\n",
    "g = open('labels.txt','r') # What we WANT to know!\n",
    "labels = list(map(lambda x:x[:-1].upper(),g.readlines()))\n",
    "g.close()"
   ]
  },
  {
   "cell_type": "markdown",
   "metadata": {},
   "source": [
    "**Note:** The data in `reviews.txt` we're using has already been preprocessed a bit and contains only lower case characters. If we were working from raw data, where we didn't know it was all lower case, we would want to add a step here to convert it. That's so we treat different variations of the same word, like `The`, `the`, and `THE`, all the same way."
   ]
  },
  {
   "cell_type": "code",
   "execution_count": null,
   "metadata": {},
   "outputs": [],
   "source": [
    "len(reviews)"
   ]
  },
  {
   "cell_type": "code",
   "execution_count": null,
   "metadata": {
    "nbpresent": {
     "id": "bb95574b-21a0-4213-ae50-34363cf4f87f"
    }
   },
   "outputs": [],
   "source": [
    "reviews[0]"
   ]
  },
  {
   "cell_type": "code",
   "execution_count": null,
   "metadata": {
    "nbpresent": {
     "id": "e0408810-c424-4ed4-afb9-1735e9ddbd0a"
    }
   },
   "outputs": [],
   "source": [
    "labels[0]"
   ]
  },
  {
   "cell_type": "markdown",
   "metadata": {},
   "source": [
    "# Lesson: Develop a Predictive Theory<a id='lesson_2'></a>"
   ]
  },
  {
   "cell_type": "code",
   "execution_count": null,
   "metadata": {
    "nbpresent": {
     "id": "e67a709f-234f-4493-bae6-4fb192141ee0"
    }
   },
   "outputs": [],
   "source": [
    "print(\"labels.txt \\t : \\t reviews.txt\\n\")\n",
    "pretty_print_review_and_label(2137)\n",
    "pretty_print_review_and_label(12816)\n",
    "pretty_print_review_and_label(6267)\n",
    "pretty_print_review_and_label(21934)\n",
    "pretty_print_review_and_label(5297)\n",
    "pretty_print_review_and_label(4998)"
   ]
  },
  {
   "cell_type": "markdown",
   "metadata": {},
   "source": [
    "# Project 1: Quick Theory Validation<a id='project_1'></a>\n",
    "\n",
    "There are multiple ways to implement these projects, but in order to get your code closer to what Andrew shows in his solutions, we've provided some hints and starter code throughout this notebook.\n",
    "\n",
    "You'll find the [Counter](https://docs.python.org/2/library/collections.html#collections.Counter) class to be useful in this exercise, as well as the [numpy](https://docs.scipy.org/doc/numpy/reference/) library."
   ]
  },
  {
   "cell_type": "code",
   "execution_count": 2,
   "metadata": {},
   "outputs": [],
   "source": [
    "from collections import Counter\n",
    "import numpy as np"
   ]
  },
  {
   "cell_type": "markdown",
   "metadata": {},
   "source": [
    "We'll create three `Counter` objects, one for words from postive reviews, one for words from negative reviews, and one for all the words."
   ]
  },
  {
   "cell_type": "code",
   "execution_count": 3,
   "metadata": {},
   "outputs": [],
   "source": [
    "# Create three Counter objects to store positive, negative and total counts\n",
    "positive_counts = Counter()\n",
    "negative_counts = Counter()\n",
    "total_counts = Counter()"
   ]
  },
  {
   "cell_type": "markdown",
   "metadata": {},
   "source": [
    "**TODO:** Examine all the reviews. For each word in a positive review, increase the count for that word in both your positive counter and the total words counter; likewise, for each word in a negative review, increase the count for that word in both your negative counter and the total words counter.\n",
    "\n",
    "**Note:** Throughout these projects, you should use `split(' ')` to divide a piece of text (such as a review) into individual words. If you use `split()` instead, you'll get slightly different results than what the videos and solutions show."
   ]
  },
  {
   "cell_type": "code",
   "execution_count": 4,
   "metadata": {},
   "outputs": [],
   "source": [
    "# TODO: Loop over all the words in all the reviews and increment the counts in the appropriate counter objects\n",
    "for i in range(len(reviews)):\n",
    "    text = reviews[i].split(\" \")\n",
    "    for word in text:\n",
    "        if labels[i] == 'POSITIVE':\n",
    "            positive_counts[word] += 1\n",
    "            total_counts[word] += 1\n",
    "        else:\n",
    "            negative_counts[word] += 1\n",
    "            total_counts[word] += 1"
   ]
  },
  {
   "cell_type": "raw",
   "metadata": {},
   "source": [
    "Alternate Solution:            \n",
    "\n",
    "for i in range(len(reviews)):\n",
    "    if labels[i] == 'POSITIVE':\n",
    "        for word in reviews[i].split(\" \"):\n",
    "            positive_counts[word] += 1\n",
    "            total_counts[word] += 1\n",
    "    else:\n",
    "        for word in reviews[i].split(\" \"):\n",
    "            negative_counts[word] += 1\n",
    "            total_counts[word] += 1           "
   ]
  },
  {
   "cell_type": "markdown",
   "metadata": {},
   "source": [
    "Run the following two cells to list the words used in positive reviews and negative reviews, respectively, ordered from most to least commonly used. "
   ]
  },
  {
   "cell_type": "code",
   "execution_count": null,
   "metadata": {},
   "outputs": [],
   "source": [
    "# Examine the counts of the most common words in positive reviews\n",
    "positive_counts.most_common()"
   ]
  },
  {
   "cell_type": "code",
   "execution_count": null,
   "metadata": {},
   "outputs": [],
   "source": [
    "# Examine the counts of the most common words in negative reviews\n",
    "negative_counts.most_common()"
   ]
  },
  {
   "cell_type": "markdown",
   "metadata": {},
   "source": [
    "As you can see, common words like \"the\" appear very often in both positive and negative reviews. Instead of finding the most common words in positive or negative reviews, what you really want are the words found in positive reviews more often than in negative reviews, and vice versa. To accomplish this, you'll need to calculate the **ratios** of word usage between positive and negative reviews.\n",
    "\n",
    "**TODO:** Check all the words you've seen and calculate the ratio of postive to negative uses and store that ratio in `pos_neg_ratios`. \n",
    ">Hint: the positive-to-negative ratio for a given word can be calculated with `positive_counts[word] / float(negative_counts[word]+1)`. Notice the `+1` in the denominator – that ensures we don't divide by zero for words that are only seen in positive reviews."
   ]
  },
  {
   "cell_type": "code",
   "execution_count": 5,
   "metadata": {},
   "outputs": [],
   "source": [
    "# Create Counter object to store positive/negative ratios\n",
    "pos_neg_ratios = Counter()\n",
    "\n",
    "# TODO: Calculate the ratios of positive and negative uses of the most common words\n",
    "#       Consider words to be \"common\" if they've been used at least 100 times\n",
    "for word in total_counts.keys():\n",
    "    if total_counts[word] > 100:\n",
    "        pos_neg_ratios[word] = positive_counts[word] / float(negative_counts[word] + 1)"
   ]
  },
  {
   "cell_type": "markdown",
   "metadata": {},
   "source": [
    "Examine the ratios you've calculated for a few words:"
   ]
  },
  {
   "cell_type": "code",
   "execution_count": null,
   "metadata": {},
   "outputs": [],
   "source": [
    "print(\"Pos-to-neg ratio for 'the' = {}\".format(pos_neg_ratios[\"the\"]))\n",
    "print(\"Pos-to-neg ratio for 'amazing' = {}\".format(pos_neg_ratios[\"amazing\"]))\n",
    "print(\"Pos-to-neg ratio for 'terrible' = {}\".format(pos_neg_ratios[\"terrible\"]))"
   ]
  },
  {
   "cell_type": "markdown",
   "metadata": {},
   "source": [
    "Looking closely at the values you just calculated, we see the following:\n",
    "\n",
    "* Words that you would expect to see more often in positive reviews – like \"amazing\" – have a ratio greater than 1. The more skewed a word is toward postive, the farther from 1 its positive-to-negative ratio  will be.\n",
    "* Words that you would expect to see more often in negative reviews – like \"terrible\" – have positive values that are less than 1. The more skewed a word is toward negative, the closer to zero its positive-to-negative ratio will be.\n",
    "* Neutral words, which don't really convey any sentiment because you would expect to see them in all sorts of reviews – like \"the\" – have values very close to 1. A perfectly neutral word – one that was used in exactly the same number of positive reviews as negative reviews – would be almost exactly 1. The `+1` we suggested you add to the denominator slightly biases words toward negative, but it won't matter because it will be a tiny bias and later we'll be ignoring words that are too close to neutral anyway.\n",
    "\n",
    "Ok, the ratios tell us which words are used more often in postive or negative reviews, but the specific values we've calculated are a bit difficult to work with. A very positive word like \"amazing\" has a value above 4, whereas a very negative word like \"terrible\" has a value around 0.18. Those values aren't easy to compare for a couple of reasons:\n",
    "\n",
    "* Right now, 1 is considered neutral, but the absolute value of the postive-to-negative rations of very postive words is larger than the absolute value of the ratios for the very negative words. So there is no way to directly compare two numbers and see if one word conveys the same magnitude of positive sentiment as another word conveys negative sentiment. So we should center all the values around netural so the absolute value from neutral of the postive-to-negative ratio for a word would indicate how much sentiment (positive or negative) that word conveys.\n",
    "* When comparing absolute values it's easier to do that around zero than one. \n",
    "\n",
    "To fix these issues, we'll convert all of our ratios to new values using logarithms.\n",
    "\n",
    "**TODO:** Go through all the ratios you calculated and convert them to logarithms. (i.e. use `np.log(ratio)`)\n",
    "\n",
    "In the end, extremely positive and extremely negative words will have positive-to-negative ratios with similar magnitudes but opposite signs."
   ]
  },
  {
   "cell_type": "code",
   "execution_count": 6,
   "metadata": {},
   "outputs": [],
   "source": [
    "# TODO: Convert ratios to logs\n",
    "for word in pos_neg_ratios.keys():\n",
    "    pos_neg_ratios[word] = np.log(pos_neg_ratios[word])   "
   ]
  },
  {
   "cell_type": "markdown",
   "metadata": {},
   "source": [
    "Examine the new ratios you've calculated for the same words from before:"
   ]
  },
  {
   "cell_type": "code",
   "execution_count": null,
   "metadata": {},
   "outputs": [],
   "source": [
    "print(\"Pos-to-neg ratio for 'the' = {}\".format(pos_neg_ratios[\"the\"]))\n",
    "print(\"Pos-to-neg ratio for 'amazing' = {}\".format(pos_neg_ratios[\"amazing\"]))\n",
    "print(\"Pos-to-neg ratio for 'terrible' = {}\".format(pos_neg_ratios[\"terrible\"]))"
   ]
  },
  {
   "cell_type": "markdown",
   "metadata": {},
   "source": [
    "If everything worked, now you should see neutral words with values close to zero. In this case, \"the\" is near zero but slightly positive, so it was probably used in more positive reviews than negative reviews. But look at \"amazing\"'s ratio - it's above `1`, showing it is clearly a word with positive sentiment. And \"terrible\" has a similar score, but in the opposite direction, so it's below `-1`. It's now clear that both of these words are associated with specific, opposing sentiments.\n",
    "\n",
    "Now run the following cells to see more ratios. \n",
    "\n",
    "The first cell displays all the words, ordered by how associated they are with postive reviews. (Your notebook will most likely truncate the output so you won't actually see *all* the words in the list.)\n",
    "\n",
    "The second cell displays the 30 words most associated with negative reviews by reversing the order of the first list and then looking at the first 30 words. (If you want the second cell to display all the words, ordered by how associated they are with negative reviews, you could just write `reversed(pos_neg_ratios.most_common())`.)\n",
    "\n",
    "You should continue to see values similar to the earlier ones we checked – neutral words will be close to `0`, words will get more positive as their ratios approach and go above `1`, and words will get more negative as their ratios approach and go below `-1`. That's why we decided to use the logs instead of the raw ratios."
   ]
  },
  {
   "cell_type": "code",
   "execution_count": null,
   "metadata": {},
   "outputs": [],
   "source": [
    "# words most frequently seen in a review with a \"POSITIVE\" label\n",
    "pos_neg_ratios.most_common()"
   ]
  },
  {
   "cell_type": "code",
   "execution_count": null,
   "metadata": {},
   "outputs": [],
   "source": [
    "# words most frequently seen in a review with a \"NEGATIVE\" label\n",
    "list(reversed(pos_neg_ratios.most_common()))[0:30]\n",
    "\n",
    "# Note: Above is the code Andrew uses in his solution video, \n",
    "#       so we've included it here to avoid confusion.\n",
    "#       If you explore the documentation for the Counter class, \n",
    "#       you will see you could also find the 30 least common\n",
    "#       words like this: pos_neg_ratios.most_common()[:-31:-1]"
   ]
  },
  {
   "cell_type": "markdown",
   "metadata": {},
   "source": [
    "# End of Project 1. \n",
    "## Watch the next video to see Andrew's solution, then continue on to the next lesson.\n",
    "\n",
    "# Transforming Text into Numbers<a id='lesson_3'></a>\n",
    "The cells here include code Andrew shows in the next video. We've included it so you can run the code along with the video without having to type in everything."
   ]
  },
  {
   "cell_type": "code",
   "execution_count": 7,
   "metadata": {},
   "outputs": [
    {
     "data": {
      "image/png": "[encoded data removed]",
      "text/plain": [
       "<IPython.core.display.Image object>"
      ]
     },
     "execution_count": 7,
     "metadata": {},
     "output_type": "execute_result"
    }
   ],
   "source": [
    "from IPython.display import Image\n",
    "\n",
    "review = \"This was a horrible, terrible movie.\"\n",
    "\n",
    "Image(filename='sentiment_network.png')"
   ]
  },
  {
   "cell_type": "code",
   "execution_count": null,
   "metadata": {},
   "outputs": [],
   "source": [
    "review = \"The movie was excellent\"\n",
    "\n",
    "Image(filename='sentiment_network_pos.png')"
   ]
  },
  {
   "cell_type": "markdown",
   "metadata": {},
   "source": [
    "# Project 2: Creating the Input/Output Data<a id='project_2'></a>\n",
    "\n",
    "**TODO:** Create a [set](https://docs.python.org/3/tutorial/datastructures.html#sets) named `vocab` that contains every word in the vocabulary."
   ]
  },
  {
   "cell_type": "code",
   "execution_count": 8,
   "metadata": {},
   "outputs": [],
   "source": [
    "# TODO: Create set named \"vocab\" containing all of the words from all of the reviews\n",
    "vocab = set(total_counts.keys())"
   ]
  },
  {
   "cell_type": "markdown",
   "metadata": {},
   "source": [
    "Run the following cell to check your vocabulary size. If everything worked correctly, it should print **74074**"
   ]
  },
  {
   "cell_type": "code",
   "execution_count": 9,
   "metadata": {},
   "outputs": [
    {
     "name": "stdout",
     "output_type": "stream",
     "text": [
      "74074\n"
     ]
    }
   ],
   "source": [
    "vocab_size = len(vocab)\n",
    "print(vocab_size)"
   ]
  },
  {
   "cell_type": "markdown",
   "metadata": {},
   "source": [
    "Take a look at the following image. It represents the layers of the neural network you'll be building throughout this notebook. `layer_0` is the input layer, `layer_1` is a hidden layer, and `layer_2` is the output layer."
   ]
  },
  {
   "cell_type": "code",
   "execution_count": null,
   "metadata": {},
   "outputs": [],
   "source": [
    "from IPython.display import Image\n",
    "Image(filename='sentiment_network_2.png')"
   ]
  },
  {
   "cell_type": "markdown",
   "metadata": {},
   "source": [
    "**TODO:** Create a numpy array called `layer_0` and initialize it to all zeros. You will find the [zeros](https://docs.scipy.org/doc/numpy/reference/generated/numpy.zeros.html) function particularly helpful here. Be sure you create `layer_0` as a 2-dimensional matrix with 1 row and `vocab_size` columns. "
   ]
  },
  {
   "cell_type": "code",
   "execution_count": 10,
   "metadata": {},
   "outputs": [],
   "source": [
    "# TODO: Create layer_0 matrix with dimensions 1 by vocab_size, initially filled with zeros\n",
    "layer_0 = np.zeros((1,vocab_size))"
   ]
  },
  {
   "cell_type": "markdown",
   "metadata": {},
   "source": [
    "Run the following cell. It should display `(1, 74074)`"
   ]
  },
  {
   "cell_type": "code",
   "execution_count": 11,
   "metadata": {},
   "outputs": [
    {
     "data": {
      "text/plain": [
       "(1, 74074)"
      ]
     },
     "execution_count": 11,
     "metadata": {},
     "output_type": "execute_result"
    }
   ],
   "source": [
    "layer_0.shape"
   ]
  },
  {
   "cell_type": "code",
   "execution_count": null,
   "metadata": {},
   "outputs": [],
   "source": [
    "from IPython.display import Image\n",
    "Image(filename='sentiment_network.png')"
   ]
  },
  {
   "cell_type": "markdown",
   "metadata": {},
   "source": [
    "`layer_0` contains one entry for every word in the vocabulary, as shown in the above image. We need to make sure we know the index of each word, so run the following cell to create a lookup table that stores the index of every word."
   ]
  },
  {
   "cell_type": "code",
   "execution_count": 12,
   "metadata": {},
   "outputs": [],
   "source": [
    "# Create a dictionary of words in the vocabulary mapped to index positions\n",
    "# (to be used in layer_0)\n",
    "word2index = {}\n",
    "for i,word in enumerate(vocab):\n",
    "    word2index[word] = i\n",
    "    \n",
    "# display the map of words to indices\n",
    "# word2index"
   ]
  },
  {
   "cell_type": "markdown",
   "metadata": {},
   "source": [
    "**TODO:**  Complete the implementation of `update_input_layer`. It should count \n",
    "          how many times each word is used in the given review, and then store\n",
    "          those counts at the appropriate indices inside `layer_0`."
   ]
  },
  {
   "cell_type": "code",
   "execution_count": 13,
   "metadata": {},
   "outputs": [],
   "source": [
    "def update_input_layer(review):\n",
    "    \"\"\" Modify the global layer_0 to represent the vector form of review.\n",
    "    The element at a given index of layer_0 should represent\n",
    "    how many times the given word occurs in the review.\n",
    "    Args:\n",
    "        review(string) - the string of the review\n",
    "    Returns:\n",
    "        None\n",
    "    \"\"\"\n",
    "    global layer_0\n",
    "    # clear out previous state by resetting the layer to be all 0s\n",
    "    layer_0 *= 0\n",
    "    \n",
    "    # TODO: count how many times each word is used in the given review and store the results in layer_0 \n",
    "    for word in review.split(\" \"):\n",
    "        layer_0[0,word2index[word]] += 1  "
   ]
  },
  {
   "cell_type": "raw",
   "metadata": {},
   "source": [
    "Note: created vars for review split and word2index[word] initially"
   ]
  },
  {
   "cell_type": "markdown",
   "metadata": {},
   "source": [
    "Run the following cell to test updating the input layer with the first review. The indices assigned may not be the same as in the solution, but hopefully you'll see some non-zero values in `layer_0`.  "
   ]
  },
  {
   "cell_type": "code",
   "execution_count": 14,
   "metadata": {},
   "outputs": [
    {
     "data": {
      "text/plain": [
       "array([[18.,  0.,  0., ...,  0.,  0.,  0.]])"
      ]
     },
     "execution_count": 14,
     "metadata": {},
     "output_type": "execute_result"
    }
   ],
   "source": [
    "update_input_layer(reviews[0])\n",
    "layer_0"
   ]
  },
  {
   "cell_type": "markdown",
   "metadata": {},
   "source": [
    "**TODO:** Complete the implementation of `get_target_for_labels`. It should return `0` or `1`, \n",
    "          depending on whether the given label is `NEGATIVE` or `POSITIVE`, respectively."
   ]
  },
  {
   "cell_type": "code",
   "execution_count": 15,
   "metadata": {},
   "outputs": [],
   "source": [
    "def get_target_for_label(label):\n",
    "    \"\"\"Convert a label to `0` or `1`.\n",
    "    Args:\n",
    "        label(string) - Either \"POSITIVE\" or \"NEGATIVE\".\n",
    "    Returns:\n",
    "        `0` or `1`.\n",
    "    \"\"\"\n",
    "    # TODO: Your code here\n",
    "    if label == 'POSITIVE':\n",
    "        return 1\n",
    "    else: return 0"
   ]
  },
  {
   "cell_type": "markdown",
   "metadata": {},
   "source": [
    "Run the following two cells. They should print out`'POSITIVE'` and `1`, respectively."
   ]
  },
  {
   "cell_type": "code",
   "execution_count": null,
   "metadata": {},
   "outputs": [],
   "source": [
    "labels[0]"
   ]
  },
  {
   "cell_type": "code",
   "execution_count": null,
   "metadata": {},
   "outputs": [],
   "source": [
    "get_target_for_label(labels[0])"
   ]
  },
  {
   "cell_type": "markdown",
   "metadata": {},
   "source": [
    "Run the following two cells. They should print out `'NEGATIVE'` and `0`, respectively."
   ]
  },
  {
   "cell_type": "code",
   "execution_count": null,
   "metadata": {},
   "outputs": [],
   "source": [
    "labels[1]"
   ]
  },
  {
   "cell_type": "code",
   "execution_count": null,
   "metadata": {},
   "outputs": [],
   "source": [
    "get_target_for_label(labels[1])"
   ]
  },
  {
   "cell_type": "markdown",
   "metadata": {},
   "source": [
    "# End of Project 2. \n",
    "## Watch the next video to see Andrew's solution, then continue on to the next lesson."
   ]
  },
  {
   "cell_type": "markdown",
   "metadata": {},
   "source": [
    "# Project 3: Building a Neural Network<a id='project_3'></a>"
   ]
  },
  {
   "cell_type": "markdown",
   "metadata": {},
   "source": [
    "**TODO:** We've included the framework of a class called `SentimentNetork`. Implement all of the items marked `TODO` in the code. These include doing the following:\n",
    "- Create a basic neural network much like the networks you've seen in earlier lessons and in Project 1, with an input layer, a hidden layer, and an output layer. \n",
    "- Do **not** add a non-linearity in the hidden layer. That is, do not use an activation function when calculating the hidden layer outputs.\n",
    "- Re-use the code from earlier in this notebook to create the training data (see `TODO`s in the code)\n",
    "- Implement the `pre_process_data` function to create the vocabulary for our training data generating functions\n",
    "- Ensure `train` trains over the entire corpus"
   ]
  },
  {
   "cell_type": "markdown",
   "metadata": {},
   "source": [
    "### Where to Get Help if You Need it\n",
    "- Re-watch earlier Udacity lectures\n",
    "- Chapters 3-5 - [Grokking Deep Learning](https://www.manning.com/books/grokking-deep-learning) - (Check inside your classroom for a discount code)"
   ]
  },
  {
   "cell_type": "code",
   "execution_count": 16,
   "metadata": {},
   "outputs": [],
   "source": [
    "import time\n",
    "import sys\n",
    "import numpy as np\n",
    "\n",
    "# Encapsulate our neural network in a class\n",
    "class SentimentNetwork:\n",
    "    def __init__(self, reviews, labels, hidden_nodes = 10, learning_rate = 0.1):\n",
    "        \"\"\"Create a SentimenNetwork with the given settings\n",
    "        Args:\n",
    "            reviews(list) - List of reviews used for training\n",
    "            labels(list) - List of POSITIVE/NEGATIVE labels associated with the given reviews\n",
    "            hidden_nodes(int) - Number of nodes to create in the hidden layer\n",
    "            learning_rate(float) - Learning rate to use while training\n",
    "        \n",
    "        \"\"\"\n",
    "        # Assign a seed to our random number generator to ensure we get\n",
    "        # reproducable results during development \n",
    "        np.random.seed(1)\n",
    "\n",
    "        # process the reviews and their associated labels so that everything\n",
    "        # is ready for training\n",
    "        self.pre_process_data(reviews, labels)\n",
    "        \n",
    "        # Build the network to have the number of hidden nodes and the learning rate that\n",
    "        # were passed into this initializer. Make the same number of input nodes as\n",
    "        # there are vocabulary words and create a single output node.\n",
    "        self.init_network(len(self.review_vocab),hidden_nodes, 1, learning_rate)\n",
    "\n",
    "    def pre_process_data(self, reviews, labels):\n",
    "        \n",
    "        review_vocab = set()\n",
    "        # TODO: populate review_vocab with all of the words in the given reviews\n",
    "        #       Remember to split reviews into individual words \n",
    "        #       using \"split(' ')\" instead of \"split()\".\n",
    "        for review in reviews:\n",
    "            review_vocab.update(review.split(\" \"))   \n",
    "        # Convert the vocabulary set to a list so we can access words via indices\n",
    "        self.review_vocab = list(review_vocab)\n",
    "        \n",
    "        label_vocab = set()\n",
    "        # TODO: populate label_vocab with all of the words in the given labels.\n",
    "        #       There is no need to split the labels because each one is a single word.\n",
    "        for label in labels:\n",
    "            label_vocab.update(label)\n",
    "        # Convert the label vocabulary set to a list so we can access labels via indices\n",
    "        self.label_vocab = list(label_vocab)\n",
    "        \n",
    "        # Store the sizes of the review and label vocabularies.\n",
    "        self.review_vocab_size = len(self.review_vocab)\n",
    "        self.label_vocab_size = len(self.label_vocab)\n",
    "        \n",
    "        # Create a dictionary of words in the vocabulary mapped to index positions\n",
    "        self.word2index = {}\n",
    "        # TODO: populate self.word2index with indices for all the words in self.review_vocab\n",
    "        #       like you saw earlier in the notebook\n",
    "        for i, word in enumerate(self.review_vocab):\n",
    "            self.word2index[word] = i  \n",
    "        # Create a dictionary of labels mapped to index positions\n",
    "        self.label2index = {}\n",
    "        # TODO: do the same thing you did for self.word2index and self.review_vocab, \n",
    "        #       but for self.label2index and self.label_vocab instead\n",
    "        for i, label in enumerate(self.label_vocab):\n",
    "            self.label2index[label] = i     \n",
    "        \n",
    "    def init_network(self, input_nodes, hidden_nodes, output_nodes, learning_rate):\n",
    "        # Store the number of nodes in input, hidden, and output layers.\n",
    "        self.input_nodes = input_nodes\n",
    "        self.hidden_nodes = hidden_nodes\n",
    "        self.output_nodes = output_nodes\n",
    "\n",
    "        # Store the learning rate\n",
    "        self.learning_rate = learning_rate\n",
    "\n",
    "        # Initialize weights\n",
    "        \n",
    "        # TODO: initialize self.weights_0_1 as a matrix of zeros. These are the weights between\n",
    "        #       the input layer and the hidden layer.\n",
    "        self.weights_0_1 = np.zeros((self.input_nodes, self.hidden_nodes))\n",
    "        \n",
    "        # TODO: initialize self.weights_1_2 as a matrix of random values. \n",
    "        #       These are the weights between the hidden layer and the output layer.\n",
    "        self.weights_1_2 = np.random.normal(0.0, self.output_nodes ** -0.5,\n",
    "                                                (self.hidden_nodes, self.output_nodes))\n",
    "        \n",
    "        # TODO: Create the input layer, a two-dimensional matrix with shape \n",
    "        #       1 x input_nodes, with all values initialized to zero\n",
    "        self.layer_0 = np.zeros((1,input_nodes))\n",
    "    \n",
    "        \n",
    "    def update_input_layer(self,review):\n",
    "        # TODO: You can copy most of the code you wrote for update_input_layer \n",
    "        #       earlier in this notebook. \n",
    "        #\n",
    "        #       However, MAKE SURE YOU CHANGE ALL VARIABLES TO REFERENCE\n",
    "        #       THE VERSIONS STORED IN THIS OBJECT, NOT THE GLOBAL OBJECTS.\n",
    "        #       For example, replace \"layer_0 *= 0\" with \"self.layer_0 *= 0\"\n",
    "        self.layer_0 *= 0\n",
    "        for word in review.split(\" \"):\n",
    "            if word in self.word2index.keys():\n",
    "                self.layer_0[0, self.word2index[word]] += 1\n",
    "                \n",
    "    def get_target_for_label(self,label):\n",
    "        # TODO: Copy the code you wrote for get_target_for_label \n",
    "        #       earlier in this notebook. \n",
    "        if label == 'POSITIVE':\n",
    "            return 1\n",
    "        else: return 0\n",
    "        \n",
    "    def sigmoid(self,x):\n",
    "        # TODO: Return the result of calculating the sigmoid activation function\n",
    "        #       shown in the lectures\n",
    "        return 1/(1 + np.exp(-x)) \n",
    "    \n",
    "    def sigmoid_output_2_derivative(self,output):\n",
    "        # TODO: Return the derivative of the sigmoid activation function, \n",
    "        #       where \"output\" is the original output from the sigmoid fucntion \n",
    "        return output * (1 - output)\n",
    "\n",
    "    def train(self, training_reviews, training_labels):\n",
    "        \n",
    "        # make sure out we have a matching number of reviews and labels\n",
    "        assert(len(training_reviews) == len(training_labels))\n",
    "        \n",
    "        # Keep track of correct predictions to display accuracy during training \n",
    "        correct_so_far = 0\n",
    "        \n",
    "        # Remember when we started for printing time statistics\n",
    "        start = time.time()\n",
    "\n",
    "        # loop through all the given reviews and run a forward and backward pass,\n",
    "        # updating weights for every item\n",
    "        for i in range(len(training_reviews)):\n",
    "            \n",
    "            # TODO: Get the next review and its correct label\n",
    "            label = self.get_target_for_label(training_labels[i])\n",
    "            # Input layer\n",
    "            self.update_input_layer(training_reviews[i])\n",
    "            \n",
    "            # TODO: Implement the forward pass through the network. \n",
    "            #       That means use the given review to update the input layer, \n",
    "            #       then calculate values for the hidden layer,\n",
    "            #       and finally calculate the output layer.\n",
    "            # \n",
    "            #       Do not use an activation function for the hidden layer,\n",
    "            #       but use the sigmoid activation function for the output layer.\n",
    "            \n",
    "            # Input to hidden layer\n",
    "            input_to_hidden = np.dot(self.layer_0, self.weights_0_1)\n",
    "            # Output of hidden layer\n",
    "            hidden_output = self.sigmoid(np.dot(input_to_hidden, self.weights_1_2))\n",
    "            \n",
    "            # TODO: Implement the back propagation pass here. \n",
    "            #       That means calculate the error for the forward pass's prediction\n",
    "            #       and update the weights in the network according to their\n",
    "            #       contributions toward the error, as calculated via the\n",
    "            #       gradient descent and back propagation algorithms you \n",
    "            #       learned in class.\n",
    "            \n",
    "            # Calculating the errors\n",
    "            layer_2_error = label - hidden_output\n",
    "            layer_2_delta = layer_2_error * self.sigmoid_output_2_derivative(hidden_output)\n",
    "            layer_1_delta = np.dot(layer_2_delta, self.weights_1_2.T)\n",
    "            # Calculatin the delta for weights\n",
    "            delta_weights_1_2 = self.learning_rate * input_to_hidden.T.dot(layer_2_delta)\n",
    "            delta_weights_0_1 = self.learning_rate * self.layer_0.T.dot(layer_1_delta)\n",
    "            # Updating the weights\n",
    "            self.weights_1_2 += delta_weights_1_2\n",
    "            self.weights_0_1 += delta_weights_0_1\n",
    "            \n",
    "            # TODO: Keep track of correct predictions. To determine if the prediction was\n",
    "            #       correct, check that the absolute value of the output error \n",
    "            #       is less than 0.5. If so, add one to the correct_so_far count.\n",
    "            if np.abs(layer_2_error) < 0.5:\n",
    "                correct_so_far += 1\n",
    "                \n",
    "            # For debug purposes, print out our prediction accuracy and speed \n",
    "            # throughout the training process. \n",
    "\n",
    "            elapsed_time = float(time.time() - start)\n",
    "            reviews_per_second = i / elapsed_time if elapsed_time > 0 else 0\n",
    "            \n",
    "            sys.stdout.write(\"\\rProgress:\" + str(100 * i/float(len(training_reviews)))[:4] \\\n",
    "                             + \"% Speed(reviews/sec):\" + str(reviews_per_second)[0:5] \\\n",
    "                             + \" #Correct:\" + str(correct_so_far) + \" #Trained:\" + str(i+1) \\\n",
    "                             + \" Training Accuracy:\" + str(correct_so_far * 100 / float(i+1))[:4] + \"%\")\n",
    "            if(i % 2500 == 0):\n",
    "                print(\"\")\n",
    "    \n",
    "    def test(self, testing_reviews, testing_labels):\n",
    "        \"\"\"\n",
    "        Attempts to predict the labels for the given testing_reviews,\n",
    "        and uses the test_labels to calculate the accuracy of those predictions.\n",
    "        \"\"\"\n",
    "        \n",
    "        # keep track of how many correct predictions we make\n",
    "        correct = 0\n",
    "\n",
    "        # we'll time how many predictions per second we make\n",
    "        start = time.time()\n",
    "\n",
    "        # Loop through each of the given reviews and call run to predict\n",
    "        # its label. \n",
    "        for i in range(len(testing_reviews)):\n",
    "            pred = self.run(testing_reviews[i])\n",
    "            if(pred == testing_labels[i]):\n",
    "                correct += 1\n",
    "            \n",
    "            # For debug purposes, print out our prediction accuracy and speed \n",
    "            # throughout the prediction process. \n",
    "\n",
    "            elapsed_time = float(time.time() - start)\n",
    "            reviews_per_second = i / elapsed_time if elapsed_time > 0 else 0\n",
    "            \n",
    "            sys.stdout.write(\"\\rProgress:\" + str(100 * i/float(len(testing_reviews)))[:4] \\\n",
    "                             + \"% Speed(reviews/sec):\" + str(reviews_per_second)[0:5] \\\n",
    "                             + \" #Correct:\" + str(correct) + \" #Tested:\" + str(i+1) \\\n",
    "                             + \" Testing Accuracy:\" + str(correct * 100 / float(i+1))[:4] + \"%\")\n",
    "    \n",
    "    def run(self, review):\n",
    "        \"\"\"\n",
    "        Returns a POSITIVE or NEGATIVE prediction for the given review.\n",
    "        \"\"\"\n",
    "        # TODO: Run a forward pass through the network, like you did in the\n",
    "        #       \"train\" function. That means use the given review to \n",
    "        #       update the input layer, then calculate values for the hidden layer,\n",
    "        #       and finally calculate the output layer.\n",
    "        #\n",
    "        #       Note: The review passed into this function for prediction \n",
    "        #             might come from anywhere, so you should convert it \n",
    "        #             to lower case prior to using it.\n",
    "        self.update_input_layer(review.lower())\n",
    "        layer_1 = np.dot(self.layer_0, self.weights_0_1)\n",
    "        output = self.sigmoid(np.dot(layer_1, self.weights_1_2))\n",
    "        # TODO: The output layer should now contain a prediction. \n",
    "        #       Return `POSITIVE` for predictions greater-than-or-equal-to `0.5`, \n",
    "        #       and `NEGATIVE` otherwise.\n",
    "        if output >= 0.5:\n",
    "            return \"POSITIVE\"\n",
    "        else:\n",
    "            return \"NEGATIVE\"\n"
   ]
  },
  {
   "cell_type": "markdown",
   "metadata": {},
   "source": [
    "Run the following cell to create a `SentimentNetwork` that will train on all but the last 1000 reviews (we're saving those for testing). Here we use a learning rate of `0.1`."
   ]
  },
  {
   "cell_type": "code",
   "execution_count": 17,
   "metadata": {},
   "outputs": [],
   "source": [
    "mlp = SentimentNetwork(reviews[:-1000],labels[:-1000], learning_rate=0.1)"
   ]
  },
  {
   "cell_type": "markdown",
   "metadata": {},
   "source": [
    "Run the following cell to test the network's performance against the last 1000 reviews (the ones we held out from our training set). \n",
    "\n",
    "**We have not trained the model yet, so the results should be about 50% as it will just be guessing and there are only two possible values to choose from.**"
   ]
  },
  {
   "cell_type": "code",
   "execution_count": 18,
   "metadata": {},
   "outputs": [
    {
     "name": "stdout",
     "output_type": "stream",
     "text": [
      "\r",
      "Progress:0.0% Speed(reviews/sec):0.0 #Correct:1 #Tested:1 Testing Accuracy:100.%\r",
      "Progress:0.1% Speed(reviews/sec):26.09 #Correct:1 #Tested:2 Testing Accuracy:50.0%\r",
      "Progress:0.2% Speed(reviews/sec):50.00 #Correct:2 #Tested:3 Testing Accuracy:66.6%\r",
      "Progress:0.3% Speed(reviews/sec):69.90 #Correct:2 #Tested:4 Testing Accuracy:50.0%\r",
      "Progress:0.4% Speed(reviews/sec):88.85 #Correct:3 #Tested:5 Testing Accuracy:60.0%\r",
      "Progress:0.5% Speed(reviews/sec):106.9 #Correct:3 #Tested:6 Testing Accuracy:50.0%\r",
      "Progress:0.6% Speed(reviews/sec):121.3 #Correct:4 #Tested:7 Testing Accuracy:57.1%\r",
      "Progress:0.7% Speed(reviews/sec):136.9 #Correct:4 #Tested:8 Testing Accuracy:50.0%\r",
      "Progress:0.8% Speed(reviews/sec):152.3 #Correct:5 #Tested:9 Testing Accuracy:55.5%\r",
      "Progress:0.9% Speed(reviews/sec):158.7 #Correct:5 #Tested:10 Testing Accuracy:50.0%\r",
      "Progress:1.0% Speed(reviews/sec):169.0 #Correct:6 #Tested:11 Testing Accuracy:54.5%\r",
      "Progress:1.1% Speed(reviews/sec):181.9 #Correct:6 #Tested:12 Testing Accuracy:50.0%\r",
      "Progress:1.2% Speed(reviews/sec):194.1 #Correct:7 #Tested:13 Testing Accuracy:53.8%\r",
      "Progress:1.3% Speed(reviews/sec):205.0 #Correct:7 #Tested:14 Testing Accuracy:50.0%\r",
      "Progress:1.4% Speed(reviews/sec):215.6 #Correct:8 #Tested:15 Testing Accuracy:53.3%\r",
      "Progress:1.5% Speed(reviews/sec):225.4 #Correct:8 #Tested:16 Testing Accuracy:50.0%\r",
      "Progress:1.6% Speed(reviews/sec):230.5 #Correct:9 #Tested:17 Testing Accuracy:52.9%\r",
      "Progress:1.7% Speed(reviews/sec):237.2 #Correct:9 #Tested:18 Testing Accuracy:50.0%\r",
      "Progress:1.8% Speed(reviews/sec):245.3 #Correct:10 #Tested:19 Testing Accuracy:52.6%\r",
      "Progress:1.9% Speed(reviews/sec):251.2 #Correct:10 #Tested:20 Testing Accuracy:50.0%\r",
      "Progress:2.0% Speed(reviews/sec):258.1 #Correct:11 #Tested:21 Testing Accuracy:52.3%\r",
      "Progress:2.1% Speed(reviews/sec):265.8 #Correct:11 #Tested:22 Testing Accuracy:50.0%\r",
      "Progress:2.2% Speed(reviews/sec):272.2 #Correct:12 #Tested:23 Testing Accuracy:52.1%\r",
      "Progress:2.3% Speed(reviews/sec):278.7 #Correct:12 #Tested:24 Testing Accuracy:50.0%\r",
      "Progress:2.4% Speed(reviews/sec):284.3 #Correct:13 #Tested:25 Testing Accuracy:52.0%\r",
      "Progress:2.5% Speed(reviews/sec):291.8 #Correct:13 #Tested:26 Testing Accuracy:50.0%\r",
      "Progress:2.6% Speed(reviews/sec):299.3 #Correct:14 #Tested:27 Testing Accuracy:51.8%\r",
      "Progress:2.7% Speed(reviews/sec):297.6 #Correct:14 #Tested:28 Testing Accuracy:50.0%\r",
      "Progress:2.8% Speed(reviews/sec):303.5 #Correct:15 #Tested:29 Testing Accuracy:51.7%\r",
      "Progress:2.9% Speed(reviews/sec):309.3 #Correct:15 #Tested:30 Testing Accuracy:50.0%\r",
      "Progress:3.0% Speed(reviews/sec):314.5 #Correct:16 #Tested:31 Testing Accuracy:51.6%\r",
      "Progress:3.1% Speed(reviews/sec):320.9 #Correct:16 #Tested:32 Testing Accuracy:50.0%\r",
      "Progress:3.2% Speed(reviews/sec):326.6 #Correct:17 #Tested:33 Testing Accuracy:51.5%\r",
      "Progress:3.3% Speed(reviews/sec):331.1 #Correct:17 #Tested:34 Testing Accuracy:50.0%\r",
      "Progress:3.4% Speed(reviews/sec):334.8 #Correct:18 #Tested:35 Testing Accuracy:51.4%\r",
      "Progress:3.5% Speed(reviews/sec):340.0 #Correct:18 #Tested:36 Testing Accuracy:50.0%\r",
      "Progress:3.6% Speed(reviews/sec):343.8 #Correct:19 #Tested:37 Testing Accuracy:51.3%\r",
      "Progress:3.7% Speed(reviews/sec):349.2 #Correct:19 #Tested:38 Testing Accuracy:50.0%\r",
      "Progress:3.8% Speed(reviews/sec):352.9 #Correct:20 #Tested:39 Testing Accuracy:51.2%\r",
      "Progress:3.9% Speed(reviews/sec):356.2 #Correct:20 #Tested:40 Testing Accuracy:50.0%\r",
      "Progress:4.0% Speed(reviews/sec):361.0 #Correct:21 #Tested:41 Testing Accuracy:51.2%\r",
      "Progress:4.1% Speed(reviews/sec):365.7 #Correct:21 #Tested:42 Testing Accuracy:50.0%\r",
      "Progress:4.2% Speed(reviews/sec):367.7 #Correct:22 #Tested:43 Testing Accuracy:51.1%\r",
      "Progress:4.3% Speed(reviews/sec):371.1 #Correct:22 #Tested:44 Testing Accuracy:50.0%\r",
      "Progress:4.4% Speed(reviews/sec):373.4 #Correct:23 #Tested:45 Testing Accuracy:51.1%\r",
      "Progress:4.5% Speed(reviews/sec):373.9 #Correct:23 #Tested:46 Testing Accuracy:50.0%\r",
      "Progress:4.6% Speed(reviews/sec):376.4 #Correct:24 #Tested:47 Testing Accuracy:51.0%\r",
      "Progress:4.7% Speed(reviews/sec):380.9 #Correct:24 #Tested:48 Testing Accuracy:50.0%\r",
      "Progress:4.8% Speed(reviews/sec):384.0 #Correct:25 #Tested:49 Testing Accuracy:51.0%\r",
      "Progress:4.9% Speed(reviews/sec):388.1 #Correct:25 #Tested:50 Testing Accuracy:50.0%\r",
      "Progress:5.0% Speed(reviews/sec):392.3 #Correct:26 #Tested:51 Testing Accuracy:50.9%\r",
      "Progress:5.1% Speed(reviews/sec):396.6 #Correct:26 #Tested:52 Testing Accuracy:50.0%\r",
      "Progress:5.2% Speed(reviews/sec):399.1 #Correct:27 #Tested:53 Testing Accuracy:50.9%\r",
      "Progress:5.3% Speed(reviews/sec):402.1 #Correct:27 #Tested:54 Testing Accuracy:50.0%\r",
      "Progress:5.4% Speed(reviews/sec):405.5 #Correct:28 #Tested:55 Testing Accuracy:50.9%\r",
      "Progress:5.5% Speed(reviews/sec):409.3 #Correct:28 #Tested:56 Testing Accuracy:50.0%\r",
      "Progress:5.6% Speed(reviews/sec):409.6 #Correct:29 #Tested:57 Testing Accuracy:50.8%\r",
      "Progress:5.7% Speed(reviews/sec):413.5 #Correct:29 #Tested:58 Testing Accuracy:50.0%\r",
      "Progress:5.8% Speed(reviews/sec):417.0 #Correct:30 #Tested:59 Testing Accuracy:50.8%\r",
      "Progress:5.9% Speed(reviews/sec):420.5 #Correct:30 #Tested:60 Testing Accuracy:50.0%\r",
      "Progress:6.0% Speed(reviews/sec):422.4 #Correct:31 #Tested:61 Testing Accuracy:50.8%\r",
      "Progress:6.1% Speed(reviews/sec):425.0 #Correct:31 #Tested:62 Testing Accuracy:50.0%\r",
      "Progress:6.2% Speed(reviews/sec):428.7 #Correct:32 #Tested:63 Testing Accuracy:50.7%\r",
      "Progress:6.3% Speed(reviews/sec):432.0 #Correct:32 #Tested:64 Testing Accuracy:50.0%\r",
      "Progress:6.4% Speed(reviews/sec):433.5 #Correct:33 #Tested:65 Testing Accuracy:50.7%\r",
      "Progress:6.5% Speed(reviews/sec):436.7 #Correct:33 #Tested:66 Testing Accuracy:50.0%\r",
      "Progress:6.6% Speed(reviews/sec):439.5 #Correct:34 #Tested:67 Testing Accuracy:50.7%\r",
      "Progress:6.7% Speed(reviews/sec):442.1 #Correct:34 #Tested:68 Testing Accuracy:50.0%\r",
      "Progress:6.8% Speed(reviews/sec):444.8 #Correct:35 #Tested:69 Testing Accuracy:50.7%\r",
      "Progress:6.9% Speed(reviews/sec):446.9 #Correct:35 #Tested:70 Testing Accuracy:50.0%\r",
      "Progress:7.0% Speed(reviews/sec):448.3 #Correct:36 #Tested:71 Testing Accuracy:50.7%\r",
      "Progress:7.1% Speed(reviews/sec):451.5 #Correct:36 #Tested:72 Testing Accuracy:50.0%\r",
      "Progress:7.2% Speed(reviews/sec):448.7 #Correct:37 #Tested:73 Testing Accuracy:50.6%\r",
      "Progress:7.3% Speed(reviews/sec):449.9 #Correct:37 #Tested:74 Testing Accuracy:50.0%\r",
      "Progress:7.4% Speed(reviews/sec):452.5 #Correct:38 #Tested:75 Testing Accuracy:50.6%\r",
      "Progress:7.5% Speed(reviews/sec):454.8 #Correct:38 #Tested:76 Testing Accuracy:50.0%\r",
      "Progress:7.6% Speed(reviews/sec):457.5 #Correct:39 #Tested:77 Testing Accuracy:50.6%\r",
      "Progress:7.7% Speed(reviews/sec):460.0 #Correct:39 #Tested:78 Testing Accuracy:50.0%\r",
      "Progress:7.8% Speed(reviews/sec):462.4 #Correct:40 #Tested:79 Testing Accuracy:50.6%\r",
      "Progress:7.9% Speed(reviews/sec):464.7 #Correct:40 #Tested:80 Testing Accuracy:50.0%\r",
      "Progress:8.0% Speed(reviews/sec):467.0 #Correct:41 #Tested:81 Testing Accuracy:50.6%\r",
      "Progress:8.1% Speed(reviews/sec):465.7 #Correct:41 #Tested:82 Testing Accuracy:50.0%\r",
      "Progress:8.2% Speed(reviews/sec):467.5 #Correct:42 #Tested:83 Testing Accuracy:50.6%\r",
      "Progress:8.3% Speed(reviews/sec):469.6 #Correct:42 #Tested:84 Testing Accuracy:50.0%\r",
      "Progress:8.4% Speed(reviews/sec):472.3 #Correct:43 #Tested:85 Testing Accuracy:50.5%\r",
      "Progress:8.5% Speed(reviews/sec):474.4 #Correct:43 #Tested:86 Testing Accuracy:50.0%\r",
      "Progress:8.6% Speed(reviews/sec):475.7 #Correct:44 #Tested:87 Testing Accuracy:50.5%\r",
      "Progress:8.7% Speed(reviews/sec):478.0 #Correct:44 #Tested:88 Testing Accuracy:50.0%\r",
      "Progress:8.8% Speed(reviews/sec):480.2 #Correct:45 #Tested:89 Testing Accuracy:50.5%\r",
      "Progress:8.9% Speed(reviews/sec):479.8 #Correct:45 #Tested:90 Testing Accuracy:50.0%\r",
      "Progress:9.0% Speed(reviews/sec):481.3 #Correct:46 #Tested:91 Testing Accuracy:50.5%\r",
      "Progress:9.1% Speed(reviews/sec):483.3 #Correct:46 #Tested:92 Testing Accuracy:50.0%\r",
      "Progress:9.2% Speed(reviews/sec):485.2 #Correct:47 #Tested:93 Testing Accuracy:50.5%\r",
      "Progress:9.3% Speed(reviews/sec):487.1 #Correct:47 #Tested:94 Testing Accuracy:50.0%\r",
      "Progress:9.4% Speed(reviews/sec):489.2 #Correct:48 #Tested:95 Testing Accuracy:50.5%\r",
      "Progress:9.5% Speed(reviews/sec):490.7 #Correct:48 #Tested:96 Testing Accuracy:50.0%\r",
      "Progress:9.6% Speed(reviews/sec):492.2 #Correct:49 #Tested:97 Testing Accuracy:50.5%\r",
      "Progress:9.7% Speed(reviews/sec):493.4 #Correct:49 #Tested:98 Testing Accuracy:50.0%\r",
      "Progress:9.8% Speed(reviews/sec):495.4 #Correct:50 #Tested:99 Testing Accuracy:50.5%\r",
      "Progress:9.9% Speed(reviews/sec):497.5 #Correct:50 #Tested:100 Testing Accuracy:50.0%\r",
      "Progress:10.0% Speed(reviews/sec):499.4 #Correct:51 #Tested:101 Testing Accuracy:50.4%\r",
      "Progress:10.1% Speed(reviews/sec):501.1 #Correct:51 #Tested:102 Testing Accuracy:50.0%\r",
      "Progress:10.2% Speed(reviews/sec):502.8 #Correct:52 #Tested:103 Testing Accuracy:50.4%\r",
      "Progress:10.3% Speed(reviews/sec):503.2 #Correct:52 #Tested:104 Testing Accuracy:50.0%\r",
      "Progress:10.4% Speed(reviews/sec):504.8 #Correct:53 #Tested:105 Testing Accuracy:50.4%\r",
      "Progress:10.5% Speed(reviews/sec):507.0 #Correct:53 #Tested:106 Testing Accuracy:50.0%\r",
      "Progress:10.6% Speed(reviews/sec):508.2 #Correct:54 #Tested:107 Testing Accuracy:50.4%\r",
      "Progress:10.7% Speed(reviews/sec):509.8 #Correct:54 #Tested:108 Testing Accuracy:50.0%\r",
      "Progress:10.8% Speed(reviews/sec):511.6 #Correct:55 #Tested:109 Testing Accuracy:50.4%\r",
      "Progress:10.9% Speed(reviews/sec):513.4 #Correct:55 #Tested:110 Testing Accuracy:50.0%\r",
      "Progress:11.0% Speed(reviews/sec):514.8 #Correct:56 #Tested:111 Testing Accuracy:50.4%\r",
      "Progress:11.1% Speed(reviews/sec):516.3 #Correct:56 #Tested:112 Testing Accuracy:50.0%\r",
      "Progress:11.2% Speed(reviews/sec):517.6 #Correct:57 #Tested:113 Testing Accuracy:50.4%\r",
      "Progress:11.3% Speed(reviews/sec):518.4 #Correct:57 #Tested:114 Testing Accuracy:50.0%\r",
      "Progress:11.4% Speed(reviews/sec):519.7 #Correct:58 #Tested:115 Testing Accuracy:50.4%\r",
      "Progress:11.5% Speed(reviews/sec):521.3 #Correct:58 #Tested:116 Testing Accuracy:50.0%\r",
      "Progress:11.6% Speed(reviews/sec):522.8 #Correct:59 #Tested:117 Testing Accuracy:50.4%\r",
      "Progress:11.7% Speed(reviews/sec):523.8 #Correct:59 #Tested:118 Testing Accuracy:50.0%\r",
      "Progress:11.8% Speed(reviews/sec):525.4 #Correct:60 #Tested:119 Testing Accuracy:50.4%\r",
      "Progress:11.9% Speed(reviews/sec):526.5 #Correct:60 #Tested:120 Testing Accuracy:50.0%\r",
      "Progress:12.0% Speed(reviews/sec):527.8 #Correct:61 #Tested:121 Testing Accuracy:50.4%\r",
      "Progress:12.1% Speed(reviews/sec):529.3 #Correct:61 #Tested:122 Testing Accuracy:50.0%\r",
      "Progress:12.2% Speed(reviews/sec):530.7 #Correct:62 #Tested:123 Testing Accuracy:50.4%\r",
      "Progress:12.3% Speed(reviews/sec):531.1 #Correct:62 #Tested:124 Testing Accuracy:50.0%\r",
      "Progress:12.4% Speed(reviews/sec):532.1 #Correct:63 #Tested:125 Testing Accuracy:50.4%\r",
      "Progress:12.5% Speed(reviews/sec):533.2 #Correct:63 #Tested:126 Testing Accuracy:50.0%\r",
      "Progress:12.6% Speed(reviews/sec):534.9 #Correct:64 #Tested:127 Testing Accuracy:50.3%\r",
      "Progress:12.7% Speed(reviews/sec):535.6 #Correct:64 #Tested:128 Testing Accuracy:50.0%"
     ]
    },
    {
     "name": "stdout",
     "output_type": "stream",
     "text": [
      "\r",
      "Progress:12.8% Speed(reviews/sec):536.2 #Correct:65 #Tested:129 Testing Accuracy:50.3%\r",
      "Progress:12.9% Speed(reviews/sec):536.4 #Correct:65 #Tested:130 Testing Accuracy:50.0%\r",
      "Progress:13.0% Speed(reviews/sec):537.2 #Correct:66 #Tested:131 Testing Accuracy:50.3%\r",
      "Progress:13.1% Speed(reviews/sec):538.1 #Correct:66 #Tested:132 Testing Accuracy:50.0%\r",
      "Progress:13.2% Speed(reviews/sec):539.2 #Correct:67 #Tested:133 Testing Accuracy:50.3%\r",
      "Progress:13.3% Speed(reviews/sec):540.2 #Correct:67 #Tested:134 Testing Accuracy:50.0%\r",
      "Progress:13.4% Speed(reviews/sec):539.9 #Correct:68 #Tested:135 Testing Accuracy:50.3%\r",
      "Progress:13.5% Speed(reviews/sec):539.7 #Correct:68 #Tested:136 Testing Accuracy:50.0%\r",
      "Progress:13.6% Speed(reviews/sec):540.7 #Correct:69 #Tested:137 Testing Accuracy:50.3%\r",
      "Progress:13.7% Speed(reviews/sec):541.6 #Correct:69 #Tested:138 Testing Accuracy:50.0%\r",
      "Progress:13.8% Speed(reviews/sec):541.7 #Correct:70 #Tested:139 Testing Accuracy:50.3%\r",
      "Progress:13.9% Speed(reviews/sec):540.0 #Correct:70 #Tested:140 Testing Accuracy:50.0%\r",
      "Progress:14.0% Speed(reviews/sec):541.4 #Correct:71 #Tested:141 Testing Accuracy:50.3%\r",
      "Progress:14.1% Speed(reviews/sec):541.6 #Correct:71 #Tested:142 Testing Accuracy:50.0%\r",
      "Progress:14.2% Speed(reviews/sec):542.6 #Correct:72 #Tested:143 Testing Accuracy:50.3%\r",
      "Progress:14.3% Speed(reviews/sec):543.5 #Correct:72 #Tested:144 Testing Accuracy:50.0%\r",
      "Progress:14.4% Speed(reviews/sec):543.0 #Correct:73 #Tested:145 Testing Accuracy:50.3%\r",
      "Progress:14.5% Speed(reviews/sec):543.8 #Correct:73 #Tested:146 Testing Accuracy:50.0%\r",
      "Progress:14.6% Speed(reviews/sec):543.1 #Correct:74 #Tested:147 Testing Accuracy:50.3%\r",
      "Progress:14.7% Speed(reviews/sec):543.7 #Correct:74 #Tested:148 Testing Accuracy:50.0%\r",
      "Progress:14.8% Speed(reviews/sec):543.8 #Correct:75 #Tested:149 Testing Accuracy:50.3%\r",
      "Progress:14.9% Speed(reviews/sec):544.5 #Correct:75 #Tested:150 Testing Accuracy:50.0%\r",
      "Progress:15.0% Speed(reviews/sec):545.4 #Correct:76 #Tested:151 Testing Accuracy:50.3%\r",
      "Progress:15.1% Speed(reviews/sec):546.3 #Correct:76 #Tested:152 Testing Accuracy:50.0%\r",
      "Progress:15.2% Speed(reviews/sec):545.4 #Correct:77 #Tested:153 Testing Accuracy:50.3%\r",
      "Progress:15.3% Speed(reviews/sec):544.6 #Correct:77 #Tested:154 Testing Accuracy:50.0%\r",
      "Progress:15.4% Speed(reviews/sec):544.5 #Correct:78 #Tested:155 Testing Accuracy:50.3%\r",
      "Progress:15.5% Speed(reviews/sec):539.7 #Correct:78 #Tested:156 Testing Accuracy:50.0%\r",
      "Progress:15.6% Speed(reviews/sec):538.8 #Correct:79 #Tested:157 Testing Accuracy:50.3%\r",
      "Progress:15.7% Speed(reviews/sec):538.2 #Correct:79 #Tested:158 Testing Accuracy:50.0%\r",
      "Progress:15.8% Speed(reviews/sec):538.7 #Correct:80 #Tested:159 Testing Accuracy:50.3%\r",
      "Progress:15.9% Speed(reviews/sec):538.9 #Correct:80 #Tested:160 Testing Accuracy:50.0%\r",
      "Progress:16.0% Speed(reviews/sec):538.9 #Correct:81 #Tested:161 Testing Accuracy:50.3%\r",
      "Progress:16.1% Speed(reviews/sec):539.5 #Correct:81 #Tested:162 Testing Accuracy:50.0%\r",
      "Progress:16.2% Speed(reviews/sec):540.6 #Correct:82 #Tested:163 Testing Accuracy:50.3%\r",
      "Progress:16.3% Speed(reviews/sec):541.7 #Correct:82 #Tested:164 Testing Accuracy:50.0%\r",
      "Progress:16.4% Speed(reviews/sec):542.0 #Correct:83 #Tested:165 Testing Accuracy:50.3%\r",
      "Progress:16.5% Speed(reviews/sec):542.2 #Correct:83 #Tested:166 Testing Accuracy:50.0%\r",
      "Progress:16.6% Speed(reviews/sec):542.2 #Correct:84 #Tested:167 Testing Accuracy:50.2%\r",
      "Progress:16.7% Speed(reviews/sec):540.6 #Correct:84 #Tested:168 Testing Accuracy:50.0%\r",
      "Progress:16.8% Speed(reviews/sec):541.6 #Correct:85 #Tested:169 Testing Accuracy:50.2%\r",
      "Progress:16.9% Speed(reviews/sec):542.6 #Correct:85 #Tested:170 Testing Accuracy:50.0%\r",
      "Progress:17.0% Speed(reviews/sec):543.4 #Correct:86 #Tested:171 Testing Accuracy:50.2%\r",
      "Progress:17.1% Speed(reviews/sec):544.5 #Correct:86 #Tested:172 Testing Accuracy:50.0%\r",
      "Progress:17.2% Speed(reviews/sec):544.8 #Correct:87 #Tested:173 Testing Accuracy:50.2%\r",
      "Progress:17.3% Speed(reviews/sec):545.6 #Correct:87 #Tested:174 Testing Accuracy:50.0%\r",
      "Progress:17.4% Speed(reviews/sec):546.3 #Correct:88 #Tested:175 Testing Accuracy:50.2%\r",
      "Progress:17.5% Speed(reviews/sec):547.4 #Correct:88 #Tested:176 Testing Accuracy:50.0%\r",
      "Progress:17.6% Speed(reviews/sec):548.2 #Correct:89 #Tested:177 Testing Accuracy:50.2%\r",
      "Progress:17.7% Speed(reviews/sec):548.4 #Correct:89 #Tested:178 Testing Accuracy:50.0%\r",
      "Progress:17.8% Speed(reviews/sec):549.5 #Correct:90 #Tested:179 Testing Accuracy:50.2%\r",
      "Progress:17.9% Speed(reviews/sec):550.4 #Correct:90 #Tested:180 Testing Accuracy:50.0%\r",
      "Progress:18.0% Speed(reviews/sec):551.2 #Correct:91 #Tested:181 Testing Accuracy:50.2%\r",
      "Progress:18.1% Speed(reviews/sec):552.2 #Correct:91 #Tested:182 Testing Accuracy:50.0%\r",
      "Progress:18.2% Speed(reviews/sec):553.0 #Correct:92 #Tested:183 Testing Accuracy:50.2%\r",
      "Progress:18.3% Speed(reviews/sec):553.9 #Correct:92 #Tested:184 Testing Accuracy:50.0%\r",
      "Progress:18.4% Speed(reviews/sec):554.0 #Correct:93 #Tested:185 Testing Accuracy:50.2%\r",
      "Progress:18.5% Speed(reviews/sec):554.7 #Correct:93 #Tested:186 Testing Accuracy:50.0%\r",
      "Progress:18.6% Speed(reviews/sec):555.8 #Correct:94 #Tested:187 Testing Accuracy:50.2%\r",
      "Progress:18.7% Speed(reviews/sec):556.4 #Correct:94 #Tested:188 Testing Accuracy:50.0%\r",
      "Progress:18.8% Speed(reviews/sec):556.8 #Correct:95 #Tested:189 Testing Accuracy:50.2%\r",
      "Progress:18.9% Speed(reviews/sec):557.3 #Correct:95 #Tested:190 Testing Accuracy:50.0%\r",
      "Progress:19.0% Speed(reviews/sec):558.1 #Correct:96 #Tested:191 Testing Accuracy:50.2%\r",
      "Progress:19.1% Speed(reviews/sec):559.0 #Correct:96 #Tested:192 Testing Accuracy:50.0%\r",
      "Progress:19.2% Speed(reviews/sec):559.9 #Correct:97 #Tested:193 Testing Accuracy:50.2%\r",
      "Progress:19.3% Speed(reviews/sec):559.9 #Correct:97 #Tested:194 Testing Accuracy:50.0%\r",
      "Progress:19.4% Speed(reviews/sec):561.0 #Correct:98 #Tested:195 Testing Accuracy:50.2%\r",
      "Progress:19.5% Speed(reviews/sec):561.7 #Correct:98 #Tested:196 Testing Accuracy:50.0%\r",
      "Progress:19.6% Speed(reviews/sec):562.1 #Correct:99 #Tested:197 Testing Accuracy:50.2%\r",
      "Progress:19.7% Speed(reviews/sec):562.9 #Correct:99 #Tested:198 Testing Accuracy:50.0%\r",
      "Progress:19.8% Speed(reviews/sec):564.0 #Correct:100 #Tested:199 Testing Accuracy:50.2%\r",
      "Progress:19.9% Speed(reviews/sec):564.6 #Correct:100 #Tested:200 Testing Accuracy:50.0%\r",
      "Progress:20.0% Speed(reviews/sec):565.6 #Correct:101 #Tested:201 Testing Accuracy:50.2%\r",
      "Progress:20.1% Speed(reviews/sec):566.1 #Correct:101 #Tested:202 Testing Accuracy:50.0%\r",
      "Progress:20.2% Speed(reviews/sec):566.8 #Correct:102 #Tested:203 Testing Accuracy:50.2%\r",
      "Progress:20.3% Speed(reviews/sec):567.1 #Correct:102 #Tested:204 Testing Accuracy:50.0%\r",
      "Progress:20.4% Speed(reviews/sec):567.9 #Correct:103 #Tested:205 Testing Accuracy:50.2%\r",
      "Progress:20.5% Speed(reviews/sec):568.4 #Correct:103 #Tested:206 Testing Accuracy:50.0%\r",
      "Progress:20.6% Speed(reviews/sec):569.0 #Correct:104 #Tested:207 Testing Accuracy:50.2%\r",
      "Progress:20.7% Speed(reviews/sec):569.9 #Correct:104 #Tested:208 Testing Accuracy:50.0%\r",
      "Progress:20.8% Speed(reviews/sec):570.7 #Correct:105 #Tested:209 Testing Accuracy:50.2%\r",
      "Progress:20.9% Speed(reviews/sec):570.9 #Correct:105 #Tested:210 Testing Accuracy:50.0%\r",
      "Progress:21.0% Speed(reviews/sec):571.6 #Correct:106 #Tested:211 Testing Accuracy:50.2%\r",
      "Progress:21.1% Speed(reviews/sec):572.5 #Correct:106 #Tested:212 Testing Accuracy:50.0%\r",
      "Progress:21.2% Speed(reviews/sec):573.3 #Correct:107 #Tested:213 Testing Accuracy:50.2%\r",
      "Progress:21.3% Speed(reviews/sec):572.9 #Correct:107 #Tested:214 Testing Accuracy:50.0%\r",
      "Progress:21.4% Speed(reviews/sec):573.7 #Correct:108 #Tested:215 Testing Accuracy:50.2%\r",
      "Progress:21.5% Speed(reviews/sec):574.0 #Correct:108 #Tested:216 Testing Accuracy:50.0%\r",
      "Progress:21.6% Speed(reviews/sec):574.8 #Correct:109 #Tested:217 Testing Accuracy:50.2%\r",
      "Progress:21.7% Speed(reviews/sec):575.2 #Correct:109 #Tested:218 Testing Accuracy:50.0%\r",
      "Progress:21.8% Speed(reviews/sec):575.5 #Correct:110 #Tested:219 Testing Accuracy:50.2%\r",
      "Progress:21.9% Speed(reviews/sec):576.5 #Correct:110 #Tested:220 Testing Accuracy:50.0%\r",
      "Progress:22.0% Speed(reviews/sec):576.6 #Correct:111 #Tested:221 Testing Accuracy:50.2%\r",
      "Progress:22.1% Speed(reviews/sec):577.4 #Correct:111 #Tested:222 Testing Accuracy:50.0%\r",
      "Progress:22.2% Speed(reviews/sec):577.9 #Correct:112 #Tested:223 Testing Accuracy:50.2%\r",
      "Progress:22.3% Speed(reviews/sec):578.5 #Correct:112 #Tested:224 Testing Accuracy:50.0%\r",
      "Progress:22.4% Speed(reviews/sec):578.0 #Correct:113 #Tested:225 Testing Accuracy:50.2%\r",
      "Progress:22.5% Speed(reviews/sec):578.3 #Correct:113 #Tested:226 Testing Accuracy:50.0%\r",
      "Progress:22.6% Speed(reviews/sec):578.0 #Correct:114 #Tested:227 Testing Accuracy:50.2%\r",
      "Progress:22.7% Speed(reviews/sec):578.6 #Correct:114 #Tested:228 Testing Accuracy:50.0%\r",
      "Progress:22.8% Speed(reviews/sec):579.3 #Correct:115 #Tested:229 Testing Accuracy:50.2%\r",
      "Progress:22.9% Speed(reviews/sec):579.8 #Correct:115 #Tested:230 Testing Accuracy:50.0%\r",
      "Progress:23.0% Speed(reviews/sec):579.7 #Correct:116 #Tested:231 Testing Accuracy:50.2%\r",
      "Progress:23.1% Speed(reviews/sec):580.2 #Correct:116 #Tested:232 Testing Accuracy:50.0%\r",
      "Progress:23.2% Speed(reviews/sec):581.1 #Correct:117 #Tested:233 Testing Accuracy:50.2%\r",
      "Progress:23.3% Speed(reviews/sec):581.8 #Correct:117 #Tested:234 Testing Accuracy:50.0%\r",
      "Progress:23.4% Speed(reviews/sec):581.5 #Correct:118 #Tested:235 Testing Accuracy:50.2%\r",
      "Progress:23.5% Speed(reviews/sec):582.1 #Correct:118 #Tested:236 Testing Accuracy:50.0%\r",
      "Progress:23.6% Speed(reviews/sec):581.7 #Correct:119 #Tested:237 Testing Accuracy:50.2%\r",
      "Progress:23.7% Speed(reviews/sec):582.1 #Correct:119 #Tested:238 Testing Accuracy:50.0%\r",
      "Progress:23.8% Speed(reviews/sec):582.8 #Correct:120 #Tested:239 Testing Accuracy:50.2%\r",
      "Progress:23.9% Speed(reviews/sec):583.3 #Correct:120 #Tested:240 Testing Accuracy:50.0%\r",
      "Progress:24.0% Speed(reviews/sec):583.5 #Correct:121 #Tested:241 Testing Accuracy:50.2%\r",
      "Progress:24.1% Speed(reviews/sec):583.9 #Correct:121 #Tested:242 Testing Accuracy:50.0%\r",
      "Progress:24.2% Speed(reviews/sec):584.3 #Correct:122 #Tested:243 Testing Accuracy:50.2%\r",
      "Progress:24.3% Speed(reviews/sec):584.2 #Correct:122 #Tested:244 Testing Accuracy:50.0%\r",
      "Progress:24.4% Speed(reviews/sec):584.6 #Correct:123 #Tested:245 Testing Accuracy:50.2%\r",
      "Progress:24.5% Speed(reviews/sec):585.3 #Correct:123 #Tested:246 Testing Accuracy:50.0%\r",
      "Progress:24.6% Speed(reviews/sec):586.1 #Correct:124 #Tested:247 Testing Accuracy:50.2%\r",
      "Progress:24.7% Speed(reviews/sec):586.5 #Correct:124 #Tested:248 Testing Accuracy:50.0%\r",
      "Progress:24.8% Speed(reviews/sec):587.2 #Correct:125 #Tested:249 Testing Accuracy:50.2%\r",
      "Progress:24.9% Speed(reviews/sec):587.8 #Correct:125 #Tested:250 Testing Accuracy:50.0%\r",
      "Progress:25.0% Speed(reviews/sec):588.6 #Correct:126 #Tested:251 Testing Accuracy:50.1%\r",
      "Progress:25.1% Speed(reviews/sec):589.3 #Correct:126 #Tested:252 Testing Accuracy:50.0%\r",
      "Progress:25.2% Speed(reviews/sec):589.9 #Correct:127 #Tested:253 Testing Accuracy:50.1%\r",
      "Progress:25.3% Speed(reviews/sec):590.5 #Correct:127 #Tested:254 Testing Accuracy:50.0%\r",
      "Progress:25.4% Speed(reviews/sec):591.2 #Correct:128 #Tested:255 Testing Accuracy:50.1%\r",
      "Progress:25.5% Speed(reviews/sec):591.9 #Correct:128 #Tested:256 Testing Accuracy:50.0%\r",
      "Progress:25.6% Speed(reviews/sec):592.7 #Correct:129 #Tested:257 Testing Accuracy:50.1%\r",
      "Progress:25.7% Speed(reviews/sec):593.4 #Correct:129 #Tested:258 Testing Accuracy:50.0%\r",
      "Progress:25.8% Speed(reviews/sec):594.2 #Correct:130 #Tested:259 Testing Accuracy:50.1%\r",
      "Progress:25.9% Speed(reviews/sec):594.9 #Correct:130 #Tested:260 Testing Accuracy:50.0%\r",
      "Progress:26.0% Speed(reviews/sec):595.6 #Correct:131 #Tested:261 Testing Accuracy:50.1%\r",
      "Progress:26.1% Speed(reviews/sec):596.4 #Correct:131 #Tested:262 Testing Accuracy:50.0%\r",
      "Progress:26.2% Speed(reviews/sec):596.6 #Correct:132 #Tested:263 Testing Accuracy:50.1%"
     ]
    },
    {
     "name": "stdout",
     "output_type": "stream",
     "text": [
      "\r",
      "Progress:26.3% Speed(reviews/sec):596.2 #Correct:132 #Tested:264 Testing Accuracy:50.0%\r",
      "Progress:26.4% Speed(reviews/sec):596.5 #Correct:133 #Tested:265 Testing Accuracy:50.1%\r",
      "Progress:26.5% Speed(reviews/sec):595.3 #Correct:133 #Tested:266 Testing Accuracy:50.0%\r",
      "Progress:26.6% Speed(reviews/sec):595.2 #Correct:134 #Tested:267 Testing Accuracy:50.1%\r",
      "Progress:26.7% Speed(reviews/sec):595.0 #Correct:134 #Tested:268 Testing Accuracy:50.0%\r",
      "Progress:26.8% Speed(reviews/sec):595.0 #Correct:135 #Tested:269 Testing Accuracy:50.1%\r",
      "Progress:26.9% Speed(reviews/sec):595.4 #Correct:135 #Tested:270 Testing Accuracy:50.0%\r",
      "Progress:27.0% Speed(reviews/sec):595.4 #Correct:136 #Tested:271 Testing Accuracy:50.1%\r",
      "Progress:27.1% Speed(reviews/sec):595.0 #Correct:136 #Tested:272 Testing Accuracy:50.0%\r",
      "Progress:27.2% Speed(reviews/sec):594.0 #Correct:137 #Tested:273 Testing Accuracy:50.1%\r",
      "Progress:27.3% Speed(reviews/sec):594.5 #Correct:137 #Tested:274 Testing Accuracy:50.0%\r",
      "Progress:27.4% Speed(reviews/sec):594.0 #Correct:138 #Tested:275 Testing Accuracy:50.1%\r",
      "Progress:27.5% Speed(reviews/sec):592.6 #Correct:138 #Tested:276 Testing Accuracy:50.0%\r",
      "Progress:27.6% Speed(reviews/sec):592.9 #Correct:139 #Tested:277 Testing Accuracy:50.1%\r",
      "Progress:27.7% Speed(reviews/sec):593.2 #Correct:139 #Tested:278 Testing Accuracy:50.0%\r",
      "Progress:27.8% Speed(reviews/sec):593.6 #Correct:140 #Tested:279 Testing Accuracy:50.1%\r",
      "Progress:27.9% Speed(reviews/sec):594.0 #Correct:140 #Tested:280 Testing Accuracy:50.0%\r",
      "Progress:28.0% Speed(reviews/sec):594.0 #Correct:141 #Tested:281 Testing Accuracy:50.1%\r",
      "Progress:28.1% Speed(reviews/sec):593.5 #Correct:141 #Tested:282 Testing Accuracy:50.0%\r",
      "Progress:28.2% Speed(reviews/sec):593.9 #Correct:142 #Tested:283 Testing Accuracy:50.1%\r",
      "Progress:28.3% Speed(reviews/sec):594.0 #Correct:142 #Tested:284 Testing Accuracy:50.0%\r",
      "Progress:28.4% Speed(reviews/sec):592.4 #Correct:143 #Tested:285 Testing Accuracy:50.1%\r",
      "Progress:28.5% Speed(reviews/sec):592.2 #Correct:143 #Tested:286 Testing Accuracy:50.0%\r",
      "Progress:28.6% Speed(reviews/sec):592.9 #Correct:144 #Tested:287 Testing Accuracy:50.1%\r",
      "Progress:28.7% Speed(reviews/sec):593.2 #Correct:144 #Tested:288 Testing Accuracy:50.0%\r",
      "Progress:28.8% Speed(reviews/sec):593.7 #Correct:145 #Tested:289 Testing Accuracy:50.1%\r",
      "Progress:28.9% Speed(reviews/sec):594.2 #Correct:145 #Tested:290 Testing Accuracy:50.0%\r",
      "Progress:29.0% Speed(reviews/sec):594.6 #Correct:146 #Tested:291 Testing Accuracy:50.1%\r",
      "Progress:29.1% Speed(reviews/sec):594.7 #Correct:146 #Tested:292 Testing Accuracy:50.0%\r",
      "Progress:29.2% Speed(reviews/sec):594.4 #Correct:147 #Tested:293 Testing Accuracy:50.1%\r",
      "Progress:29.3% Speed(reviews/sec):594.5 #Correct:147 #Tested:294 Testing Accuracy:50.0%\r",
      "Progress:29.4% Speed(reviews/sec):595.1 #Correct:148 #Tested:295 Testing Accuracy:50.1%\r",
      "Progress:29.5% Speed(reviews/sec):595.7 #Correct:148 #Tested:296 Testing Accuracy:50.0%\r",
      "Progress:29.6% Speed(reviews/sec):596.5 #Correct:149 #Tested:297 Testing Accuracy:50.1%\r",
      "Progress:29.7% Speed(reviews/sec):596.6 #Correct:149 #Tested:298 Testing Accuracy:50.0%\r",
      "Progress:29.8% Speed(reviews/sec):597.0 #Correct:150 #Tested:299 Testing Accuracy:50.1%\r",
      "Progress:29.9% Speed(reviews/sec):597.4 #Correct:150 #Tested:300 Testing Accuracy:50.0%\r",
      "Progress:30.0% Speed(reviews/sec):597.8 #Correct:151 #Tested:301 Testing Accuracy:50.1%\r",
      "Progress:30.1% Speed(reviews/sec):597.7 #Correct:151 #Tested:302 Testing Accuracy:50.0%\r",
      "Progress:30.2% Speed(reviews/sec):596.6 #Correct:152 #Tested:303 Testing Accuracy:50.1%\r",
      "Progress:30.3% Speed(reviews/sec):596.9 #Correct:152 #Tested:304 Testing Accuracy:50.0%\r",
      "Progress:30.4% Speed(reviews/sec):597.6 #Correct:153 #Tested:305 Testing Accuracy:50.1%\r",
      "Progress:30.5% Speed(reviews/sec):598.1 #Correct:153 #Tested:306 Testing Accuracy:50.0%\r",
      "Progress:30.6% Speed(reviews/sec):597.4 #Correct:154 #Tested:307 Testing Accuracy:50.1%\r",
      "Progress:30.7% Speed(reviews/sec):598.0 #Correct:154 #Tested:308 Testing Accuracy:50.0%\r",
      "Progress:30.8% Speed(reviews/sec):598.3 #Correct:155 #Tested:309 Testing Accuracy:50.1%\r",
      "Progress:30.9% Speed(reviews/sec):598.1 #Correct:155 #Tested:310 Testing Accuracy:50.0%\r",
      "Progress:31.0% Speed(reviews/sec):598.7 #Correct:156 #Tested:311 Testing Accuracy:50.1%\r",
      "Progress:31.1% Speed(reviews/sec):599.0 #Correct:156 #Tested:312 Testing Accuracy:50.0%\r",
      "Progress:31.2% Speed(reviews/sec):599.7 #Correct:157 #Tested:313 Testing Accuracy:50.1%\r",
      "Progress:31.3% Speed(reviews/sec):599.8 #Correct:157 #Tested:314 Testing Accuracy:50.0%\r",
      "Progress:31.4% Speed(reviews/sec):600.3 #Correct:158 #Tested:315 Testing Accuracy:50.1%\r",
      "Progress:31.5% Speed(reviews/sec):600.6 #Correct:158 #Tested:316 Testing Accuracy:50.0%\r",
      "Progress:31.6% Speed(reviews/sec):601.1 #Correct:159 #Tested:317 Testing Accuracy:50.1%\r",
      "Progress:31.7% Speed(reviews/sec):601.4 #Correct:159 #Tested:318 Testing Accuracy:50.0%\r",
      "Progress:31.8% Speed(reviews/sec):601.9 #Correct:160 #Tested:319 Testing Accuracy:50.1%\r",
      "Progress:31.9% Speed(reviews/sec):602.4 #Correct:160 #Tested:320 Testing Accuracy:50.0%\r",
      "Progress:32.0% Speed(reviews/sec):603.0 #Correct:161 #Tested:321 Testing Accuracy:50.1%\r",
      "Progress:32.1% Speed(reviews/sec):603.5 #Correct:161 #Tested:322 Testing Accuracy:50.0%\r",
      "Progress:32.2% Speed(reviews/sec):604.0 #Correct:162 #Tested:323 Testing Accuracy:50.1%\r",
      "Progress:32.3% Speed(reviews/sec):604.3 #Correct:162 #Tested:324 Testing Accuracy:50.0%\r",
      "Progress:32.4% Speed(reviews/sec):604.3 #Correct:163 #Tested:325 Testing Accuracy:50.1%\r",
      "Progress:32.5% Speed(reviews/sec):604.8 #Correct:163 #Tested:326 Testing Accuracy:50.0%\r",
      "Progress:32.6% Speed(reviews/sec):605.1 #Correct:164 #Tested:327 Testing Accuracy:50.1%\r",
      "Progress:32.7% Speed(reviews/sec):605.2 #Correct:164 #Tested:328 Testing Accuracy:50.0%\r",
      "Progress:32.8% Speed(reviews/sec):605.3 #Correct:165 #Tested:329 Testing Accuracy:50.1%\r",
      "Progress:32.9% Speed(reviews/sec):605.8 #Correct:165 #Tested:330 Testing Accuracy:50.0%\r",
      "Progress:33.0% Speed(reviews/sec):606.2 #Correct:166 #Tested:331 Testing Accuracy:50.1%\r",
      "Progress:33.1% Speed(reviews/sec):606.7 #Correct:166 #Tested:332 Testing Accuracy:50.0%\r",
      "Progress:33.2% Speed(reviews/sec):606.8 #Correct:167 #Tested:333 Testing Accuracy:50.1%\r",
      "Progress:33.3% Speed(reviews/sec):607.0 #Correct:167 #Tested:334 Testing Accuracy:50.0%\r",
      "Progress:33.4% Speed(reviews/sec):606.5 #Correct:168 #Tested:335 Testing Accuracy:50.1%\r",
      "Progress:33.5% Speed(reviews/sec):607.0 #Correct:168 #Tested:336 Testing Accuracy:50.0%\r",
      "Progress:33.6% Speed(reviews/sec):607.3 #Correct:169 #Tested:337 Testing Accuracy:50.1%\r",
      "Progress:33.7% Speed(reviews/sec):607.8 #Correct:169 #Tested:338 Testing Accuracy:50.0%\r",
      "Progress:33.8% Speed(reviews/sec):608.0 #Correct:170 #Tested:339 Testing Accuracy:50.1%\r",
      "Progress:33.9% Speed(reviews/sec):608.3 #Correct:170 #Tested:340 Testing Accuracy:50.0%\r",
      "Progress:34.0% Speed(reviews/sec):608.4 #Correct:171 #Tested:341 Testing Accuracy:50.1%\r",
      "Progress:34.1% Speed(reviews/sec):608.8 #Correct:171 #Tested:342 Testing Accuracy:50.0%\r",
      "Progress:34.2% Speed(reviews/sec):607.9 #Correct:172 #Tested:343 Testing Accuracy:50.1%\r",
      "Progress:34.3% Speed(reviews/sec):608.4 #Correct:172 #Tested:344 Testing Accuracy:50.0%\r",
      "Progress:34.4% Speed(reviews/sec):608.4 #Correct:173 #Tested:345 Testing Accuracy:50.1%\r",
      "Progress:34.5% Speed(reviews/sec):608.8 #Correct:173 #Tested:346 Testing Accuracy:50.0%\r",
      "Progress:34.6% Speed(reviews/sec):609.2 #Correct:174 #Tested:347 Testing Accuracy:50.1%\r",
      "Progress:34.7% Speed(reviews/sec):609.5 #Correct:174 #Tested:348 Testing Accuracy:50.0%\r",
      "Progress:34.8% Speed(reviews/sec):609.9 #Correct:175 #Tested:349 Testing Accuracy:50.1%\r",
      "Progress:34.9% Speed(reviews/sec):610.1 #Correct:175 #Tested:350 Testing Accuracy:50.0%\r",
      "Progress:35.0% Speed(reviews/sec):610.5 #Correct:176 #Tested:351 Testing Accuracy:50.1%\r",
      "Progress:35.1% Speed(reviews/sec):610.8 #Correct:176 #Tested:352 Testing Accuracy:50.0%\r",
      "Progress:35.2% Speed(reviews/sec):610.9 #Correct:177 #Tested:353 Testing Accuracy:50.1%\r",
      "Progress:35.3% Speed(reviews/sec):611.3 #Correct:177 #Tested:354 Testing Accuracy:50.0%\r",
      "Progress:35.4% Speed(reviews/sec):611.8 #Correct:178 #Tested:355 Testing Accuracy:50.1%\r",
      "Progress:35.5% Speed(reviews/sec):611.6 #Correct:178 #Tested:356 Testing Accuracy:50.0%\r",
      "Progress:35.6% Speed(reviews/sec):611.8 #Correct:179 #Tested:357 Testing Accuracy:50.1%\r",
      "Progress:35.7% Speed(reviews/sec):611.8 #Correct:179 #Tested:358 Testing Accuracy:50.0%\r",
      "Progress:35.8% Speed(reviews/sec):612.2 #Correct:180 #Tested:359 Testing Accuracy:50.1%\r",
      "Progress:35.9% Speed(reviews/sec):612.6 #Correct:180 #Tested:360 Testing Accuracy:50.0%\r",
      "Progress:36.0% Speed(reviews/sec):612.8 #Correct:181 #Tested:361 Testing Accuracy:50.1%\r",
      "Progress:36.1% Speed(reviews/sec):613.0 #Correct:181 #Tested:362 Testing Accuracy:50.0%\r",
      "Progress:36.2% Speed(reviews/sec):612.5 #Correct:182 #Tested:363 Testing Accuracy:50.1%\r",
      "Progress:36.3% Speed(reviews/sec):612.8 #Correct:182 #Tested:364 Testing Accuracy:50.0%\r",
      "Progress:36.4% Speed(reviews/sec):613.3 #Correct:183 #Tested:365 Testing Accuracy:50.1%\r",
      "Progress:36.5% Speed(reviews/sec):613.5 #Correct:183 #Tested:366 Testing Accuracy:50.0%\r",
      "Progress:36.6% Speed(reviews/sec):613.9 #Correct:184 #Tested:367 Testing Accuracy:50.1%\r",
      "Progress:36.7% Speed(reviews/sec):614.3 #Correct:184 #Tested:368 Testing Accuracy:50.0%\r",
      "Progress:36.8% Speed(reviews/sec):614.5 #Correct:185 #Tested:369 Testing Accuracy:50.1%\r",
      "Progress:36.9% Speed(reviews/sec):614.9 #Correct:185 #Tested:370 Testing Accuracy:50.0%\r",
      "Progress:37.0% Speed(reviews/sec):615.1 #Correct:186 #Tested:371 Testing Accuracy:50.1%\r",
      "Progress:37.1% Speed(reviews/sec):614.8 #Correct:186 #Tested:372 Testing Accuracy:50.0%\r",
      "Progress:37.2% Speed(reviews/sec):615.1 #Correct:187 #Tested:373 Testing Accuracy:50.1%\r",
      "Progress:37.3% Speed(reviews/sec):615.4 #Correct:187 #Tested:374 Testing Accuracy:50.0%\r",
      "Progress:37.4% Speed(reviews/sec):615.4 #Correct:188 #Tested:375 Testing Accuracy:50.1%\r",
      "Progress:37.5% Speed(reviews/sec):615.5 #Correct:188 #Tested:376 Testing Accuracy:50.0%\r",
      "Progress:37.6% Speed(reviews/sec):615.9 #Correct:189 #Tested:377 Testing Accuracy:50.1%\r",
      "Progress:37.7% Speed(reviews/sec):616.1 #Correct:189 #Tested:378 Testing Accuracy:50.0%\r",
      "Progress:37.8% Speed(reviews/sec):616.5 #Correct:190 #Tested:379 Testing Accuracy:50.1%\r",
      "Progress:37.9% Speed(reviews/sec):617.0 #Correct:190 #Tested:380 Testing Accuracy:50.0%\r",
      "Progress:38.0% Speed(reviews/sec):616.6 #Correct:191 #Tested:381 Testing Accuracy:50.1%\r",
      "Progress:38.1% Speed(reviews/sec):617.0 #Correct:191 #Tested:382 Testing Accuracy:50.0%\r",
      "Progress:38.2% Speed(reviews/sec):617.0 #Correct:192 #Tested:383 Testing Accuracy:50.1%\r",
      "Progress:38.3% Speed(reviews/sec):617.3 #Correct:192 #Tested:384 Testing Accuracy:50.0%\r",
      "Progress:38.4% Speed(reviews/sec):617.6 #Correct:193 #Tested:385 Testing Accuracy:50.1%\r",
      "Progress:38.5% Speed(reviews/sec):617.9 #Correct:193 #Tested:386 Testing Accuracy:50.0%\r",
      "Progress:38.6% Speed(reviews/sec):618.1 #Correct:194 #Tested:387 Testing Accuracy:50.1%\r",
      "Progress:38.7% Speed(reviews/sec):618.6 #Correct:194 #Tested:388 Testing Accuracy:50.0%\r",
      "Progress:38.8% Speed(reviews/sec):619.0 #Correct:195 #Tested:389 Testing Accuracy:50.1%\r",
      "Progress:38.9% Speed(reviews/sec):619.3 #Correct:195 #Tested:390 Testing Accuracy:50.0%\r",
      "Progress:39.0% Speed(reviews/sec):619.7 #Correct:196 #Tested:391 Testing Accuracy:50.1%\r",
      "Progress:39.1% Speed(reviews/sec):620.0 #Correct:196 #Tested:392 Testing Accuracy:50.0%\r",
      "Progress:39.2% Speed(reviews/sec):620.4 #Correct:197 #Tested:393 Testing Accuracy:50.1%\r",
      "Progress:39.3% Speed(reviews/sec):620.5 #Correct:197 #Tested:394 Testing Accuracy:50.0%\r",
      "Progress:39.4% Speed(reviews/sec):620.5 #Correct:198 #Tested:395 Testing Accuracy:50.1%\r",
      "Progress:39.5% Speed(reviews/sec):620.9 #Correct:198 #Tested:396 Testing Accuracy:50.0%\r",
      "Progress:39.6% Speed(reviews/sec):621.2 #Correct:199 #Tested:397 Testing Accuracy:50.1%\r",
      "Progress:39.7% Speed(reviews/sec):621.4 #Correct:199 #Tested:398 Testing Accuracy:50.0%\r",
      "Progress:39.8% Speed(reviews/sec):621.4 #Correct:200 #Tested:399 Testing Accuracy:50.1%"
     ]
    },
    {
     "name": "stdout",
     "output_type": "stream",
     "text": [
      "\r",
      "Progress:39.9% Speed(reviews/sec):621.7 #Correct:200 #Tested:400 Testing Accuracy:50.0%\r",
      "Progress:40.0% Speed(reviews/sec):621.1 #Correct:201 #Tested:401 Testing Accuracy:50.1%\r",
      "Progress:40.1% Speed(reviews/sec):621.4 #Correct:201 #Tested:402 Testing Accuracy:50.0%\r",
      "Progress:40.2% Speed(reviews/sec):621.2 #Correct:202 #Tested:403 Testing Accuracy:50.1%\r",
      "Progress:40.3% Speed(reviews/sec):621.1 #Correct:202 #Tested:404 Testing Accuracy:50.0%\r",
      "Progress:40.4% Speed(reviews/sec):621.2 #Correct:203 #Tested:405 Testing Accuracy:50.1%\r",
      "Progress:40.5% Speed(reviews/sec):621.2 #Correct:203 #Tested:406 Testing Accuracy:50.0%\r",
      "Progress:40.6% Speed(reviews/sec):620.7 #Correct:204 #Tested:407 Testing Accuracy:50.1%\r",
      "Progress:40.7% Speed(reviews/sec):620.6 #Correct:204 #Tested:408 Testing Accuracy:50.0%\r",
      "Progress:40.8% Speed(reviews/sec):620.4 #Correct:205 #Tested:409 Testing Accuracy:50.1%\r",
      "Progress:40.9% Speed(reviews/sec):620.6 #Correct:205 #Tested:410 Testing Accuracy:50.0%\r",
      "Progress:41.0% Speed(reviews/sec):620.6 #Correct:206 #Tested:411 Testing Accuracy:50.1%\r",
      "Progress:41.1% Speed(reviews/sec):620.2 #Correct:206 #Tested:412 Testing Accuracy:50.0%\r",
      "Progress:41.2% Speed(reviews/sec):620.4 #Correct:207 #Tested:413 Testing Accuracy:50.1%\r",
      "Progress:41.3% Speed(reviews/sec):620.0 #Correct:207 #Tested:414 Testing Accuracy:50.0%\r",
      "Progress:41.4% Speed(reviews/sec):620.2 #Correct:208 #Tested:415 Testing Accuracy:50.1%\r",
      "Progress:41.5% Speed(reviews/sec):620.1 #Correct:208 #Tested:416 Testing Accuracy:50.0%\r",
      "Progress:41.6% Speed(reviews/sec):620.2 #Correct:209 #Tested:417 Testing Accuracy:50.1%\r",
      "Progress:41.7% Speed(reviews/sec):619.7 #Correct:209 #Tested:418 Testing Accuracy:50.0%\r",
      "Progress:41.8% Speed(reviews/sec):619.7 #Correct:210 #Tested:419 Testing Accuracy:50.1%\r",
      "Progress:41.9% Speed(reviews/sec):619.6 #Correct:210 #Tested:420 Testing Accuracy:50.0%\r",
      "Progress:42.0% Speed(reviews/sec):618.9 #Correct:211 #Tested:421 Testing Accuracy:50.1%\r",
      "Progress:42.1% Speed(reviews/sec):618.6 #Correct:211 #Tested:422 Testing Accuracy:50.0%\r",
      "Progress:42.2% Speed(reviews/sec):618.4 #Correct:212 #Tested:423 Testing Accuracy:50.1%\r",
      "Progress:42.3% Speed(reviews/sec):618.4 #Correct:212 #Tested:424 Testing Accuracy:50.0%\r",
      "Progress:42.4% Speed(reviews/sec):618.3 #Correct:213 #Tested:425 Testing Accuracy:50.1%\r",
      "Progress:42.5% Speed(reviews/sec):618.4 #Correct:213 #Tested:426 Testing Accuracy:50.0%\r",
      "Progress:42.6% Speed(reviews/sec):617.7 #Correct:214 #Tested:427 Testing Accuracy:50.1%\r",
      "Progress:42.7% Speed(reviews/sec):618.0 #Correct:214 #Tested:428 Testing Accuracy:50.0%\r",
      "Progress:42.8% Speed(reviews/sec):618.2 #Correct:215 #Tested:429 Testing Accuracy:50.1%\r",
      "Progress:42.9% Speed(reviews/sec):618.4 #Correct:215 #Tested:430 Testing Accuracy:50.0%\r",
      "Progress:43.0% Speed(reviews/sec):618.8 #Correct:216 #Tested:431 Testing Accuracy:50.1%\r",
      "Progress:43.1% Speed(reviews/sec):619.1 #Correct:216 #Tested:432 Testing Accuracy:50.0%\r",
      "Progress:43.2% Speed(reviews/sec):619.2 #Correct:217 #Tested:433 Testing Accuracy:50.1%\r",
      "Progress:43.3% Speed(reviews/sec):619.5 #Correct:217 #Tested:434 Testing Accuracy:50.0%\r",
      "Progress:43.4% Speed(reviews/sec):619.6 #Correct:218 #Tested:435 Testing Accuracy:50.1%\r",
      "Progress:43.5% Speed(reviews/sec):619.7 #Correct:218 #Tested:436 Testing Accuracy:50.0%\r",
      "Progress:43.6% Speed(reviews/sec):620.1 #Correct:219 #Tested:437 Testing Accuracy:50.1%\r",
      "Progress:43.7% Speed(reviews/sec):619.6 #Correct:219 #Tested:438 Testing Accuracy:50.0%\r",
      "Progress:43.8% Speed(reviews/sec):619.4 #Correct:220 #Tested:439 Testing Accuracy:50.1%\r",
      "Progress:43.9% Speed(reviews/sec):618.8 #Correct:220 #Tested:440 Testing Accuracy:50.0%\r",
      "Progress:44.0% Speed(reviews/sec):618.7 #Correct:221 #Tested:441 Testing Accuracy:50.1%\r",
      "Progress:44.1% Speed(reviews/sec):619.0 #Correct:221 #Tested:442 Testing Accuracy:50.0%\r",
      "Progress:44.2% Speed(reviews/sec):619.4 #Correct:222 #Tested:443 Testing Accuracy:50.1%\r",
      "Progress:44.3% Speed(reviews/sec):619.5 #Correct:222 #Tested:444 Testing Accuracy:50.0%\r",
      "Progress:44.4% Speed(reviews/sec):619.2 #Correct:223 #Tested:445 Testing Accuracy:50.1%\r",
      "Progress:44.5% Speed(reviews/sec):619.4 #Correct:223 #Tested:446 Testing Accuracy:50.0%\r",
      "Progress:44.6% Speed(reviews/sec):619.7 #Correct:224 #Tested:447 Testing Accuracy:50.1%\r",
      "Progress:44.7% Speed(reviews/sec):619.7 #Correct:224 #Tested:448 Testing Accuracy:50.0%\r",
      "Progress:44.8% Speed(reviews/sec):619.9 #Correct:225 #Tested:449 Testing Accuracy:50.1%\r",
      "Progress:44.9% Speed(reviews/sec):619.8 #Correct:225 #Tested:450 Testing Accuracy:50.0%\r",
      "Progress:45.0% Speed(reviews/sec):620.3 #Correct:226 #Tested:451 Testing Accuracy:50.1%\r",
      "Progress:45.1% Speed(reviews/sec):619.8 #Correct:226 #Tested:452 Testing Accuracy:50.0%\r",
      "Progress:45.2% Speed(reviews/sec):620.2 #Correct:227 #Tested:453 Testing Accuracy:50.1%\r",
      "Progress:45.3% Speed(reviews/sec):620.5 #Correct:227 #Tested:454 Testing Accuracy:50.0%\r",
      "Progress:45.4% Speed(reviews/sec):621.0 #Correct:228 #Tested:455 Testing Accuracy:50.1%\r",
      "Progress:45.5% Speed(reviews/sec):621.3 #Correct:228 #Tested:456 Testing Accuracy:50.0%\r",
      "Progress:45.6% Speed(reviews/sec):621.7 #Correct:229 #Tested:457 Testing Accuracy:50.1%\r",
      "Progress:45.7% Speed(reviews/sec):622.0 #Correct:229 #Tested:458 Testing Accuracy:50.0%\r",
      "Progress:45.8% Speed(reviews/sec):622.3 #Correct:230 #Tested:459 Testing Accuracy:50.1%\r",
      "Progress:45.9% Speed(reviews/sec):622.2 #Correct:230 #Tested:460 Testing Accuracy:50.0%\r",
      "Progress:46.0% Speed(reviews/sec):622.4 #Correct:231 #Tested:461 Testing Accuracy:50.1%\r",
      "Progress:46.1% Speed(reviews/sec):622.5 #Correct:231 #Tested:462 Testing Accuracy:50.0%\r",
      "Progress:46.2% Speed(reviews/sec):621.9 #Correct:232 #Tested:463 Testing Accuracy:50.1%\r",
      "Progress:46.3% Speed(reviews/sec):622.2 #Correct:232 #Tested:464 Testing Accuracy:50.0%\r",
      "Progress:46.4% Speed(reviews/sec):622.6 #Correct:233 #Tested:465 Testing Accuracy:50.1%\r",
      "Progress:46.5% Speed(reviews/sec):622.9 #Correct:233 #Tested:466 Testing Accuracy:50.0%\r",
      "Progress:46.6% Speed(reviews/sec):623.2 #Correct:234 #Tested:467 Testing Accuracy:50.1%\r",
      "Progress:46.7% Speed(reviews/sec):623.0 #Correct:234 #Tested:468 Testing Accuracy:50.0%\r",
      "Progress:46.8% Speed(reviews/sec):622.8 #Correct:235 #Tested:469 Testing Accuracy:50.1%\r",
      "Progress:46.9% Speed(reviews/sec):623.1 #Correct:235 #Tested:470 Testing Accuracy:50.0%\r",
      "Progress:47.0% Speed(reviews/sec):623.4 #Correct:236 #Tested:471 Testing Accuracy:50.1%\r",
      "Progress:47.1% Speed(reviews/sec):623.6 #Correct:236 #Tested:472 Testing Accuracy:50.0%\r",
      "Progress:47.2% Speed(reviews/sec):623.9 #Correct:237 #Tested:473 Testing Accuracy:50.1%\r",
      "Progress:47.3% Speed(reviews/sec):623.9 #Correct:237 #Tested:474 Testing Accuracy:50.0%\r",
      "Progress:47.4% Speed(reviews/sec):624.1 #Correct:238 #Tested:475 Testing Accuracy:50.1%\r",
      "Progress:47.5% Speed(reviews/sec):624.1 #Correct:238 #Tested:476 Testing Accuracy:50.0%\r",
      "Progress:47.6% Speed(reviews/sec):623.8 #Correct:239 #Tested:477 Testing Accuracy:50.1%\r",
      "Progress:47.7% Speed(reviews/sec):623.7 #Correct:239 #Tested:478 Testing Accuracy:50.0%\r",
      "Progress:47.8% Speed(reviews/sec):623.4 #Correct:240 #Tested:479 Testing Accuracy:50.1%\r",
      "Progress:47.9% Speed(reviews/sec):623.7 #Correct:240 #Tested:480 Testing Accuracy:50.0%\r",
      "Progress:48.0% Speed(reviews/sec):624.0 #Correct:241 #Tested:481 Testing Accuracy:50.1%\r",
      "Progress:48.1% Speed(reviews/sec):623.2 #Correct:241 #Tested:482 Testing Accuracy:50.0%\r",
      "Progress:48.2% Speed(reviews/sec):623.5 #Correct:242 #Tested:483 Testing Accuracy:50.1%\r",
      "Progress:48.3% Speed(reviews/sec):623.7 #Correct:242 #Tested:484 Testing Accuracy:50.0%\r",
      "Progress:48.4% Speed(reviews/sec):623.9 #Correct:243 #Tested:485 Testing Accuracy:50.1%\r",
      "Progress:48.5% Speed(reviews/sec):624.0 #Correct:243 #Tested:486 Testing Accuracy:50.0%\r",
      "Progress:48.6% Speed(reviews/sec):624.2 #Correct:244 #Tested:487 Testing Accuracy:50.1%\r",
      "Progress:48.7% Speed(reviews/sec):624.6 #Correct:244 #Tested:488 Testing Accuracy:50.0%\r",
      "Progress:48.8% Speed(reviews/sec):624.8 #Correct:245 #Tested:489 Testing Accuracy:50.1%\r",
      "Progress:48.9% Speed(reviews/sec):624.5 #Correct:245 #Tested:490 Testing Accuracy:50.0%\r",
      "Progress:49.0% Speed(reviews/sec):624.7 #Correct:246 #Tested:491 Testing Accuracy:50.1%\r",
      "Progress:49.1% Speed(reviews/sec):625.0 #Correct:246 #Tested:492 Testing Accuracy:50.0%\r",
      "Progress:49.2% Speed(reviews/sec):625.1 #Correct:247 #Tested:493 Testing Accuracy:50.1%\r",
      "Progress:49.3% Speed(reviews/sec):625.1 #Correct:247 #Tested:494 Testing Accuracy:50.0%\r",
      "Progress:49.4% Speed(reviews/sec):625.4 #Correct:248 #Tested:495 Testing Accuracy:50.1%\r",
      "Progress:49.5% Speed(reviews/sec):625.5 #Correct:248 #Tested:496 Testing Accuracy:50.0%\r",
      "Progress:49.6% Speed(reviews/sec):625.7 #Correct:249 #Tested:497 Testing Accuracy:50.1%\r",
      "Progress:49.7% Speed(reviews/sec):626.1 #Correct:249 #Tested:498 Testing Accuracy:50.0%\r",
      "Progress:49.8% Speed(reviews/sec):625.9 #Correct:250 #Tested:499 Testing Accuracy:50.1%\r",
      "Progress:49.9% Speed(reviews/sec):625.9 #Correct:250 #Tested:500 Testing Accuracy:50.0%\r",
      "Progress:50.0% Speed(reviews/sec):626.2 #Correct:251 #Tested:501 Testing Accuracy:50.0%\r",
      "Progress:50.1% Speed(reviews/sec):626.0 #Correct:251 #Tested:502 Testing Accuracy:50.0%\r",
      "Progress:50.2% Speed(reviews/sec):626.0 #Correct:252 #Tested:503 Testing Accuracy:50.0%\r",
      "Progress:50.3% Speed(reviews/sec):626.2 #Correct:252 #Tested:504 Testing Accuracy:50.0%\r",
      "Progress:50.4% Speed(reviews/sec):626.3 #Correct:253 #Tested:505 Testing Accuracy:50.0%\r",
      "Progress:50.5% Speed(reviews/sec):626.5 #Correct:253 #Tested:506 Testing Accuracy:50.0%\r",
      "Progress:50.6% Speed(reviews/sec):626.0 #Correct:254 #Tested:507 Testing Accuracy:50.0%\r",
      "Progress:50.7% Speed(reviews/sec):625.2 #Correct:254 #Tested:508 Testing Accuracy:50.0%\r",
      "Progress:50.8% Speed(reviews/sec):625.4 #Correct:255 #Tested:509 Testing Accuracy:50.0%\r",
      "Progress:50.9% Speed(reviews/sec):625.6 #Correct:255 #Tested:510 Testing Accuracy:50.0%\r",
      "Progress:51.0% Speed(reviews/sec):625.3 #Correct:256 #Tested:511 Testing Accuracy:50.0%\r",
      "Progress:51.1% Speed(reviews/sec):625.5 #Correct:256 #Tested:512 Testing Accuracy:50.0%\r",
      "Progress:51.2% Speed(reviews/sec):625.6 #Correct:257 #Tested:513 Testing Accuracy:50.0%\r",
      "Progress:51.3% Speed(reviews/sec):625.9 #Correct:257 #Tested:514 Testing Accuracy:50.0%\r",
      "Progress:51.4% Speed(reviews/sec):626.0 #Correct:258 #Tested:515 Testing Accuracy:50.0%\r",
      "Progress:51.5% Speed(reviews/sec):626.0 #Correct:258 #Tested:516 Testing Accuracy:50.0%\r",
      "Progress:51.6% Speed(reviews/sec):625.9 #Correct:259 #Tested:517 Testing Accuracy:50.0%\r",
      "Progress:51.7% Speed(reviews/sec):626.1 #Correct:259 #Tested:518 Testing Accuracy:50.0%\r",
      "Progress:51.8% Speed(reviews/sec):626.2 #Correct:260 #Tested:519 Testing Accuracy:50.0%\r",
      "Progress:51.9% Speed(reviews/sec):626.4 #Correct:260 #Tested:520 Testing Accuracy:50.0%\r",
      "Progress:52.0% Speed(reviews/sec):626.8 #Correct:261 #Tested:521 Testing Accuracy:50.0%\r",
      "Progress:52.1% Speed(reviews/sec):626.9 #Correct:261 #Tested:522 Testing Accuracy:50.0%\r",
      "Progress:52.2% Speed(reviews/sec):627.1 #Correct:262 #Tested:523 Testing Accuracy:50.0%\r",
      "Progress:52.3% Speed(reviews/sec):627.3 #Correct:262 #Tested:524 Testing Accuracy:50.0%\r",
      "Progress:52.4% Speed(reviews/sec):627.6 #Correct:263 #Tested:525 Testing Accuracy:50.0%\r",
      "Progress:52.5% Speed(reviews/sec):627.9 #Correct:263 #Tested:526 Testing Accuracy:50.0%\r",
      "Progress:52.6% Speed(reviews/sec):628.3 #Correct:264 #Tested:527 Testing Accuracy:50.0%\r",
      "Progress:52.7% Speed(reviews/sec):628.4 #Correct:264 #Tested:528 Testing Accuracy:50.0%\r",
      "Progress:52.8% Speed(reviews/sec):628.3 #Correct:265 #Tested:529 Testing Accuracy:50.0%\r",
      "Progress:52.9% Speed(reviews/sec):628.5 #Correct:265 #Tested:530 Testing Accuracy:50.0%"
     ]
    },
    {
     "name": "stdout",
     "output_type": "stream",
     "text": [
      "\r",
      "Progress:53.0% Speed(reviews/sec):628.5 #Correct:266 #Tested:531 Testing Accuracy:50.0%\r",
      "Progress:53.1% Speed(reviews/sec):628.4 #Correct:266 #Tested:532 Testing Accuracy:50.0%\r",
      "Progress:53.2% Speed(reviews/sec):628.5 #Correct:267 #Tested:533 Testing Accuracy:50.0%\r",
      "Progress:53.3% Speed(reviews/sec):628.3 #Correct:267 #Tested:534 Testing Accuracy:50.0%\r",
      "Progress:53.4% Speed(reviews/sec):628.2 #Correct:268 #Tested:535 Testing Accuracy:50.0%\r",
      "Progress:53.5% Speed(reviews/sec):628.3 #Correct:268 #Tested:536 Testing Accuracy:50.0%\r",
      "Progress:53.6% Speed(reviews/sec):628.3 #Correct:269 #Tested:537 Testing Accuracy:50.0%\r",
      "Progress:53.7% Speed(reviews/sec):628.3 #Correct:269 #Tested:538 Testing Accuracy:50.0%\r",
      "Progress:53.8% Speed(reviews/sec):628.1 #Correct:270 #Tested:539 Testing Accuracy:50.0%\r",
      "Progress:53.9% Speed(reviews/sec):628.3 #Correct:270 #Tested:540 Testing Accuracy:50.0%\r",
      "Progress:54.0% Speed(reviews/sec):628.0 #Correct:271 #Tested:541 Testing Accuracy:50.0%\r",
      "Progress:54.1% Speed(reviews/sec):628.0 #Correct:271 #Tested:542 Testing Accuracy:50.0%\r",
      "Progress:54.2% Speed(reviews/sec):627.5 #Correct:272 #Tested:543 Testing Accuracy:50.0%\r",
      "Progress:54.3% Speed(reviews/sec):627.5 #Correct:272 #Tested:544 Testing Accuracy:50.0%\r",
      "Progress:54.4% Speed(reviews/sec):627.1 #Correct:273 #Tested:545 Testing Accuracy:50.0%\r",
      "Progress:54.5% Speed(reviews/sec):623.5 #Correct:273 #Tested:546 Testing Accuracy:50.0%\r",
      "Progress:54.6% Speed(reviews/sec):622.7 #Correct:274 #Tested:547 Testing Accuracy:50.0%\r",
      "Progress:54.7% Speed(reviews/sec):622.2 #Correct:274 #Tested:548 Testing Accuracy:50.0%\r",
      "Progress:54.8% Speed(reviews/sec):622.2 #Correct:275 #Tested:549 Testing Accuracy:50.0%\r",
      "Progress:54.9% Speed(reviews/sec):622.2 #Correct:275 #Tested:550 Testing Accuracy:50.0%\r",
      "Progress:55.0% Speed(reviews/sec):622.3 #Correct:276 #Tested:551 Testing Accuracy:50.0%\r",
      "Progress:55.1% Speed(reviews/sec):622.1 #Correct:276 #Tested:552 Testing Accuracy:50.0%\r",
      "Progress:55.2% Speed(reviews/sec):622.3 #Correct:277 #Tested:553 Testing Accuracy:50.0%\r",
      "Progress:55.3% Speed(reviews/sec):622.3 #Correct:277 #Tested:554 Testing Accuracy:50.0%\r",
      "Progress:55.4% Speed(reviews/sec):622.0 #Correct:278 #Tested:555 Testing Accuracy:50.0%\r",
      "Progress:55.5% Speed(reviews/sec):622.2 #Correct:278 #Tested:556 Testing Accuracy:50.0%\r",
      "Progress:55.6% Speed(reviews/sec):622.2 #Correct:279 #Tested:557 Testing Accuracy:50.0%\r",
      "Progress:55.7% Speed(reviews/sec):622.3 #Correct:279 #Tested:558 Testing Accuracy:50.0%\r",
      "Progress:55.8% Speed(reviews/sec):622.1 #Correct:280 #Tested:559 Testing Accuracy:50.0%\r",
      "Progress:55.9% Speed(reviews/sec):622.4 #Correct:280 #Tested:560 Testing Accuracy:50.0%\r",
      "Progress:56.0% Speed(reviews/sec):622.6 #Correct:281 #Tested:561 Testing Accuracy:50.0%\r",
      "Progress:56.1% Speed(reviews/sec):622.9 #Correct:281 #Tested:562 Testing Accuracy:50.0%\r",
      "Progress:56.2% Speed(reviews/sec):623.0 #Correct:282 #Tested:563 Testing Accuracy:50.0%\r",
      "Progress:56.3% Speed(reviews/sec):623.3 #Correct:282 #Tested:564 Testing Accuracy:50.0%\r",
      "Progress:56.4% Speed(reviews/sec):623.2 #Correct:283 #Tested:565 Testing Accuracy:50.0%\r",
      "Progress:56.5% Speed(reviews/sec):623.2 #Correct:283 #Tested:566 Testing Accuracy:50.0%\r",
      "Progress:56.6% Speed(reviews/sec):622.6 #Correct:284 #Tested:567 Testing Accuracy:50.0%\r",
      "Progress:56.7% Speed(reviews/sec):622.7 #Correct:284 #Tested:568 Testing Accuracy:50.0%\r",
      "Progress:56.8% Speed(reviews/sec):623.0 #Correct:285 #Tested:569 Testing Accuracy:50.0%\r",
      "Progress:56.9% Speed(reviews/sec):623.1 #Correct:285 #Tested:570 Testing Accuracy:50.0%\r",
      "Progress:57.0% Speed(reviews/sec):622.8 #Correct:286 #Tested:571 Testing Accuracy:50.0%\r",
      "Progress:57.1% Speed(reviews/sec):622.9 #Correct:286 #Tested:572 Testing Accuracy:50.0%\r",
      "Progress:57.2% Speed(reviews/sec):622.8 #Correct:287 #Tested:573 Testing Accuracy:50.0%\r",
      "Progress:57.3% Speed(reviews/sec):623.0 #Correct:287 #Tested:574 Testing Accuracy:50.0%\r",
      "Progress:57.4% Speed(reviews/sec):623.0 #Correct:288 #Tested:575 Testing Accuracy:50.0%\r",
      "Progress:57.5% Speed(reviews/sec):623.1 #Correct:288 #Tested:576 Testing Accuracy:50.0%\r",
      "Progress:57.6% Speed(reviews/sec):623.4 #Correct:289 #Tested:577 Testing Accuracy:50.0%\r",
      "Progress:57.7% Speed(reviews/sec):623.6 #Correct:289 #Tested:578 Testing Accuracy:50.0%\r",
      "Progress:57.8% Speed(reviews/sec):623.5 #Correct:290 #Tested:579 Testing Accuracy:50.0%\r",
      "Progress:57.9% Speed(reviews/sec):623.8 #Correct:290 #Tested:580 Testing Accuracy:50.0%\r",
      "Progress:58.0% Speed(reviews/sec):623.8 #Correct:291 #Tested:581 Testing Accuracy:50.0%\r",
      "Progress:58.1% Speed(reviews/sec):624.0 #Correct:291 #Tested:582 Testing Accuracy:50.0%\r",
      "Progress:58.2% Speed(reviews/sec):624.3 #Correct:292 #Tested:583 Testing Accuracy:50.0%\r",
      "Progress:58.3% Speed(reviews/sec):624.4 #Correct:292 #Tested:584 Testing Accuracy:50.0%\r",
      "Progress:58.4% Speed(reviews/sec):624.6 #Correct:293 #Tested:585 Testing Accuracy:50.0%\r",
      "Progress:58.5% Speed(reviews/sec):624.9 #Correct:293 #Tested:586 Testing Accuracy:50.0%\r",
      "Progress:58.6% Speed(reviews/sec):625.2 #Correct:294 #Tested:587 Testing Accuracy:50.0%\r",
      "Progress:58.7% Speed(reviews/sec):625.3 #Correct:294 #Tested:588 Testing Accuracy:50.0%\r",
      "Progress:58.8% Speed(reviews/sec):625.6 #Correct:295 #Tested:589 Testing Accuracy:50.0%\r",
      "Progress:58.9% Speed(reviews/sec):625.8 #Correct:295 #Tested:590 Testing Accuracy:50.0%\r",
      "Progress:59.0% Speed(reviews/sec):626.0 #Correct:296 #Tested:591 Testing Accuracy:50.0%\r",
      "Progress:59.1% Speed(reviews/sec):626.3 #Correct:296 #Tested:592 Testing Accuracy:50.0%\r",
      "Progress:59.2% Speed(reviews/sec):626.2 #Correct:297 #Tested:593 Testing Accuracy:50.0%\r",
      "Progress:59.3% Speed(reviews/sec):626.3 #Correct:297 #Tested:594 Testing Accuracy:50.0%\r",
      "Progress:59.4% Speed(reviews/sec):626.6 #Correct:298 #Tested:595 Testing Accuracy:50.0%\r",
      "Progress:59.5% Speed(reviews/sec):626.8 #Correct:298 #Tested:596 Testing Accuracy:50.0%\r",
      "Progress:59.6% Speed(reviews/sec):627.2 #Correct:299 #Tested:597 Testing Accuracy:50.0%\r",
      "Progress:59.7% Speed(reviews/sec):627.3 #Correct:299 #Tested:598 Testing Accuracy:50.0%\r",
      "Progress:59.8% Speed(reviews/sec):627.3 #Correct:300 #Tested:599 Testing Accuracy:50.0%\r",
      "Progress:59.9% Speed(reviews/sec):627.4 #Correct:300 #Tested:600 Testing Accuracy:50.0%\r",
      "Progress:60.0% Speed(reviews/sec):627.4 #Correct:301 #Tested:601 Testing Accuracy:50.0%\r",
      "Progress:60.1% Speed(reviews/sec):627.7 #Correct:301 #Tested:602 Testing Accuracy:50.0%\r",
      "Progress:60.2% Speed(reviews/sec):627.9 #Correct:302 #Tested:603 Testing Accuracy:50.0%\r",
      "Progress:60.3% Speed(reviews/sec):628.2 #Correct:302 #Tested:604 Testing Accuracy:50.0%\r",
      "Progress:60.4% Speed(reviews/sec):628.4 #Correct:303 #Tested:605 Testing Accuracy:50.0%\r",
      "Progress:60.5% Speed(reviews/sec):627.9 #Correct:303 #Tested:606 Testing Accuracy:50.0%\r",
      "Progress:60.6% Speed(reviews/sec):628.2 #Correct:304 #Tested:607 Testing Accuracy:50.0%\r",
      "Progress:60.7% Speed(reviews/sec):628.4 #Correct:304 #Tested:608 Testing Accuracy:50.0%\r",
      "Progress:60.8% Speed(reviews/sec):628.6 #Correct:305 #Tested:609 Testing Accuracy:50.0%\r",
      "Progress:60.9% Speed(reviews/sec):628.9 #Correct:305 #Tested:610 Testing Accuracy:50.0%\r",
      "Progress:61.0% Speed(reviews/sec):628.9 #Correct:306 #Tested:611 Testing Accuracy:50.0%\r",
      "Progress:61.1% Speed(reviews/sec):629.1 #Correct:306 #Tested:612 Testing Accuracy:50.0%\r",
      "Progress:61.2% Speed(reviews/sec):629.4 #Correct:307 #Tested:613 Testing Accuracy:50.0%\r",
      "Progress:61.3% Speed(reviews/sec):629.6 #Correct:307 #Tested:614 Testing Accuracy:50.0%\r",
      "Progress:61.4% Speed(reviews/sec):629.8 #Correct:308 #Tested:615 Testing Accuracy:50.0%\r",
      "Progress:61.5% Speed(reviews/sec):629.6 #Correct:308 #Tested:616 Testing Accuracy:50.0%\r",
      "Progress:61.6% Speed(reviews/sec):629.7 #Correct:309 #Tested:617 Testing Accuracy:50.0%\r",
      "Progress:61.7% Speed(reviews/sec):629.9 #Correct:309 #Tested:618 Testing Accuracy:50.0%\r",
      "Progress:61.8% Speed(reviews/sec):630.1 #Correct:310 #Tested:619 Testing Accuracy:50.0%\r",
      "Progress:61.9% Speed(reviews/sec):630.3 #Correct:310 #Tested:620 Testing Accuracy:50.0%\r",
      "Progress:62.0% Speed(reviews/sec):630.4 #Correct:311 #Tested:621 Testing Accuracy:50.0%\r",
      "Progress:62.1% Speed(reviews/sec):630.6 #Correct:311 #Tested:622 Testing Accuracy:50.0%\r",
      "Progress:62.2% Speed(reviews/sec):630.7 #Correct:312 #Tested:623 Testing Accuracy:50.0%\r",
      "Progress:62.3% Speed(reviews/sec):630.9 #Correct:312 #Tested:624 Testing Accuracy:50.0%\r",
      "Progress:62.4% Speed(reviews/sec):631.0 #Correct:313 #Tested:625 Testing Accuracy:50.0%\r",
      "Progress:62.5% Speed(reviews/sec):630.5 #Correct:313 #Tested:626 Testing Accuracy:50.0%\r",
      "Progress:62.6% Speed(reviews/sec):630.5 #Correct:314 #Tested:627 Testing Accuracy:50.0%\r",
      "Progress:62.7% Speed(reviews/sec):630.7 #Correct:314 #Tested:628 Testing Accuracy:50.0%\r",
      "Progress:62.8% Speed(reviews/sec):631.0 #Correct:315 #Tested:629 Testing Accuracy:50.0%\r",
      "Progress:62.9% Speed(reviews/sec):631.0 #Correct:315 #Tested:630 Testing Accuracy:50.0%\r",
      "Progress:63.0% Speed(reviews/sec):631.1 #Correct:316 #Tested:631 Testing Accuracy:50.0%\r",
      "Progress:63.1% Speed(reviews/sec):630.9 #Correct:316 #Tested:632 Testing Accuracy:50.0%\r",
      "Progress:63.2% Speed(reviews/sec):631.1 #Correct:317 #Tested:633 Testing Accuracy:50.0%\r",
      "Progress:63.3% Speed(reviews/sec):631.2 #Correct:317 #Tested:634 Testing Accuracy:50.0%\r",
      "Progress:63.4% Speed(reviews/sec):631.0 #Correct:318 #Tested:635 Testing Accuracy:50.0%\r",
      "Progress:63.5% Speed(reviews/sec):630.9 #Correct:318 #Tested:636 Testing Accuracy:50.0%\r",
      "Progress:63.6% Speed(reviews/sec):631.1 #Correct:319 #Tested:637 Testing Accuracy:50.0%\r",
      "Progress:63.7% Speed(reviews/sec):631.2 #Correct:319 #Tested:638 Testing Accuracy:50.0%\r",
      "Progress:63.8% Speed(reviews/sec):631.4 #Correct:320 #Tested:639 Testing Accuracy:50.0%\r",
      "Progress:63.9% Speed(reviews/sec):631.7 #Correct:320 #Tested:640 Testing Accuracy:50.0%\r",
      "Progress:64.0% Speed(reviews/sec):631.9 #Correct:321 #Tested:641 Testing Accuracy:50.0%\r",
      "Progress:64.1% Speed(reviews/sec):631.9 #Correct:321 #Tested:642 Testing Accuracy:50.0%\r",
      "Progress:64.2% Speed(reviews/sec):632.0 #Correct:322 #Tested:643 Testing Accuracy:50.0%\r",
      "Progress:64.3% Speed(reviews/sec):632.2 #Correct:322 #Tested:644 Testing Accuracy:50.0%\r",
      "Progress:64.4% Speed(reviews/sec):632.2 #Correct:323 #Tested:645 Testing Accuracy:50.0%\r",
      "Progress:64.5% Speed(reviews/sec):632.2 #Correct:323 #Tested:646 Testing Accuracy:50.0%\r",
      "Progress:64.6% Speed(reviews/sec):632.1 #Correct:324 #Tested:647 Testing Accuracy:50.0%\r",
      "Progress:64.7% Speed(reviews/sec):632.3 #Correct:324 #Tested:648 Testing Accuracy:50.0%\r",
      "Progress:64.8% Speed(reviews/sec):632.4 #Correct:325 #Tested:649 Testing Accuracy:50.0%\r",
      "Progress:64.9% Speed(reviews/sec):632.6 #Correct:325 #Tested:650 Testing Accuracy:50.0%\r",
      "Progress:65.0% Speed(reviews/sec):632.9 #Correct:326 #Tested:651 Testing Accuracy:50.0%\r",
      "Progress:65.1% Speed(reviews/sec):633.0 #Correct:326 #Tested:652 Testing Accuracy:50.0%\r",
      "Progress:65.2% Speed(reviews/sec):633.3 #Correct:327 #Tested:653 Testing Accuracy:50.0%\r",
      "Progress:65.3% Speed(reviews/sec):633.4 #Correct:327 #Tested:654 Testing Accuracy:50.0%\r",
      "Progress:65.4% Speed(reviews/sec):633.6 #Correct:328 #Tested:655 Testing Accuracy:50.0%\r",
      "Progress:65.5% Speed(reviews/sec):633.8 #Correct:328 #Tested:656 Testing Accuracy:50.0%\r",
      "Progress:65.6% Speed(reviews/sec):634.1 #Correct:329 #Tested:657 Testing Accuracy:50.0%\r",
      "Progress:65.7% Speed(reviews/sec):634.0 #Correct:329 #Tested:658 Testing Accuracy:50.0%\r",
      "Progress:65.8% Speed(reviews/sec):634.3 #Correct:330 #Tested:659 Testing Accuracy:50.0%\r",
      "Progress:65.9% Speed(reviews/sec):634.3 #Correct:330 #Tested:660 Testing Accuracy:50.0%\r",
      "Progress:66.0% Speed(reviews/sec):634.5 #Correct:331 #Tested:661 Testing Accuracy:50.0%\r",
      "Progress:66.1% Speed(reviews/sec):634.7 #Correct:331 #Tested:662 Testing Accuracy:50.0%\r",
      "Progress:66.2% Speed(reviews/sec):634.4 #Correct:332 #Tested:663 Testing Accuracy:50.0%"
     ]
    },
    {
     "name": "stdout",
     "output_type": "stream",
     "text": [
      "\r",
      "Progress:66.3% Speed(reviews/sec):633.9 #Correct:332 #Tested:664 Testing Accuracy:50.0%\r",
      "Progress:66.4% Speed(reviews/sec):633.8 #Correct:333 #Tested:665 Testing Accuracy:50.0%\r",
      "Progress:66.5% Speed(reviews/sec):633.9 #Correct:333 #Tested:666 Testing Accuracy:50.0%\r",
      "Progress:66.6% Speed(reviews/sec):633.1 #Correct:334 #Tested:667 Testing Accuracy:50.0%\r",
      "Progress:66.7% Speed(reviews/sec):631.5 #Correct:334 #Tested:668 Testing Accuracy:50.0%\r",
      "Progress:66.8% Speed(reviews/sec):631.2 #Correct:335 #Tested:669 Testing Accuracy:50.0%\r",
      "Progress:66.9% Speed(reviews/sec):631.2 #Correct:335 #Tested:670 Testing Accuracy:50.0%\r",
      "Progress:67.0% Speed(reviews/sec):631.4 #Correct:336 #Tested:671 Testing Accuracy:50.0%\r",
      "Progress:67.1% Speed(reviews/sec):631.5 #Correct:336 #Tested:672 Testing Accuracy:50.0%\r",
      "Progress:67.2% Speed(reviews/sec):631.7 #Correct:337 #Tested:673 Testing Accuracy:50.0%\r",
      "Progress:67.3% Speed(reviews/sec):627.4 #Correct:337 #Tested:674 Testing Accuracy:50.0%\r",
      "Progress:67.4% Speed(reviews/sec):627.5 #Correct:338 #Tested:675 Testing Accuracy:50.0%\r",
      "Progress:67.5% Speed(reviews/sec):627.6 #Correct:338 #Tested:676 Testing Accuracy:50.0%\r",
      "Progress:67.6% Speed(reviews/sec):627.6 #Correct:339 #Tested:677 Testing Accuracy:50.0%\r",
      "Progress:67.7% Speed(reviews/sec):627.6 #Correct:339 #Tested:678 Testing Accuracy:50.0%\r",
      "Progress:67.8% Speed(reviews/sec):627.6 #Correct:340 #Tested:679 Testing Accuracy:50.0%\r",
      "Progress:67.9% Speed(reviews/sec):627.4 #Correct:340 #Tested:680 Testing Accuracy:50.0%\r",
      "Progress:68.0% Speed(reviews/sec):627.0 #Correct:341 #Tested:681 Testing Accuracy:50.0%\r",
      "Progress:68.1% Speed(reviews/sec):626.9 #Correct:341 #Tested:682 Testing Accuracy:50.0%\r",
      "Progress:68.2% Speed(reviews/sec):626.8 #Correct:342 #Tested:683 Testing Accuracy:50.0%\r",
      "Progress:68.3% Speed(reviews/sec):626.7 #Correct:342 #Tested:684 Testing Accuracy:50.0%\r",
      "Progress:68.4% Speed(reviews/sec):626.7 #Correct:343 #Tested:685 Testing Accuracy:50.0%\r",
      "Progress:68.5% Speed(reviews/sec):626.7 #Correct:343 #Tested:686 Testing Accuracy:50.0%\r",
      "Progress:68.6% Speed(reviews/sec):626.9 #Correct:344 #Tested:687 Testing Accuracy:50.0%\r",
      "Progress:68.7% Speed(reviews/sec):627.1 #Correct:344 #Tested:688 Testing Accuracy:50.0%\r",
      "Progress:68.8% Speed(reviews/sec):626.9 #Correct:345 #Tested:689 Testing Accuracy:50.0%\r",
      "Progress:68.9% Speed(reviews/sec):627.0 #Correct:345 #Tested:690 Testing Accuracy:50.0%\r",
      "Progress:69.0% Speed(reviews/sec):627.2 #Correct:346 #Tested:691 Testing Accuracy:50.0%\r",
      "Progress:69.1% Speed(reviews/sec):627.4 #Correct:346 #Tested:692 Testing Accuracy:50.0%\r",
      "Progress:69.2% Speed(reviews/sec):627.5 #Correct:347 #Tested:693 Testing Accuracy:50.0%\r",
      "Progress:69.3% Speed(reviews/sec):627.7 #Correct:347 #Tested:694 Testing Accuracy:50.0%\r",
      "Progress:69.4% Speed(reviews/sec):627.6 #Correct:348 #Tested:695 Testing Accuracy:50.0%\r",
      "Progress:69.5% Speed(reviews/sec):626.8 #Correct:348 #Tested:696 Testing Accuracy:50.0%\r",
      "Progress:69.6% Speed(reviews/sec):626.9 #Correct:349 #Tested:697 Testing Accuracy:50.0%\r",
      "Progress:69.7% Speed(reviews/sec):627.1 #Correct:349 #Tested:698 Testing Accuracy:50.0%\r",
      "Progress:69.8% Speed(reviews/sec):627.2 #Correct:350 #Tested:699 Testing Accuracy:50.0%\r",
      "Progress:69.9% Speed(reviews/sec):627.4 #Correct:350 #Tested:700 Testing Accuracy:50.0%\r",
      "Progress:70.0% Speed(reviews/sec):627.4 #Correct:351 #Tested:701 Testing Accuracy:50.0%\r",
      "Progress:70.1% Speed(reviews/sec):627.6 #Correct:351 #Tested:702 Testing Accuracy:50.0%\r",
      "Progress:70.2% Speed(reviews/sec):627.7 #Correct:352 #Tested:703 Testing Accuracy:50.0%\r",
      "Progress:70.3% Speed(reviews/sec):627.7 #Correct:352 #Tested:704 Testing Accuracy:50.0%\r",
      "Progress:70.4% Speed(reviews/sec):627.7 #Correct:353 #Tested:705 Testing Accuracy:50.0%\r",
      "Progress:70.5% Speed(reviews/sec):627.8 #Correct:353 #Tested:706 Testing Accuracy:50.0%\r",
      "Progress:70.6% Speed(reviews/sec):628.0 #Correct:354 #Tested:707 Testing Accuracy:50.0%\r",
      "Progress:70.7% Speed(reviews/sec):628.2 #Correct:354 #Tested:708 Testing Accuracy:50.0%\r",
      "Progress:70.8% Speed(reviews/sec):628.2 #Correct:355 #Tested:709 Testing Accuracy:50.0%\r",
      "Progress:70.9% Speed(reviews/sec):628.4 #Correct:355 #Tested:710 Testing Accuracy:50.0%\r",
      "Progress:71.0% Speed(reviews/sec):628.5 #Correct:356 #Tested:711 Testing Accuracy:50.0%\r",
      "Progress:71.1% Speed(reviews/sec):628.7 #Correct:356 #Tested:712 Testing Accuracy:50.0%\r",
      "Progress:71.2% Speed(reviews/sec):629.0 #Correct:357 #Tested:713 Testing Accuracy:50.0%\r",
      "Progress:71.3% Speed(reviews/sec):629.1 #Correct:357 #Tested:714 Testing Accuracy:50.0%\r",
      "Progress:71.4% Speed(reviews/sec):629.2 #Correct:358 #Tested:715 Testing Accuracy:50.0%\r",
      "Progress:71.5% Speed(reviews/sec):629.4 #Correct:358 #Tested:716 Testing Accuracy:50.0%\r",
      "Progress:71.6% Speed(reviews/sec):629.6 #Correct:359 #Tested:717 Testing Accuracy:50.0%\r",
      "Progress:71.7% Speed(reviews/sec):629.8 #Correct:359 #Tested:718 Testing Accuracy:50.0%\r",
      "Progress:71.8% Speed(reviews/sec):629.8 #Correct:360 #Tested:719 Testing Accuracy:50.0%\r",
      "Progress:71.9% Speed(reviews/sec):630.0 #Correct:360 #Tested:720 Testing Accuracy:50.0%\r",
      "Progress:72.0% Speed(reviews/sec):630.3 #Correct:361 #Tested:721 Testing Accuracy:50.0%\r",
      "Progress:72.1% Speed(reviews/sec):630.5 #Correct:361 #Tested:722 Testing Accuracy:50.0%\r",
      "Progress:72.2% Speed(reviews/sec):630.6 #Correct:362 #Tested:723 Testing Accuracy:50.0%\r",
      "Progress:72.3% Speed(reviews/sec):630.7 #Correct:362 #Tested:724 Testing Accuracy:50.0%\r",
      "Progress:72.4% Speed(reviews/sec):630.9 #Correct:363 #Tested:725 Testing Accuracy:50.0%\r",
      "Progress:72.5% Speed(reviews/sec):631.1 #Correct:363 #Tested:726 Testing Accuracy:50.0%\r",
      "Progress:72.6% Speed(reviews/sec):631.0 #Correct:364 #Tested:727 Testing Accuracy:50.0%\r",
      "Progress:72.7% Speed(reviews/sec):630.8 #Correct:364 #Tested:728 Testing Accuracy:50.0%\r",
      "Progress:72.8% Speed(reviews/sec):631.1 #Correct:365 #Tested:729 Testing Accuracy:50.0%\r",
      "Progress:72.9% Speed(reviews/sec):630.8 #Correct:365 #Tested:730 Testing Accuracy:50.0%\r",
      "Progress:73.0% Speed(reviews/sec):630.9 #Correct:366 #Tested:731 Testing Accuracy:50.0%\r",
      "Progress:73.1% Speed(reviews/sec):631.1 #Correct:366 #Tested:732 Testing Accuracy:50.0%\r",
      "Progress:73.2% Speed(reviews/sec):631.1 #Correct:367 #Tested:733 Testing Accuracy:50.0%\r",
      "Progress:73.3% Speed(reviews/sec):631.1 #Correct:367 #Tested:734 Testing Accuracy:50.0%\r",
      "Progress:73.4% Speed(reviews/sec):631.1 #Correct:368 #Tested:735 Testing Accuracy:50.0%\r",
      "Progress:73.5% Speed(reviews/sec):631.2 #Correct:368 #Tested:736 Testing Accuracy:50.0%\r",
      "Progress:73.6% Speed(reviews/sec):631.3 #Correct:369 #Tested:737 Testing Accuracy:50.0%\r",
      "Progress:73.7% Speed(reviews/sec):631.5 #Correct:369 #Tested:738 Testing Accuracy:50.0%\r",
      "Progress:73.8% Speed(reviews/sec):631.6 #Correct:370 #Tested:739 Testing Accuracy:50.0%\r",
      "Progress:73.9% Speed(reviews/sec):631.8 #Correct:370 #Tested:740 Testing Accuracy:50.0%\r",
      "Progress:74.0% Speed(reviews/sec):632.0 #Correct:371 #Tested:741 Testing Accuracy:50.0%\r",
      "Progress:74.1% Speed(reviews/sec):632.2 #Correct:371 #Tested:742 Testing Accuracy:50.0%\r",
      "Progress:74.2% Speed(reviews/sec):632.4 #Correct:372 #Tested:743 Testing Accuracy:50.0%\r",
      "Progress:74.3% Speed(reviews/sec):632.4 #Correct:372 #Tested:744 Testing Accuracy:50.0%\r",
      "Progress:74.4% Speed(reviews/sec):632.6 #Correct:373 #Tested:745 Testing Accuracy:50.0%\r",
      "Progress:74.5% Speed(reviews/sec):632.4 #Correct:373 #Tested:746 Testing Accuracy:50.0%\r",
      "Progress:74.6% Speed(reviews/sec):632.5 #Correct:374 #Tested:747 Testing Accuracy:50.0%\r",
      "Progress:74.7% Speed(reviews/sec):632.3 #Correct:374 #Tested:748 Testing Accuracy:50.0%\r",
      "Progress:74.8% Speed(reviews/sec):632.4 #Correct:375 #Tested:749 Testing Accuracy:50.0%\r",
      "Progress:74.9% Speed(reviews/sec):632.4 #Correct:375 #Tested:750 Testing Accuracy:50.0%\r",
      "Progress:75.0% Speed(reviews/sec):632.6 #Correct:376 #Tested:751 Testing Accuracy:50.0%\r",
      "Progress:75.1% Speed(reviews/sec):632.8 #Correct:376 #Tested:752 Testing Accuracy:50.0%\r",
      "Progress:75.2% Speed(reviews/sec):632.9 #Correct:377 #Tested:753 Testing Accuracy:50.0%\r",
      "Progress:75.3% Speed(reviews/sec):633.0 #Correct:377 #Tested:754 Testing Accuracy:50.0%\r",
      "Progress:75.4% Speed(reviews/sec):633.0 #Correct:378 #Tested:755 Testing Accuracy:50.0%\r",
      "Progress:75.5% Speed(reviews/sec):633.2 #Correct:378 #Tested:756 Testing Accuracy:50.0%\r",
      "Progress:75.6% Speed(reviews/sec):633.3 #Correct:379 #Tested:757 Testing Accuracy:50.0%\r",
      "Progress:75.7% Speed(reviews/sec):633.5 #Correct:379 #Tested:758 Testing Accuracy:50.0%\r",
      "Progress:75.8% Speed(reviews/sec):633.6 #Correct:380 #Tested:759 Testing Accuracy:50.0%\r",
      "Progress:75.9% Speed(reviews/sec):633.7 #Correct:380 #Tested:760 Testing Accuracy:50.0%\r",
      "Progress:76.0% Speed(reviews/sec):633.9 #Correct:381 #Tested:761 Testing Accuracy:50.0%\r",
      "Progress:76.1% Speed(reviews/sec):633.9 #Correct:381 #Tested:762 Testing Accuracy:50.0%\r",
      "Progress:76.2% Speed(reviews/sec):633.9 #Correct:382 #Tested:763 Testing Accuracy:50.0%\r",
      "Progress:76.3% Speed(reviews/sec):634.1 #Correct:382 #Tested:764 Testing Accuracy:50.0%\r",
      "Progress:76.4% Speed(reviews/sec):634.2 #Correct:383 #Tested:765 Testing Accuracy:50.0%\r",
      "Progress:76.5% Speed(reviews/sec):634.2 #Correct:383 #Tested:766 Testing Accuracy:50.0%\r",
      "Progress:76.6% Speed(reviews/sec):634.4 #Correct:384 #Tested:767 Testing Accuracy:50.0%\r",
      "Progress:76.7% Speed(reviews/sec):634.5 #Correct:384 #Tested:768 Testing Accuracy:50.0%\r",
      "Progress:76.8% Speed(reviews/sec):634.6 #Correct:385 #Tested:769 Testing Accuracy:50.0%\r",
      "Progress:76.9% Speed(reviews/sec):634.8 #Correct:385 #Tested:770 Testing Accuracy:50.0%\r",
      "Progress:77.0% Speed(reviews/sec):634.7 #Correct:386 #Tested:771 Testing Accuracy:50.0%\r",
      "Progress:77.1% Speed(reviews/sec):634.9 #Correct:386 #Tested:772 Testing Accuracy:50.0%\r",
      "Progress:77.2% Speed(reviews/sec):635.1 #Correct:387 #Tested:773 Testing Accuracy:50.0%\r",
      "Progress:77.3% Speed(reviews/sec):635.1 #Correct:387 #Tested:774 Testing Accuracy:50.0%\r",
      "Progress:77.4% Speed(reviews/sec):635.3 #Correct:388 #Tested:775 Testing Accuracy:50.0%\r",
      "Progress:77.5% Speed(reviews/sec):635.3 #Correct:388 #Tested:776 Testing Accuracy:50.0%\r",
      "Progress:77.6% Speed(reviews/sec):635.3 #Correct:389 #Tested:777 Testing Accuracy:50.0%\r",
      "Progress:77.7% Speed(reviews/sec):635.3 #Correct:389 #Tested:778 Testing Accuracy:50.0%\r",
      "Progress:77.8% Speed(reviews/sec):635.1 #Correct:390 #Tested:779 Testing Accuracy:50.0%\r",
      "Progress:77.9% Speed(reviews/sec):635.2 #Correct:390 #Tested:780 Testing Accuracy:50.0%\r",
      "Progress:78.0% Speed(reviews/sec):634.9 #Correct:391 #Tested:781 Testing Accuracy:50.0%\r",
      "Progress:78.1% Speed(reviews/sec):635.1 #Correct:391 #Tested:782 Testing Accuracy:50.0%\r",
      "Progress:78.2% Speed(reviews/sec):635.1 #Correct:392 #Tested:783 Testing Accuracy:50.0%\r",
      "Progress:78.3% Speed(reviews/sec):635.4 #Correct:392 #Tested:784 Testing Accuracy:50.0%\r",
      "Progress:78.4% Speed(reviews/sec):635.3 #Correct:393 #Tested:785 Testing Accuracy:50.0%\r",
      "Progress:78.5% Speed(reviews/sec):635.5 #Correct:393 #Tested:786 Testing Accuracy:50.0%\r",
      "Progress:78.6% Speed(reviews/sec):635.5 #Correct:394 #Tested:787 Testing Accuracy:50.0%\r",
      "Progress:78.7% Speed(reviews/sec):635.4 #Correct:394 #Tested:788 Testing Accuracy:50.0%\r",
      "Progress:78.8% Speed(reviews/sec):635.6 #Correct:395 #Tested:789 Testing Accuracy:50.0%\r",
      "Progress:78.9% Speed(reviews/sec):635.5 #Correct:395 #Tested:790 Testing Accuracy:50.0%\r",
      "Progress:79.0% Speed(reviews/sec):635.4 #Correct:396 #Tested:791 Testing Accuracy:50.0%\r",
      "Progress:79.1% Speed(reviews/sec):635.4 #Correct:396 #Tested:792 Testing Accuracy:50.0%\r",
      "Progress:79.2% Speed(reviews/sec):635.3 #Correct:397 #Tested:793 Testing Accuracy:50.0%"
     ]
    },
    {
     "name": "stdout",
     "output_type": "stream",
     "text": [
      "\r",
      "Progress:79.3% Speed(reviews/sec):635.3 #Correct:397 #Tested:794 Testing Accuracy:50.0%\r",
      "Progress:79.4% Speed(reviews/sec):635.1 #Correct:398 #Tested:795 Testing Accuracy:50.0%\r",
      "Progress:79.5% Speed(reviews/sec):635.1 #Correct:398 #Tested:796 Testing Accuracy:50.0%\r",
      "Progress:79.6% Speed(reviews/sec):635.2 #Correct:399 #Tested:797 Testing Accuracy:50.0%\r",
      "Progress:79.7% Speed(reviews/sec):634.8 #Correct:399 #Tested:798 Testing Accuracy:50.0%\r",
      "Progress:79.8% Speed(reviews/sec):634.7 #Correct:400 #Tested:799 Testing Accuracy:50.0%\r",
      "Progress:79.9% Speed(reviews/sec):632.6 #Correct:400 #Tested:800 Testing Accuracy:50.0%\r",
      "Progress:80.0% Speed(reviews/sec):632.5 #Correct:401 #Tested:801 Testing Accuracy:50.0%\r",
      "Progress:80.1% Speed(reviews/sec):631.4 #Correct:401 #Tested:802 Testing Accuracy:50.0%\r",
      "Progress:80.2% Speed(reviews/sec):631.2 #Correct:402 #Tested:803 Testing Accuracy:50.0%\r",
      "Progress:80.3% Speed(reviews/sec):630.8 #Correct:402 #Tested:804 Testing Accuracy:50.0%\r",
      "Progress:80.4% Speed(reviews/sec):630.9 #Correct:403 #Tested:805 Testing Accuracy:50.0%\r",
      "Progress:80.5% Speed(reviews/sec):631.1 #Correct:403 #Tested:806 Testing Accuracy:50.0%\r",
      "Progress:80.6% Speed(reviews/sec):631.0 #Correct:404 #Tested:807 Testing Accuracy:50.0%\r",
      "Progress:80.7% Speed(reviews/sec):630.8 #Correct:404 #Tested:808 Testing Accuracy:50.0%\r",
      "Progress:80.8% Speed(reviews/sec):630.7 #Correct:405 #Tested:809 Testing Accuracy:50.0%\r",
      "Progress:80.9% Speed(reviews/sec):630.2 #Correct:405 #Tested:810 Testing Accuracy:50.0%\r",
      "Progress:81.0% Speed(reviews/sec):630.0 #Correct:406 #Tested:811 Testing Accuracy:50.0%\r",
      "Progress:81.1% Speed(reviews/sec):629.7 #Correct:406 #Tested:812 Testing Accuracy:50.0%\r",
      "Progress:81.2% Speed(reviews/sec):628.8 #Correct:407 #Tested:813 Testing Accuracy:50.0%\r",
      "Progress:81.3% Speed(reviews/sec):628.9 #Correct:407 #Tested:814 Testing Accuracy:50.0%\r",
      "Progress:81.4% Speed(reviews/sec):628.7 #Correct:408 #Tested:815 Testing Accuracy:50.0%\r",
      "Progress:81.5% Speed(reviews/sec):628.7 #Correct:408 #Tested:816 Testing Accuracy:50.0%\r",
      "Progress:81.6% Speed(reviews/sec):628.8 #Correct:409 #Tested:817 Testing Accuracy:50.0%\r",
      "Progress:81.7% Speed(reviews/sec):628.9 #Correct:409 #Tested:818 Testing Accuracy:50.0%\r",
      "Progress:81.8% Speed(reviews/sec):629.0 #Correct:410 #Tested:819 Testing Accuracy:50.0%\r",
      "Progress:81.9% Speed(reviews/sec):629.1 #Correct:410 #Tested:820 Testing Accuracy:50.0%\r",
      "Progress:82.0% Speed(reviews/sec):628.8 #Correct:411 #Tested:821 Testing Accuracy:50.0%\r",
      "Progress:82.1% Speed(reviews/sec):628.6 #Correct:411 #Tested:822 Testing Accuracy:50.0%\r",
      "Progress:82.2% Speed(reviews/sec):628.1 #Correct:412 #Tested:823 Testing Accuracy:50.0%\r",
      "Progress:82.3% Speed(reviews/sec):628.3 #Correct:412 #Tested:824 Testing Accuracy:50.0%\r",
      "Progress:82.4% Speed(reviews/sec):628.4 #Correct:413 #Tested:825 Testing Accuracy:50.0%\r",
      "Progress:82.5% Speed(reviews/sec):628.4 #Correct:413 #Tested:826 Testing Accuracy:50.0%\r",
      "Progress:82.6% Speed(reviews/sec):628.0 #Correct:414 #Tested:827 Testing Accuracy:50.0%\r",
      "Progress:82.7% Speed(reviews/sec):628.1 #Correct:414 #Tested:828 Testing Accuracy:50.0%\r",
      "Progress:82.8% Speed(reviews/sec):628.2 #Correct:415 #Tested:829 Testing Accuracy:50.0%\r",
      "Progress:82.9% Speed(reviews/sec):628.3 #Correct:415 #Tested:830 Testing Accuracy:50.0%\r",
      "Progress:83.0% Speed(reviews/sec):628.4 #Correct:416 #Tested:831 Testing Accuracy:50.0%\r",
      "Progress:83.1% Speed(reviews/sec):628.5 #Correct:416 #Tested:832 Testing Accuracy:50.0%\r",
      "Progress:83.2% Speed(reviews/sec):628.5 #Correct:417 #Tested:833 Testing Accuracy:50.0%\r",
      "Progress:83.3% Speed(reviews/sec):628.5 #Correct:417 #Tested:834 Testing Accuracy:50.0%\r",
      "Progress:83.4% Speed(reviews/sec):628.6 #Correct:418 #Tested:835 Testing Accuracy:50.0%\r",
      "Progress:83.5% Speed(reviews/sec):628.8 #Correct:418 #Tested:836 Testing Accuracy:50.0%\r",
      "Progress:83.6% Speed(reviews/sec):628.6 #Correct:419 #Tested:837 Testing Accuracy:50.0%\r",
      "Progress:83.7% Speed(reviews/sec):628.3 #Correct:419 #Tested:838 Testing Accuracy:50.0%\r",
      "Progress:83.8% Speed(reviews/sec):628.4 #Correct:420 #Tested:839 Testing Accuracy:50.0%\r",
      "Progress:83.9% Speed(reviews/sec):628.5 #Correct:420 #Tested:840 Testing Accuracy:50.0%\r",
      "Progress:84.0% Speed(reviews/sec):628.8 #Correct:421 #Tested:841 Testing Accuracy:50.0%\r",
      "Progress:84.1% Speed(reviews/sec):628.9 #Correct:421 #Tested:842 Testing Accuracy:50.0%\r",
      "Progress:84.2% Speed(reviews/sec):629.0 #Correct:422 #Tested:843 Testing Accuracy:50.0%\r",
      "Progress:84.3% Speed(reviews/sec):629.1 #Correct:422 #Tested:844 Testing Accuracy:50.0%\r",
      "Progress:84.4% Speed(reviews/sec):629.3 #Correct:423 #Tested:845 Testing Accuracy:50.0%\r",
      "Progress:84.5% Speed(reviews/sec):629.4 #Correct:423 #Tested:846 Testing Accuracy:50.0%\r",
      "Progress:84.6% Speed(reviews/sec):629.4 #Correct:424 #Tested:847 Testing Accuracy:50.0%\r",
      "Progress:84.7% Speed(reviews/sec):629.6 #Correct:424 #Tested:848 Testing Accuracy:50.0%\r",
      "Progress:84.8% Speed(reviews/sec):629.8 #Correct:425 #Tested:849 Testing Accuracy:50.0%\r",
      "Progress:84.9% Speed(reviews/sec):629.6 #Correct:425 #Tested:850 Testing Accuracy:50.0%\r",
      "Progress:85.0% Speed(reviews/sec):629.5 #Correct:426 #Tested:851 Testing Accuracy:50.0%\r",
      "Progress:85.1% Speed(reviews/sec):629.7 #Correct:426 #Tested:852 Testing Accuracy:50.0%\r",
      "Progress:85.2% Speed(reviews/sec):629.7 #Correct:427 #Tested:853 Testing Accuracy:50.0%\r",
      "Progress:85.3% Speed(reviews/sec):629.7 #Correct:427 #Tested:854 Testing Accuracy:50.0%\r",
      "Progress:85.4% Speed(reviews/sec):629.7 #Correct:428 #Tested:855 Testing Accuracy:50.0%\r",
      "Progress:85.5% Speed(reviews/sec):629.8 #Correct:428 #Tested:856 Testing Accuracy:50.0%\r",
      "Progress:85.6% Speed(reviews/sec):629.9 #Correct:429 #Tested:857 Testing Accuracy:50.0%\r",
      "Progress:85.7% Speed(reviews/sec):629.9 #Correct:429 #Tested:858 Testing Accuracy:50.0%\r",
      "Progress:85.8% Speed(reviews/sec):629.9 #Correct:430 #Tested:859 Testing Accuracy:50.0%\r",
      "Progress:85.9% Speed(reviews/sec):630.0 #Correct:430 #Tested:860 Testing Accuracy:50.0%\r",
      "Progress:86.0% Speed(reviews/sec):630.2 #Correct:431 #Tested:861 Testing Accuracy:50.0%\r",
      "Progress:86.1% Speed(reviews/sec):630.3 #Correct:431 #Tested:862 Testing Accuracy:50.0%\r",
      "Progress:86.2% Speed(reviews/sec):630.4 #Correct:432 #Tested:863 Testing Accuracy:50.0%\r",
      "Progress:86.3% Speed(reviews/sec):629.9 #Correct:432 #Tested:864 Testing Accuracy:50.0%\r",
      "Progress:86.4% Speed(reviews/sec):630.0 #Correct:433 #Tested:865 Testing Accuracy:50.0%\r",
      "Progress:86.5% Speed(reviews/sec):630.1 #Correct:433 #Tested:866 Testing Accuracy:50.0%\r",
      "Progress:86.6% Speed(reviews/sec):630.2 #Correct:434 #Tested:867 Testing Accuracy:50.0%\r",
      "Progress:86.7% Speed(reviews/sec):630.4 #Correct:434 #Tested:868 Testing Accuracy:50.0%\r",
      "Progress:86.8% Speed(reviews/sec):630.6 #Correct:435 #Tested:869 Testing Accuracy:50.0%\r",
      "Progress:86.9% Speed(reviews/sec):630.8 #Correct:435 #Tested:870 Testing Accuracy:50.0%\r",
      "Progress:87.0% Speed(reviews/sec):630.9 #Correct:436 #Tested:871 Testing Accuracy:50.0%\r",
      "Progress:87.1% Speed(reviews/sec):631.0 #Correct:436 #Tested:872 Testing Accuracy:50.0%\r",
      "Progress:87.2% Speed(reviews/sec):631.1 #Correct:437 #Tested:873 Testing Accuracy:50.0%\r",
      "Progress:87.3% Speed(reviews/sec):631.4 #Correct:437 #Tested:874 Testing Accuracy:50.0%\r",
      "Progress:87.4% Speed(reviews/sec):631.6 #Correct:438 #Tested:875 Testing Accuracy:50.0%\r",
      "Progress:87.5% Speed(reviews/sec):631.7 #Correct:438 #Tested:876 Testing Accuracy:50.0%\r",
      "Progress:87.6% Speed(reviews/sec):631.9 #Correct:439 #Tested:877 Testing Accuracy:50.0%\r",
      "Progress:87.7% Speed(reviews/sec):631.4 #Correct:439 #Tested:878 Testing Accuracy:50.0%\r",
      "Progress:87.8% Speed(reviews/sec):631.6 #Correct:440 #Tested:879 Testing Accuracy:50.0%\r",
      "Progress:87.9% Speed(reviews/sec):631.7 #Correct:440 #Tested:880 Testing Accuracy:50.0%\r",
      "Progress:88.0% Speed(reviews/sec):631.9 #Correct:441 #Tested:881 Testing Accuracy:50.0%\r",
      "Progress:88.1% Speed(reviews/sec):632.1 #Correct:441 #Tested:882 Testing Accuracy:50.0%\r",
      "Progress:88.2% Speed(reviews/sec):632.2 #Correct:442 #Tested:883 Testing Accuracy:50.0%\r",
      "Progress:88.3% Speed(reviews/sec):632.3 #Correct:442 #Tested:884 Testing Accuracy:50.0%\r",
      "Progress:88.4% Speed(reviews/sec):632.5 #Correct:443 #Tested:885 Testing Accuracy:50.0%\r",
      "Progress:88.5% Speed(reviews/sec):632.7 #Correct:443 #Tested:886 Testing Accuracy:50.0%\r",
      "Progress:88.6% Speed(reviews/sec):632.9 #Correct:444 #Tested:887 Testing Accuracy:50.0%\r",
      "Progress:88.7% Speed(reviews/sec):633.0 #Correct:444 #Tested:888 Testing Accuracy:50.0%\r",
      "Progress:88.8% Speed(reviews/sec):633.2 #Correct:445 #Tested:889 Testing Accuracy:50.0%\r",
      "Progress:88.9% Speed(reviews/sec):633.2 #Correct:445 #Tested:890 Testing Accuracy:50.0%\r",
      "Progress:89.0% Speed(reviews/sec):633.3 #Correct:446 #Tested:891 Testing Accuracy:50.0%\r",
      "Progress:89.1% Speed(reviews/sec):633.3 #Correct:446 #Tested:892 Testing Accuracy:50.0%\r",
      "Progress:89.2% Speed(reviews/sec):633.5 #Correct:447 #Tested:893 Testing Accuracy:50.0%\r",
      "Progress:89.3% Speed(reviews/sec):633.6 #Correct:447 #Tested:894 Testing Accuracy:50.0%\r",
      "Progress:89.4% Speed(reviews/sec):633.8 #Correct:448 #Tested:895 Testing Accuracy:50.0%\r",
      "Progress:89.5% Speed(reviews/sec):634.0 #Correct:448 #Tested:896 Testing Accuracy:50.0%\r",
      "Progress:89.6% Speed(reviews/sec):634.2 #Correct:449 #Tested:897 Testing Accuracy:50.0%\r",
      "Progress:89.7% Speed(reviews/sec):634.3 #Correct:449 #Tested:898 Testing Accuracy:50.0%\r",
      "Progress:89.8% Speed(reviews/sec):634.1 #Correct:450 #Tested:899 Testing Accuracy:50.0%\r",
      "Progress:89.9% Speed(reviews/sec):634.2 #Correct:450 #Tested:900 Testing Accuracy:50.0%\r",
      "Progress:90.0% Speed(reviews/sec):634.3 #Correct:451 #Tested:901 Testing Accuracy:50.0%\r",
      "Progress:90.1% Speed(reviews/sec):634.1 #Correct:451 #Tested:902 Testing Accuracy:50.0%\r",
      "Progress:90.2% Speed(reviews/sec):634.1 #Correct:452 #Tested:903 Testing Accuracy:50.0%\r",
      "Progress:90.3% Speed(reviews/sec):634.3 #Correct:452 #Tested:904 Testing Accuracy:50.0%\r",
      "Progress:90.4% Speed(reviews/sec):634.4 #Correct:453 #Tested:905 Testing Accuracy:50.0%\r",
      "Progress:90.5% Speed(reviews/sec):634.6 #Correct:453 #Tested:906 Testing Accuracy:50.0%\r",
      "Progress:90.6% Speed(reviews/sec):634.7 #Correct:454 #Tested:907 Testing Accuracy:50.0%\r",
      "Progress:90.7% Speed(reviews/sec):634.8 #Correct:454 #Tested:908 Testing Accuracy:50.0%\r",
      "Progress:90.8% Speed(reviews/sec):634.9 #Correct:455 #Tested:909 Testing Accuracy:50.0%\r",
      "Progress:90.9% Speed(reviews/sec):635.0 #Correct:455 #Tested:910 Testing Accuracy:50.0%\r",
      "Progress:91.0% Speed(reviews/sec):635.1 #Correct:456 #Tested:911 Testing Accuracy:50.0%\r",
      "Progress:91.1% Speed(reviews/sec):635.2 #Correct:456 #Tested:912 Testing Accuracy:50.0%\r",
      "Progress:91.2% Speed(reviews/sec):635.3 #Correct:457 #Tested:913 Testing Accuracy:50.0%\r",
      "Progress:91.3% Speed(reviews/sec):635.3 #Correct:457 #Tested:914 Testing Accuracy:50.0%\r",
      "Progress:91.4% Speed(reviews/sec):635.4 #Correct:458 #Tested:915 Testing Accuracy:50.0%\r",
      "Progress:91.5% Speed(reviews/sec):635.4 #Correct:458 #Tested:916 Testing Accuracy:50.0%\r",
      "Progress:91.6% Speed(reviews/sec):635.4 #Correct:459 #Tested:917 Testing Accuracy:50.0%\r",
      "Progress:91.7% Speed(reviews/sec):635.6 #Correct:459 #Tested:918 Testing Accuracy:50.0%\r",
      "Progress:91.8% Speed(reviews/sec):635.7 #Correct:460 #Tested:919 Testing Accuracy:50.0%\r",
      "Progress:91.9% Speed(reviews/sec):635.7 #Correct:460 #Tested:920 Testing Accuracy:50.0%\r",
      "Progress:92.0% Speed(reviews/sec):635.8 #Correct:461 #Tested:921 Testing Accuracy:50.0%\r",
      "Progress:92.1% Speed(reviews/sec):635.9 #Correct:461 #Tested:922 Testing Accuracy:50.0%"
     ]
    },
    {
     "name": "stdout",
     "output_type": "stream",
     "text": [
      "\r",
      "Progress:92.2% Speed(reviews/sec):636.0 #Correct:462 #Tested:923 Testing Accuracy:50.0%\r",
      "Progress:92.3% Speed(reviews/sec):636.2 #Correct:462 #Tested:924 Testing Accuracy:50.0%\r",
      "Progress:92.4% Speed(reviews/sec):636.2 #Correct:463 #Tested:925 Testing Accuracy:50.0%\r",
      "Progress:92.5% Speed(reviews/sec):636.3 #Correct:463 #Tested:926 Testing Accuracy:50.0%\r",
      "Progress:92.6% Speed(reviews/sec):636.0 #Correct:464 #Tested:927 Testing Accuracy:50.0%\r",
      "Progress:92.7% Speed(reviews/sec):636.0 #Correct:464 #Tested:928 Testing Accuracy:50.0%\r",
      "Progress:92.8% Speed(reviews/sec):636.2 #Correct:465 #Tested:929 Testing Accuracy:50.0%\r",
      "Progress:92.9% Speed(reviews/sec):636.0 #Correct:465 #Tested:930 Testing Accuracy:50.0%\r",
      "Progress:93.0% Speed(reviews/sec):636.2 #Correct:466 #Tested:931 Testing Accuracy:50.0%\r",
      "Progress:93.1% Speed(reviews/sec):635.8 #Correct:466 #Tested:932 Testing Accuracy:50.0%\r",
      "Progress:93.2% Speed(reviews/sec):635.9 #Correct:467 #Tested:933 Testing Accuracy:50.0%\r",
      "Progress:93.3% Speed(reviews/sec):635.6 #Correct:467 #Tested:934 Testing Accuracy:50.0%\r",
      "Progress:93.4% Speed(reviews/sec):635.5 #Correct:468 #Tested:935 Testing Accuracy:50.0%\r",
      "Progress:93.5% Speed(reviews/sec):635.7 #Correct:468 #Tested:936 Testing Accuracy:50.0%\r",
      "Progress:93.6% Speed(reviews/sec):635.7 #Correct:469 #Tested:937 Testing Accuracy:50.0%\r",
      "Progress:93.7% Speed(reviews/sec):635.7 #Correct:469 #Tested:938 Testing Accuracy:50.0%\r",
      "Progress:93.8% Speed(reviews/sec):635.8 #Correct:470 #Tested:939 Testing Accuracy:50.0%\r",
      "Progress:93.9% Speed(reviews/sec):635.9 #Correct:470 #Tested:940 Testing Accuracy:50.0%\r",
      "Progress:94.0% Speed(reviews/sec):636.0 #Correct:471 #Tested:941 Testing Accuracy:50.0%\r",
      "Progress:94.1% Speed(reviews/sec):636.0 #Correct:471 #Tested:942 Testing Accuracy:50.0%\r",
      "Progress:94.2% Speed(reviews/sec):636.1 #Correct:472 #Tested:943 Testing Accuracy:50.0%\r",
      "Progress:94.3% Speed(reviews/sec):636.0 #Correct:472 #Tested:944 Testing Accuracy:50.0%\r",
      "Progress:94.4% Speed(reviews/sec):635.3 #Correct:473 #Tested:945 Testing Accuracy:50.0%\r",
      "Progress:94.5% Speed(reviews/sec):635.2 #Correct:473 #Tested:946 Testing Accuracy:50.0%\r",
      "Progress:94.6% Speed(reviews/sec):634.9 #Correct:474 #Tested:947 Testing Accuracy:50.0%\r",
      "Progress:94.7% Speed(reviews/sec):634.8 #Correct:474 #Tested:948 Testing Accuracy:50.0%\r",
      "Progress:94.8% Speed(reviews/sec):634.8 #Correct:475 #Tested:949 Testing Accuracy:50.0%\r",
      "Progress:94.9% Speed(reviews/sec):634.9 #Correct:475 #Tested:950 Testing Accuracy:50.0%\r",
      "Progress:95.0% Speed(reviews/sec):635.0 #Correct:476 #Tested:951 Testing Accuracy:50.0%\r",
      "Progress:95.1% Speed(reviews/sec):634.8 #Correct:476 #Tested:952 Testing Accuracy:50.0%\r",
      "Progress:95.2% Speed(reviews/sec):634.9 #Correct:477 #Tested:953 Testing Accuracy:50.0%\r",
      "Progress:95.3% Speed(reviews/sec):635.0 #Correct:477 #Tested:954 Testing Accuracy:50.0%\r",
      "Progress:95.4% Speed(reviews/sec):634.8 #Correct:478 #Tested:955 Testing Accuracy:50.0%\r",
      "Progress:95.5% Speed(reviews/sec):635.0 #Correct:478 #Tested:956 Testing Accuracy:50.0%\r",
      "Progress:95.6% Speed(reviews/sec):635.1 #Correct:479 #Tested:957 Testing Accuracy:50.0%\r",
      "Progress:95.7% Speed(reviews/sec):635.0 #Correct:479 #Tested:958 Testing Accuracy:50.0%\r",
      "Progress:95.8% Speed(reviews/sec):634.8 #Correct:480 #Tested:959 Testing Accuracy:50.0%\r",
      "Progress:95.9% Speed(reviews/sec):635.0 #Correct:480 #Tested:960 Testing Accuracy:50.0%\r",
      "Progress:96.0% Speed(reviews/sec):635.0 #Correct:481 #Tested:961 Testing Accuracy:50.0%\r",
      "Progress:96.1% Speed(reviews/sec):635.1 #Correct:481 #Tested:962 Testing Accuracy:50.0%\r",
      "Progress:96.2% Speed(reviews/sec):635.3 #Correct:482 #Tested:963 Testing Accuracy:50.0%\r",
      "Progress:96.3% Speed(reviews/sec):635.5 #Correct:482 #Tested:964 Testing Accuracy:50.0%\r",
      "Progress:96.4% Speed(reviews/sec):635.6 #Correct:483 #Tested:965 Testing Accuracy:50.0%\r",
      "Progress:96.5% Speed(reviews/sec):635.8 #Correct:483 #Tested:966 Testing Accuracy:50.0%\r",
      "Progress:96.6% Speed(reviews/sec):635.9 #Correct:484 #Tested:967 Testing Accuracy:50.0%\r",
      "Progress:96.7% Speed(reviews/sec):636.1 #Correct:484 #Tested:968 Testing Accuracy:50.0%\r",
      "Progress:96.8% Speed(reviews/sec):636.2 #Correct:485 #Tested:969 Testing Accuracy:50.0%\r",
      "Progress:96.9% Speed(reviews/sec):636.3 #Correct:485 #Tested:970 Testing Accuracy:50.0%\r",
      "Progress:97.0% Speed(reviews/sec):636.3 #Correct:486 #Tested:971 Testing Accuracy:50.0%\r",
      "Progress:97.1% Speed(reviews/sec):636.4 #Correct:486 #Tested:972 Testing Accuracy:50.0%\r",
      "Progress:97.2% Speed(reviews/sec):636.6 #Correct:487 #Tested:973 Testing Accuracy:50.0%\r",
      "Progress:97.3% Speed(reviews/sec):636.5 #Correct:487 #Tested:974 Testing Accuracy:50.0%\r",
      "Progress:97.4% Speed(reviews/sec):636.6 #Correct:488 #Tested:975 Testing Accuracy:50.0%\r",
      "Progress:97.5% Speed(reviews/sec):636.7 #Correct:488 #Tested:976 Testing Accuracy:50.0%\r",
      "Progress:97.6% Speed(reviews/sec):636.8 #Correct:489 #Tested:977 Testing Accuracy:50.0%\r",
      "Progress:97.7% Speed(reviews/sec):636.6 #Correct:489 #Tested:978 Testing Accuracy:50.0%\r",
      "Progress:97.8% Speed(reviews/sec):636.8 #Correct:490 #Tested:979 Testing Accuracy:50.0%\r",
      "Progress:97.9% Speed(reviews/sec):636.8 #Correct:490 #Tested:980 Testing Accuracy:50.0%\r",
      "Progress:98.0% Speed(reviews/sec):636.9 #Correct:491 #Tested:981 Testing Accuracy:50.0%\r",
      "Progress:98.1% Speed(reviews/sec):636.6 #Correct:491 #Tested:982 Testing Accuracy:50.0%\r",
      "Progress:98.2% Speed(reviews/sec):636.8 #Correct:492 #Tested:983 Testing Accuracy:50.0%\r",
      "Progress:98.3% Speed(reviews/sec):636.6 #Correct:492 #Tested:984 Testing Accuracy:50.0%\r",
      "Progress:98.4% Speed(reviews/sec):636.8 #Correct:493 #Tested:985 Testing Accuracy:50.0%\r",
      "Progress:98.5% Speed(reviews/sec):637.0 #Correct:493 #Tested:986 Testing Accuracy:50.0%\r",
      "Progress:98.6% Speed(reviews/sec):637.1 #Correct:494 #Tested:987 Testing Accuracy:50.0%\r",
      "Progress:98.7% Speed(reviews/sec):637.2 #Correct:494 #Tested:988 Testing Accuracy:50.0%\r",
      "Progress:98.8% Speed(reviews/sec):637.3 #Correct:495 #Tested:989 Testing Accuracy:50.0%\r",
      "Progress:98.9% Speed(reviews/sec):637.3 #Correct:495 #Tested:990 Testing Accuracy:50.0%\r",
      "Progress:99.0% Speed(reviews/sec):637.5 #Correct:496 #Tested:991 Testing Accuracy:50.0%\r",
      "Progress:99.1% Speed(reviews/sec):637.5 #Correct:496 #Tested:992 Testing Accuracy:50.0%\r",
      "Progress:99.2% Speed(reviews/sec):637.6 #Correct:497 #Tested:993 Testing Accuracy:50.0%\r",
      "Progress:99.3% Speed(reviews/sec):637.6 #Correct:497 #Tested:994 Testing Accuracy:50.0%\r",
      "Progress:99.4% Speed(reviews/sec):637.5 #Correct:498 #Tested:995 Testing Accuracy:50.0%\r",
      "Progress:99.5% Speed(reviews/sec):637.5 #Correct:498 #Tested:996 Testing Accuracy:50.0%\r",
      "Progress:99.6% Speed(reviews/sec):637.6 #Correct:499 #Tested:997 Testing Accuracy:50.0%\r",
      "Progress:99.7% Speed(reviews/sec):637.7 #Correct:499 #Tested:998 Testing Accuracy:50.0%\r",
      "Progress:99.8% Speed(reviews/sec):637.7 #Correct:500 #Tested:999 Testing Accuracy:50.0%\r",
      "Progress:99.9% Speed(reviews/sec):637.7 #Correct:500 #Tested:1000 Testing Accuracy:50.0%"
     ]
    }
   ],
   "source": [
    "mlp.test(reviews[-1000:],labels[-1000:])"
   ]
  },
  {
   "cell_type": "markdown",
   "metadata": {},
   "source": [
    "Run the following cell to actually train the network. During training, it will display the model's accuracy repeatedly as it trains so you can see how well it's doing."
   ]
  },
  {
   "cell_type": "code",
   "execution_count": 19,
   "metadata": {},
   "outputs": [
    {
     "name": "stdout",
     "output_type": "stream",
     "text": [
      "Progress:0.0% Speed(reviews/sec):0.0 #Correct:0 #Trained:1 Training Accuracy:0.0%\n",
      "Progress:10.4% Speed(reviews/sec):158.8 #Correct:1250 #Trained:2501 Training Accuracy:49.9%\n",
      "Progress:20.8% Speed(reviews/sec):144.1 #Correct:2500 #Trained:5001 Training Accuracy:49.9%\n",
      "Progress:31.2% Speed(reviews/sec):136.0 #Correct:3750 #Trained:7501 Training Accuracy:49.9%\n",
      "Progress:41.6% Speed(reviews/sec):132.1 #Correct:5000 #Trained:10001 Training Accuracy:49.9%\n",
      "Progress:52.0% Speed(reviews/sec):140.5 #Correct:6250 #Trained:12501 Training Accuracy:49.9%\n",
      "Progress:62.5% Speed(reviews/sec):146.6 #Correct:7500 #Trained:15001 Training Accuracy:49.9%\n",
      "Progress:72.9% Speed(reviews/sec):151.4 #Correct:8750 #Trained:17501 Training Accuracy:49.9%\n",
      "Progress:83.3% Speed(reviews/sec):155.2 #Correct:10000 #Trained:20001 Training Accuracy:49.9%\n",
      "Progress:93.7% Speed(reviews/sec):158.2 #Correct:11250 #Trained:22501 Training Accuracy:49.9%\n",
      "Progress:99.9% Speed(reviews/sec):159.5 #Correct:11999 #Trained:24000 Training Accuracy:49.9%"
     ]
    }
   ],
   "source": [
    "mlp.train(reviews[:-1000],labels[:-1000])"
   ]
  },
  {
   "cell_type": "markdown",
   "metadata": {},
   "source": [
    "That most likely didn't train very well. Part of the reason may be because the learning rate is too high. Run the following cell to recreate the network with a smaller learning rate, `0.01`, and then train the new network."
   ]
  },
  {
   "cell_type": "code",
   "execution_count": 20,
   "metadata": {},
   "outputs": [
    {
     "name": "stdout",
     "output_type": "stream",
     "text": [
      "Progress:0.0% Speed(reviews/sec):0.0 #Correct:0 #Trained:1 Training Accuracy:0.0%\n",
      "Progress:10.4% Speed(reviews/sec):168.4 #Correct:1247 #Trained:2501 Training Accuracy:49.8%\n",
      "Progress:20.8% Speed(reviews/sec):130.9 #Correct:2497 #Trained:5001 Training Accuracy:49.9%\n",
      "Progress:31.2% Speed(reviews/sec):126.7 #Correct:3747 #Trained:7501 Training Accuracy:49.9%\n",
      "Progress:41.6% Speed(reviews/sec):132.2 #Correct:4997 #Trained:10001 Training Accuracy:49.9%\n",
      "Progress:52.0% Speed(reviews/sec):137.8 #Correct:6247 #Trained:12501 Training Accuracy:49.9%\n",
      "Progress:62.5% Speed(reviews/sec):139.8 #Correct:7492 #Trained:15001 Training Accuracy:49.9%\n",
      "Progress:72.9% Speed(reviews/sec):142.3 #Correct:8742 #Trained:17501 Training Accuracy:49.9%\n",
      "Progress:83.3% Speed(reviews/sec):143.6 #Correct:9992 #Trained:20001 Training Accuracy:49.9%\n",
      "Progress:93.7% Speed(reviews/sec):146.1 #Correct:11242 #Trained:22501 Training Accuracy:49.9%\n",
      "Progress:99.9% Speed(reviews/sec):147.2 #Correct:11991 #Trained:24000 Training Accuracy:49.9%"
     ]
    }
   ],
   "source": [
    "mlp = SentimentNetwork(reviews[:-1000],labels[:-1000], learning_rate=0.01)\n",
    "mlp.train(reviews[:-1000],labels[:-1000])"
   ]
  },
  {
   "cell_type": "markdown",
   "metadata": {},
   "source": [
    "That probably wasn't much different. Run the following cell to recreate the network one more time with an even smaller learning rate, `0.001`, and then train the new network."
   ]
  },
  {
   "cell_type": "code",
   "execution_count": 21,
   "metadata": {},
   "outputs": [
    {
     "name": "stdout",
     "output_type": "stream",
     "text": [
      "Progress:0.0% Speed(reviews/sec):0.0 #Correct:0 #Trained:1 Training Accuracy:0.0%\n",
      "Progress:10.4% Speed(reviews/sec):187.1 #Correct:1258 #Trained:2501 Training Accuracy:50.2%\n",
      "Progress:20.8% Speed(reviews/sec):187.4 #Correct:2600 #Trained:5001 Training Accuracy:51.9%\n",
      "Progress:31.2% Speed(reviews/sec):188.0 #Correct:4023 #Trained:7501 Training Accuracy:53.6%\n",
      "Progress:41.6% Speed(reviews/sec):188.5 #Correct:5562 #Trained:10001 Training Accuracy:55.6%\n",
      "Progress:52.0% Speed(reviews/sec):188.5 #Correct:7162 #Trained:12501 Training Accuracy:57.2%\n",
      "Progress:62.5% Speed(reviews/sec):188.5 #Correct:8743 #Trained:15001 Training Accuracy:58.2%\n",
      "Progress:72.9% Speed(reviews/sec):188.3 #Correct:10386 #Trained:17501 Training Accuracy:59.3%\n",
      "Progress:83.3% Speed(reviews/sec):188.1 #Correct:11993 #Trained:20001 Training Accuracy:59.9%\n",
      "Progress:93.7% Speed(reviews/sec):184.2 #Correct:13699 #Trained:22501 Training Accuracy:60.8%\n",
      "Progress:99.9% Speed(reviews/sec):181.2 #Correct:14797 #Trained:24000 Training Accuracy:61.6%"
     ]
    }
   ],
   "source": [
    "mlp = SentimentNetwork(reviews[:-1000],labels[:-1000], learning_rate=0.001)\n",
    "mlp.train(reviews[:-1000],labels[:-1000])"
   ]
  },
  {
   "cell_type": "markdown",
   "metadata": {},
   "source": [
    "With a learning rate of `0.001`, the network should finall have started to improve during training. It's still not very good, but it shows that this solution has potential. We will improve it in the next lesson."
   ]
  },
  {
   "cell_type": "markdown",
   "metadata": {},
   "source": [
    "# End of Project 3. \n",
    "## Watch the next video to see Andrew's solution, then continue on to the next lesson."
   ]
  },
  {
   "cell_type": "markdown",
   "metadata": {},
   "source": [
    "# Understanding Neural Noise<a id='lesson_4'></a>\n",
    "\n",
    "The following cells include includes the code Andrew shows in the next video. We've included it here so you can run the cells along with the video without having to type in everything."
   ]
  },
  {
   "cell_type": "code",
   "execution_count": null,
   "metadata": {},
   "outputs": [],
   "source": [
    "from IPython.display import Image\n",
    "Image(filename='sentiment_network.png')"
   ]
  },
  {
   "cell_type": "code",
   "execution_count": null,
   "metadata": {},
   "outputs": [],
   "source": [
    "def update_input_layer(review):\n",
    "    \n",
    "    global layer_0\n",
    "    \n",
    "    # clear out previous state, reset the layer to be all 0s\n",
    "    layer_0 *= 0\n",
    "    for word in review.split(\" \"):\n",
    "        layer_0[0][word2index[word]] += 1\n",
    "\n",
    "update_input_layer(reviews[0])"
   ]
  },
  {
   "cell_type": "code",
   "execution_count": null,
   "metadata": {},
   "outputs": [],
   "source": [
    "layer_0"
   ]
  },
  {
   "cell_type": "code",
   "execution_count": null,
   "metadata": {},
   "outputs": [],
   "source": [
    "review_counter = Counter()"
   ]
  },
  {
   "cell_type": "code",
   "execution_count": null,
   "metadata": {},
   "outputs": [],
   "source": [
    "for word in reviews[0].split(\" \"):\n",
    "    review_counter[word] += 1"
   ]
  },
  {
   "cell_type": "code",
   "execution_count": null,
   "metadata": {},
   "outputs": [],
   "source": [
    "review_counter.most_common()"
   ]
  },
  {
   "cell_type": "markdown",
   "metadata": {},
   "source": [
    "# Project 4: Reducing Noise in Our Input Data<a id='project_4'></a>\n",
    "\n",
    "**TODO:** Attempt to reduce the noise in the input data like Andrew did in the previous video. Specifically, do the following:\n",
    "* Copy the `SentimentNetwork` class you created earlier into the following cell.\n",
    "* Modify `update_input_layer` so it does not count how many times each word is used, but rather just stores whether or not a word was used. "
   ]
  },
  {
   "cell_type": "code",
   "execution_count": 2,
   "metadata": {},
   "outputs": [],
   "source": [
    "# TODO: -Copy the SentimentNetwork class from Projet 3 lesson\n",
    "#       -Modify it to reduce noise, like in the video \n",
    "import time\n",
    "import sys\n",
    "import numpy as np\n",
    "\n",
    "# Encapsulate our neural network in a class\n",
    "class SentimentNetwork:\n",
    "    def __init__(self, reviews, labels, hidden_nodes = 10, learning_rate = 0.1):\n",
    "        \"\"\"Create a SentimenNetwork with the given settings\n",
    "        Args:\n",
    "            reviews(list) - List of reviews used for training\n",
    "            labels(list) - List of POSITIVE/NEGATIVE labels associated with the given reviews\n",
    "            hidden_nodes(int) - Number of nodes to create in the hidden layer\n",
    "            learning_rate(float) - Learning rate to use while training\n",
    "        \n",
    "        \"\"\"\n",
    "        # Assign a seed to our random number generator to ensure we get\n",
    "        # reproducable results during development \n",
    "        np.random.seed(1)\n",
    "\n",
    "        # process the reviews and their associated labels so that everything\n",
    "        # is ready for training\n",
    "        self.pre_process_data(reviews, labels)\n",
    "        \n",
    "        # Build the network to have the number of hidden nodes and the learning rate that\n",
    "        # were passed into this initializer. Make the same number of input nodes as\n",
    "        # there are vocabulary words and create a single output node.\n",
    "        self.init_network(len(self.review_vocab),hidden_nodes, 1, learning_rate)\n",
    "\n",
    "    def pre_process_data(self, reviews, labels):\n",
    "        \n",
    "        review_vocab = set()\n",
    "        # TODO: populate review_vocab with all of the words in the given reviews\n",
    "        #       Remember to split reviews into individual words \n",
    "        #       using \"split(' ')\" instead of \"split()\".\n",
    "        for review in reviews:\n",
    "            review_vocab.update(review.split(\" \"))   \n",
    "        # Convert the vocabulary set to a list so we can access words via indices\n",
    "        self.review_vocab = list(review_vocab)\n",
    "        \n",
    "        label_vocab = set()\n",
    "        # TODO: populate label_vocab with all of the words in the given labels.\n",
    "        #       There is no need to split the labels because each one is a single word.\n",
    "        for label in labels:\n",
    "            label_vocab.update(label)\n",
    "        # Convert the label vocabulary set to a list so we can access labels via indices\n",
    "        self.label_vocab = list(label_vocab)\n",
    "        \n",
    "        # Store the sizes of the review and label vocabularies.\n",
    "        self.review_vocab_size = len(self.review_vocab)\n",
    "        self.label_vocab_size = len(self.label_vocab)\n",
    "        \n",
    "        # Create a dictionary of words in the vocabulary mapped to index positions\n",
    "        self.word2index = {}\n",
    "        # TODO: populate self.word2index with indices for all the words in self.review_vocab\n",
    "        #       like you saw earlier in the notebook\n",
    "        for i, word in enumerate(self.review_vocab):\n",
    "            self.word2index[word] = i  \n",
    "        # Create a dictionary of labels mapped to index positions\n",
    "        self.label2index = {}\n",
    "        # TODO: do the same thing you did for self.word2index and self.review_vocab, \n",
    "        #       but for self.label2index and self.label_vocab instead\n",
    "        for i, label in enumerate(self.label_vocab):\n",
    "            self.label2index[label] = i     \n",
    "        \n",
    "    def init_network(self, input_nodes, hidden_nodes, output_nodes, learning_rate):\n",
    "        # Store the number of nodes in input, hidden, and output layers.\n",
    "        self.input_nodes = input_nodes\n",
    "        self.hidden_nodes = hidden_nodes\n",
    "        self.output_nodes = output_nodes\n",
    "\n",
    "        # Store the learning rate\n",
    "        self.learning_rate = learning_rate\n",
    "\n",
    "        # Initialize weights\n",
    "        \n",
    "        # TODO: initialize self.weights_0_1 as a matrix of zeros. These are the weights between\n",
    "        #       the input layer and the hidden layer.\n",
    "        self.weights_0_1 = np.zeros((self.input_nodes, self.hidden_nodes))\n",
    "        \n",
    "        # TODO: initialize self.weights_1_2 as a matrix of random values. \n",
    "        #       These are the weights between the hidden layer and the output layer.\n",
    "        self.weights_1_2 = np.random.normal(0.0, self.hidden_nodes ** -0.5,\n",
    "                                                (self.hidden_nodes, self.output_nodes))\n",
    "        \n",
    "        # TODO: Create the input layer, a two-dimensional matrix with shape \n",
    "        #       1 x input_nodes, with all values initialized to zero\n",
    "        self.layer_0 = np.zeros((1,input_nodes))\n",
    "    \n",
    "        \n",
    "    def update_input_layer(self,review):\n",
    "        # TODO: You can copy most of the code you wrote for update_input_layer \n",
    "        #       earlier in this notebook. \n",
    "        #\n",
    "        #       However, MAKE SURE YOU CHANGE ALL VARIABLES TO REFERENCE\n",
    "        #       THE VERSIONS STORED IN THIS OBJECT, NOT THE GLOBAL OBJECTS.\n",
    "        #       For example, replace \"layer_0 *= 0\" with \"self.layer_0 *= 0\"\n",
    "        self.layer_0 *= 0\n",
    "        for word in review.split(\" \"):\n",
    "            if word in self.word2index.keys():\n",
    "                self.layer_0[0, self.word2index[word]] = 1\n",
    "                \n",
    "    def get_target_for_label(self,label):\n",
    "        # TODO: Copy the code you wrote for get_target_for_label \n",
    "        #       earlier in this notebook. \n",
    "        if label == 'POSITIVE':\n",
    "            return 1\n",
    "        else: return 0\n",
    "        \n",
    "    def sigmoid(self,x):\n",
    "        # TODO: Return the result of calculating the sigmoid activation function\n",
    "        #       shown in the lectures\n",
    "        return 1/(1 + np.exp(-x)) \n",
    "    \n",
    "    def sigmoid_output_2_derivative(self,output):\n",
    "        # TODO: Return the derivative of the sigmoid activation function, \n",
    "        #       where \"output\" is the original output from the sigmoid fucntion \n",
    "        return output * (1 - output)\n",
    "\n",
    "    def train(self, training_reviews, training_labels):\n",
    "        \n",
    "        # make sure out we have a matching number of reviews and labels\n",
    "        assert(len(training_reviews) == len(training_labels))\n",
    "        \n",
    "        # Keep track of correct predictions to display accuracy during training \n",
    "        correct_so_far = 0\n",
    "        \n",
    "        # Remember when we started for printing time statistics\n",
    "        start = time.time()\n",
    "\n",
    "        # loop through all the given reviews and run a forward and backward pass,\n",
    "        # updating weights for every item\n",
    "        for i in range(len(training_reviews)):\n",
    "            \n",
    "            # TODO: Get the next review and its correct label\n",
    "            label = self.get_target_for_label(training_labels[i])\n",
    "            # Input layer\n",
    "            self.update_input_layer(training_reviews[i])\n",
    "            \n",
    "            # TODO: Implement the forward pass through the network. \n",
    "            #       That means use the given review to update the input layer, \n",
    "            #       then calculate values for the hidden layer,\n",
    "            #       and finally calculate the output layer.\n",
    "            # \n",
    "            #       Do not use an activation function for the hidden layer,\n",
    "            #       but use the sigmoid activation function for the output layer.\n",
    "            \n",
    "            # Input to hidden layer\n",
    "            input_to_hidden = np.dot(self.layer_0, self.weights_0_1)\n",
    "            # Output of hidden layer\n",
    "            hidden_output = self.sigmoid(np.dot(input_to_hidden, self.weights_1_2))\n",
    "            \n",
    "            # TODO: Implement the back propagation pass here. \n",
    "            #       That means calculate the error for the forward pass's prediction\n",
    "            #       and update the weights in the network according to their\n",
    "            #       contributions toward the error, as calculated via the\n",
    "            #       gradient descent and back propagation algorithms you \n",
    "            #       learned in class.\n",
    "            \n",
    "            # Calculating the errors\n",
    "            layer_2_error = label - hidden_output\n",
    "            layer_2_delta = layer_2_error * self.sigmoid_output_2_derivative(hidden_output)\n",
    "            layer_1_delta = np.dot(layer_2_delta, self.weights_1_2.T)\n",
    "            # Calculatin the delta for weights\n",
    "            delta_weights_1_2 = self.learning_rate * input_to_hidden.T.dot(layer_2_delta)\n",
    "            delta_weights_0_1 = self.learning_rate * self.layer_0.T.dot(layer_1_delta)\n",
    "            # Updating the weights\n",
    "            self.weights_1_2 += delta_weights_1_2\n",
    "            self.weights_0_1 += delta_weights_0_1\n",
    "            \n",
    "            # TODO: Keep track of correct predictions. To determine if the prediction was\n",
    "            #       correct, check that the absolute value of the output error \n",
    "            #       is less than 0.5. If so, add one to the correct_so_far count.\n",
    "            if np.abs(layer_2_error) < 0.5:\n",
    "                correct_so_far += 1\n",
    "                \n",
    "            # For debug purposes, print out our prediction accuracy and speed \n",
    "            # throughout the training process. \n",
    "\n",
    "            elapsed_time = float(time.time() - start)\n",
    "            reviews_per_second = i / elapsed_time if elapsed_time > 0 else 0\n",
    "            \n",
    "            sys.stdout.write(\"\\rProgress:\" + str(100 * i/float(len(training_reviews)))[:4] \\\n",
    "                             + \"% Speed(reviews/sec):\" + str(reviews_per_second)[0:5] \\\n",
    "                             + \" #Correct:\" + str(correct_so_far) + \" #Trained:\" + str(i+1) \\\n",
    "                             + \" Training Accuracy:\" + str(correct_so_far * 100 / float(i+1))[:4] + \"%\")\n",
    "            if(i % 2500 == 0):\n",
    "                print(\"\")\n",
    "    \n",
    "    def test(self, testing_reviews, testing_labels):\n",
    "        \"\"\"\n",
    "        Attempts to predict the labels for the given testing_reviews,\n",
    "        and uses the test_labels to calculate the accuracy of those predictions.\n",
    "        \"\"\"\n",
    "        \n",
    "        # keep track of how many correct predictions we make\n",
    "        correct = 0\n",
    "\n",
    "        # we'll time how many predictions per second we make\n",
    "        start = time.time()\n",
    "\n",
    "        # Loop through each of the given reviews and call run to predict\n",
    "        # its label. \n",
    "        for i in range(len(testing_reviews)):\n",
    "            pred = self.run(testing_reviews[i])\n",
    "            if(pred == testing_labels[i]):\n",
    "                correct += 1\n",
    "            \n",
    "            # For debug purposes, print out our prediction accuracy and speed \n",
    "            # throughout the prediction process. \n",
    "\n",
    "            elapsed_time = float(time.time() - start)\n",
    "            reviews_per_second = i / elapsed_time if elapsed_time > 0 else 0\n",
    "            \n",
    "            sys.stdout.write(\"\\rProgress:\" + str(100 * i/float(len(testing_reviews)))[:4] \\\n",
    "                             + \"% Speed(reviews/sec):\" + str(reviews_per_second)[0:5] \\\n",
    "                             + \" #Correct:\" + str(correct) + \" #Tested:\" + str(i+1) \\\n",
    "                             + \" Testing Accuracy:\" + str(correct * 100 / float(i+1))[:4] + \"%\")\n",
    "    \n",
    "    def run(self, review):\n",
    "        \"\"\"\n",
    "        Returns a POSITIVE or NEGATIVE prediction for the given review.\n",
    "        \"\"\"\n",
    "        # TODO: Run a forward pass through the network, like you did in the\n",
    "        #       \"train\" function. That means use the given review to \n",
    "        #       update the input layer, then calculate values for the hidden layer,\n",
    "        #       and finally calculate the output layer.\n",
    "        #\n",
    "        #       Note: The review passed into this function for prediction \n",
    "        #             might come from anywhere, so you should convert it \n",
    "        #             to lower case prior to using it.\n",
    "        self.update_input_layer(review.lower())\n",
    "        layer_1 = np.dot(self.layer_0, self.weights_0_1)\n",
    "        output = self.sigmoid(np.dot(layer_1, self.weights_1_2))\n",
    "        # TODO: The output layer should now contain a prediction. \n",
    "        #       Return `POSITIVE` for predictions greater-than-or-equal-to `0.5`, \n",
    "        #       and `NEGATIVE` otherwise.\n",
    "        if output >= 0.5:\n",
    "            return \"POSITIVE\"\n",
    "        else:\n",
    "            return \"NEGATIVE\"\n"
   ]
  },
  {
   "cell_type": "markdown",
   "metadata": {},
   "source": [
    "Changed the self.layer_0[0, self.word2index[word]] += 1 to represent presence or absence of the word, instead of the count. Also, changed the range of self.weights_1_2 to square root of hidden nodes instead of output."
   ]
  },
  {
   "cell_type": "markdown",
   "metadata": {},
   "source": [
    "Run the following cell to recreate the network and train it. Notice we've gone back to the higher learning rate of `0.1`."
   ]
  },
  {
   "cell_type": "code",
   "execution_count": 3,
   "metadata": {},
   "outputs": [
    {
     "name": "stdout",
     "output_type": "stream",
     "text": [
      "Progress:0.0% Speed(reviews/sec):0.0 #Correct:0 #Trained:1 Training Accuracy:0.0%\n",
      "Progress:10.4% Speed(reviews/sec):193.5 #Correct:1948 #Trained:2501 Training Accuracy:77.8%\n",
      "Progress:20.8% Speed(reviews/sec):193.0 #Correct:3993 #Trained:5001 Training Accuracy:79.8%\n",
      "Progress:31.2% Speed(reviews/sec):193.7 #Correct:6120 #Trained:7501 Training Accuracy:81.5%\n",
      "Progress:41.6% Speed(reviews/sec):193.9 #Correct:8277 #Trained:10001 Training Accuracy:82.7%\n",
      "Progress:52.0% Speed(reviews/sec):190.5 #Correct:10438 #Trained:12501 Training Accuracy:83.4%\n",
      "Progress:62.5% Speed(reviews/sec):188.7 #Correct:12579 #Trained:15001 Training Accuracy:83.8%\n",
      "Progress:72.9% Speed(reviews/sec):183.3 #Correct:14693 #Trained:17501 Training Accuracy:83.9%\n",
      "Progress:83.3% Speed(reviews/sec):175.1 #Correct:16867 #Trained:20001 Training Accuracy:84.3%\n",
      "Progress:93.7% Speed(reviews/sec):170.7 #Correct:19054 #Trained:22501 Training Accuracy:84.6%\n",
      "Progress:99.9% Speed(reviews/sec):170.1 #Correct:20374 #Trained:24000 Training Accuracy:84.8%"
     ]
    }
   ],
   "source": [
    "mlp = SentimentNetwork(reviews[:-1000],labels[:-1000], learning_rate=0.1)\n",
    "mlp.train(reviews[:-1000],labels[:-1000])"
   ]
  },
  {
   "cell_type": "markdown",
   "metadata": {},
   "source": [
    "That should have trained much better than the earlier attempts. It's still not wonderful, but it should have improved dramatically. Run the following cell to test your model with 1000 predictions."
   ]
  },
  {
   "cell_type": "code",
   "execution_count": 4,
   "metadata": {},
   "outputs": [
    {
     "name": "stdout",
     "output_type": "stream",
     "text": [
      "\r",
      "Progress:0.0% Speed(reviews/sec):0.0 #Correct:1 #Tested:1 Testing Accuracy:100.%\r",
      "Progress:0.1% Speed(reviews/sec):196.3 #Correct:1 #Tested:2 Testing Accuracy:50.0%\r",
      "Progress:0.2% Speed(reviews/sec):307.7 #Correct:2 #Tested:3 Testing Accuracy:66.6%\r",
      "Progress:0.3% Speed(reviews/sec):378.3 #Correct:3 #Tested:4 Testing Accuracy:75.0%\r",
      "Progress:0.4% Speed(reviews/sec):441.8 #Correct:4 #Tested:5 Testing Accuracy:80.0%\r",
      "Progress:0.5% Speed(reviews/sec):485.0 #Correct:5 #Tested:6 Testing Accuracy:83.3%\r",
      "Progress:0.6% Speed(reviews/sec):500.9 #Correct:6 #Tested:7 Testing Accuracy:85.7%\r",
      "Progress:0.7% Speed(reviews/sec):521.0 #Correct:7 #Tested:8 Testing Accuracy:87.5%\r",
      "Progress:0.8% Speed(reviews/sec):539.2 #Correct:8 #Tested:9 Testing Accuracy:88.8%\r",
      "Progress:0.9% Speed(reviews/sec):528.1 #Correct:9 #Tested:10 Testing Accuracy:90.0%\r",
      "Progress:1.0% Speed(reviews/sec):546.9 #Correct:10 #Tested:11 Testing Accuracy:90.9%\r",
      "Progress:1.1% Speed(reviews/sec):560.6 #Correct:11 #Tested:12 Testing Accuracy:91.6%\r",
      "Progress:1.2% Speed(reviews/sec):572.6 #Correct:12 #Tested:13 Testing Accuracy:92.3%\r",
      "Progress:1.3% Speed(reviews/sec):584.7 #Correct:13 #Tested:14 Testing Accuracy:92.8%\r",
      "Progress:1.4% Speed(reviews/sec):593.4 #Correct:14 #Tested:15 Testing Accuracy:93.3%\r",
      "Progress:1.5% Speed(reviews/sec):602.0 #Correct:15 #Tested:16 Testing Accuracy:93.7%\r",
      "Progress:1.6% Speed(reviews/sec):592.1 #Correct:16 #Tested:17 Testing Accuracy:94.1%\r",
      "Progress:1.7% Speed(reviews/sec):593.7 #Correct:17 #Tested:18 Testing Accuracy:94.4%\r",
      "Progress:1.8% Speed(reviews/sec):603.6 #Correct:18 #Tested:19 Testing Accuracy:94.7%\r",
      "Progress:1.9% Speed(reviews/sec):602.2 #Correct:18 #Tested:20 Testing Accuracy:90.0%\r",
      "Progress:2.0% Speed(reviews/sec):595.7 #Correct:19 #Tested:21 Testing Accuracy:90.4%\r",
      "Progress:2.1% Speed(reviews/sec):596.3 #Correct:20 #Tested:22 Testing Accuracy:90.9%\r",
      "Progress:2.2% Speed(reviews/sec):601.6 #Correct:21 #Tested:23 Testing Accuracy:91.3%\r",
      "Progress:2.3% Speed(reviews/sec):600.9 #Correct:22 #Tested:24 Testing Accuracy:91.6%\r",
      "Progress:2.4% Speed(reviews/sec):595.8 #Correct:23 #Tested:25 Testing Accuracy:92.0%\r",
      "Progress:2.5% Speed(reviews/sec):602.0 #Correct:24 #Tested:26 Testing Accuracy:92.3%\r",
      "Progress:2.6% Speed(reviews/sec):608.1 #Correct:25 #Tested:27 Testing Accuracy:92.5%\r",
      "Progress:2.7% Speed(reviews/sec):595.3 #Correct:26 #Tested:28 Testing Accuracy:92.8%\r",
      "Progress:2.8% Speed(reviews/sec):599.4 #Correct:27 #Tested:29 Testing Accuracy:93.1%\r",
      "Progress:2.9% Speed(reviews/sec):599.0 #Correct:28 #Tested:30 Testing Accuracy:93.3%\r",
      "Progress:3.0% Speed(reviews/sec):597.1 #Correct:29 #Tested:31 Testing Accuracy:93.5%\r",
      "Progress:3.1% Speed(reviews/sec):603.3 #Correct:30 #Tested:32 Testing Accuracy:93.7%\r",
      "Progress:3.2% Speed(reviews/sec):606.8 #Correct:31 #Tested:33 Testing Accuracy:93.9%\r",
      "Progress:3.3% Speed(reviews/sec):610.6 #Correct:32 #Tested:34 Testing Accuracy:94.1%\r",
      "Progress:3.4% Speed(reviews/sec):611.5 #Correct:33 #Tested:35 Testing Accuracy:94.2%\r",
      "Progress:3.5% Speed(reviews/sec):615.2 #Correct:34 #Tested:36 Testing Accuracy:94.4%\r",
      "Progress:3.6% Speed(reviews/sec):616.1 #Correct:35 #Tested:37 Testing Accuracy:94.5%\r",
      "Progress:3.7% Speed(reviews/sec):619.6 #Correct:36 #Tested:38 Testing Accuracy:94.7%\r",
      "Progress:3.8% Speed(reviews/sec):620.2 #Correct:37 #Tested:39 Testing Accuracy:94.8%\r",
      "Progress:3.9% Speed(reviews/sec):617.9 #Correct:38 #Tested:40 Testing Accuracy:95.0%\r",
      "Progress:4.0% Speed(reviews/sec):617.6 #Correct:39 #Tested:41 Testing Accuracy:95.1%\r",
      "Progress:4.1% Speed(reviews/sec):621.3 #Correct:40 #Tested:42 Testing Accuracy:95.2%\r",
      "Progress:4.2% Speed(reviews/sec):615.5 #Correct:41 #Tested:43 Testing Accuracy:95.3%\r",
      "Progress:4.3% Speed(reviews/sec):611.4 #Correct:42 #Tested:44 Testing Accuracy:95.4%\r",
      "Progress:4.4% Speed(reviews/sec):591.2 #Correct:43 #Tested:45 Testing Accuracy:95.5%\r",
      "Progress:4.5% Speed(reviews/sec):499.3 #Correct:43 #Tested:46 Testing Accuracy:93.4%\r",
      "Progress:4.6% Speed(reviews/sec):496.2 #Correct:44 #Tested:47 Testing Accuracy:93.6%\r",
      "Progress:4.7% Speed(reviews/sec):498.0 #Correct:45 #Tested:48 Testing Accuracy:93.7%\r",
      "Progress:4.8% Speed(reviews/sec):484.5 #Correct:46 #Tested:49 Testing Accuracy:93.8%\r",
      "Progress:4.9% Speed(reviews/sec):478.1 #Correct:47 #Tested:50 Testing Accuracy:94.0%\r",
      "Progress:5.0% Speed(reviews/sec):479.5 #Correct:48 #Tested:51 Testing Accuracy:94.1%\r",
      "Progress:5.1% Speed(reviews/sec):475.9 #Correct:49 #Tested:52 Testing Accuracy:94.2%\r",
      "Progress:5.2% Speed(reviews/sec):445.7 #Correct:50 #Tested:53 Testing Accuracy:94.3%\r",
      "Progress:5.3% Speed(reviews/sec):449.3 #Correct:51 #Tested:54 Testing Accuracy:94.4%\r",
      "Progress:5.4% Speed(reviews/sec):452.5 #Correct:52 #Tested:55 Testing Accuracy:94.5%\r",
      "Progress:5.5% Speed(reviews/sec):457.0 #Correct:53 #Tested:56 Testing Accuracy:94.6%\r",
      "Progress:5.6% Speed(reviews/sec):457.3 #Correct:54 #Tested:57 Testing Accuracy:94.7%\r",
      "Progress:5.7% Speed(reviews/sec):461.5 #Correct:55 #Tested:58 Testing Accuracy:94.8%\r",
      "Progress:5.8% Speed(reviews/sec):464.7 #Correct:56 #Tested:59 Testing Accuracy:94.9%\r",
      "Progress:5.9% Speed(reviews/sec):468.0 #Correct:57 #Tested:60 Testing Accuracy:95.0%\r",
      "Progress:6.0% Speed(reviews/sec):469.5 #Correct:58 #Tested:61 Testing Accuracy:95.0%\r",
      "Progress:6.1% Speed(reviews/sec):471.4 #Correct:59 #Tested:62 Testing Accuracy:95.1%\r",
      "Progress:6.2% Speed(reviews/sec):454.6 #Correct:60 #Tested:63 Testing Accuracy:95.2%\r",
      "Progress:6.3% Speed(reviews/sec):457.5 #Correct:61 #Tested:64 Testing Accuracy:95.3%\r",
      "Progress:6.4% Speed(reviews/sec):458.8 #Correct:61 #Tested:65 Testing Accuracy:93.8%\r",
      "Progress:6.5% Speed(reviews/sec):462.0 #Correct:61 #Tested:66 Testing Accuracy:92.4%\r",
      "Progress:6.6% Speed(reviews/sec):465.2 #Correct:62 #Tested:67 Testing Accuracy:92.5%\r",
      "Progress:6.7% Speed(reviews/sec):467.8 #Correct:63 #Tested:68 Testing Accuracy:92.6%\r",
      "Progress:6.8% Speed(reviews/sec):470.5 #Correct:64 #Tested:69 Testing Accuracy:92.7%\r",
      "Progress:6.9% Speed(reviews/sec):472.4 #Correct:65 #Tested:70 Testing Accuracy:92.8%\r",
      "Progress:7.0% Speed(reviews/sec):471.1 #Correct:65 #Tested:71 Testing Accuracy:91.5%\r",
      "Progress:7.1% Speed(reviews/sec):474.5 #Correct:66 #Tested:72 Testing Accuracy:91.6%\r",
      "Progress:7.2% Speed(reviews/sec):477.3 #Correct:67 #Tested:73 Testing Accuracy:91.7%\r",
      "Progress:7.3% Speed(reviews/sec):480.4 #Correct:68 #Tested:74 Testing Accuracy:91.8%\r",
      "Progress:7.4% Speed(reviews/sec):483.0 #Correct:68 #Tested:75 Testing Accuracy:90.6%\r",
      "Progress:7.5% Speed(reviews/sec):485.6 #Correct:69 #Tested:76 Testing Accuracy:90.7%\r",
      "Progress:7.6% Speed(reviews/sec):488.2 #Correct:70 #Tested:77 Testing Accuracy:90.9%\r",
      "Progress:7.7% Speed(reviews/sec):490.6 #Correct:71 #Tested:78 Testing Accuracy:91.0%\r",
      "Progress:7.8% Speed(reviews/sec):493.1 #Correct:72 #Tested:79 Testing Accuracy:91.1%\r",
      "Progress:7.9% Speed(reviews/sec):494.9 #Correct:73 #Tested:80 Testing Accuracy:91.2%\r",
      "Progress:8.0% Speed(reviews/sec):497.3 #Correct:74 #Tested:81 Testing Accuracy:91.3%\r",
      "Progress:8.1% Speed(reviews/sec):495.8 #Correct:74 #Tested:82 Testing Accuracy:90.2%\r",
      "Progress:8.2% Speed(reviews/sec):496.9 #Correct:75 #Tested:83 Testing Accuracy:90.3%\r",
      "Progress:8.3% Speed(reviews/sec):499.1 #Correct:76 #Tested:84 Testing Accuracy:90.4%\r",
      "Progress:8.4% Speed(reviews/sec):501.6 #Correct:77 #Tested:85 Testing Accuracy:90.5%\r",
      "Progress:8.5% Speed(reviews/sec):503.6 #Correct:78 #Tested:86 Testing Accuracy:90.6%\r",
      "Progress:8.6% Speed(reviews/sec):505.0 #Correct:79 #Tested:87 Testing Accuracy:90.8%\r",
      "Progress:8.7% Speed(reviews/sec):507.3 #Correct:79 #Tested:88 Testing Accuracy:89.7%\r",
      "Progress:8.8% Speed(reviews/sec):509.5 #Correct:80 #Tested:89 Testing Accuracy:89.8%\r",
      "Progress:8.9% Speed(reviews/sec):508.8 #Correct:81 #Tested:90 Testing Accuracy:90.0%\r",
      "Progress:9.0% Speed(reviews/sec):510.0 #Correct:82 #Tested:91 Testing Accuracy:90.1%\r",
      "Progress:9.1% Speed(reviews/sec):511.6 #Correct:83 #Tested:92 Testing Accuracy:90.2%\r",
      "Progress:9.2% Speed(reviews/sec):513.3 #Correct:84 #Tested:93 Testing Accuracy:90.3%\r",
      "Progress:9.3% Speed(reviews/sec):514.8 #Correct:85 #Tested:94 Testing Accuracy:90.4%\r",
      "Progress:9.4% Speed(reviews/sec):516.3 #Correct:86 #Tested:95 Testing Accuracy:90.5%\r",
      "Progress:9.5% Speed(reviews/sec):518.0 #Correct:87 #Tested:96 Testing Accuracy:90.6%\r",
      "Progress:9.6% Speed(reviews/sec):519.5 #Correct:88 #Tested:97 Testing Accuracy:90.7%\r",
      "Progress:9.7% Speed(reviews/sec):503.8 #Correct:89 #Tested:98 Testing Accuracy:90.8%\r",
      "Progress:9.8% Speed(reviews/sec):505.9 #Correct:90 #Tested:99 Testing Accuracy:90.9%\r",
      "Progress:9.9% Speed(reviews/sec):508.0 #Correct:91 #Tested:100 Testing Accuracy:91.0%\r",
      "Progress:10.0% Speed(reviews/sec):509.8 #Correct:92 #Tested:101 Testing Accuracy:91.0%\r",
      "Progress:10.1% Speed(reviews/sec):510.8 #Correct:93 #Tested:102 Testing Accuracy:91.1%\r",
      "Progress:10.2% Speed(reviews/sec):512.6 #Correct:94 #Tested:103 Testing Accuracy:91.2%\r",
      "Progress:10.3% Speed(reviews/sec):513.1 #Correct:94 #Tested:104 Testing Accuracy:90.3%\r",
      "Progress:10.4% Speed(reviews/sec):514.9 #Correct:95 #Tested:105 Testing Accuracy:90.4%\r",
      "Progress:10.5% Speed(reviews/sec):517.2 #Correct:96 #Tested:106 Testing Accuracy:90.5%"
     ]
    },
    {
     "name": "stdout",
     "output_type": "stream",
     "text": [
      "Progress:99.9% Speed(reviews/sec):593.4 #Correct:860 #Tested:1000 Testing Accuracy:86.0%"
     ]
    }
   ],
   "source": [
    "mlp.test(reviews[-1000:],labels[-1000:])"
   ]
  },
  {
   "cell_type": "markdown",
   "metadata": {},
   "source": [
    "# End of Project 4. \n",
    "## Andrew's solution was actually in the previous video, so rewatch that video if you had any problems with that project. Then continue on to the next lesson.\n",
    "# Analyzing Inefficiencies in our Network<a id='lesson_5'></a>\n",
    "The following cells include the code Andrew shows in the next video. We've included it here so you can run the cells along with the video without having to type in everything."
   ]
  },
  {
   "cell_type": "code",
   "execution_count": null,
   "metadata": {},
   "outputs": [],
   "source": [
    "Image(filename='sentiment_network_sparse.png')"
   ]
  },
  {
   "cell_type": "code",
   "execution_count": null,
   "metadata": {},
   "outputs": [],
   "source": [
    "layer_0 = np.zeros(10)"
   ]
  },
  {
   "cell_type": "code",
   "execution_count": null,
   "metadata": {},
   "outputs": [],
   "source": [
    "layer_0"
   ]
  },
  {
   "cell_type": "code",
   "execution_count": null,
   "metadata": {},
   "outputs": [],
   "source": [
    "layer_0[4] = 1\n",
    "layer_0[9] = 1"
   ]
  },
  {
   "cell_type": "code",
   "execution_count": null,
   "metadata": {},
   "outputs": [],
   "source": [
    "layer_0"
   ]
  },
  {
   "cell_type": "code",
   "execution_count": null,
   "metadata": {},
   "outputs": [],
   "source": [
    "weights_0_1 = np.random.randn(10,5)"
   ]
  },
  {
   "cell_type": "code",
   "execution_count": null,
   "metadata": {},
   "outputs": [],
   "source": [
    "layer_0.dot(weights_0_1)"
   ]
  },
  {
   "cell_type": "code",
   "execution_count": null,
   "metadata": {},
   "outputs": [],
   "source": [
    "indices = [4,9]"
   ]
  },
  {
   "cell_type": "code",
   "execution_count": null,
   "metadata": {},
   "outputs": [],
   "source": [
    "layer_1 = np.zeros(5)"
   ]
  },
  {
   "cell_type": "code",
   "execution_count": null,
   "metadata": {},
   "outputs": [],
   "source": [
    "for index in indices:\n",
    "    layer_1 += (1 * weights_0_1[index])"
   ]
  },
  {
   "cell_type": "code",
   "execution_count": null,
   "metadata": {},
   "outputs": [],
   "source": [
    "layer_1"
   ]
  },
  {
   "cell_type": "code",
   "execution_count": null,
   "metadata": {},
   "outputs": [],
   "source": [
    "Image(filename='sentiment_network_sparse_2.png')"
   ]
  },
  {
   "cell_type": "code",
   "execution_count": null,
   "metadata": {},
   "outputs": [],
   "source": [
    "layer_1 = np.zeros(5)"
   ]
  },
  {
   "cell_type": "code",
   "execution_count": null,
   "metadata": {},
   "outputs": [],
   "source": [
    "for index in indices:\n",
    "    layer_1 += (weights_0_1[index])"
   ]
  },
  {
   "cell_type": "code",
   "execution_count": null,
   "metadata": {},
   "outputs": [],
   "source": [
    "layer_1"
   ]
  },
  {
   "cell_type": "markdown",
   "metadata": {},
   "source": [
    "# Project 5: Making our Network More Efficient<a id='project_5'></a>\n",
    "**TODO:** Make the `SentimentNetwork` class more efficient by eliminating unnecessary multiplications and additions that occur during forward and backward propagation. To do that, you can do the following:\n",
    "* Copy the `SentimentNetwork` class from the previous project into the following cell.\n",
    "* Remove the `update_input_layer` function - you will not need it in this version.\n",
    "* Modify `init_network`:\n",
    ">* You no longer need a separate input layer, so remove any mention of `self.layer_0`\n",
    ">* You will be dealing with the old hidden layer more directly, so create `self.layer_1`, a two-dimensional matrix with shape 1 x hidden_nodes, with all values initialized to zero\n",
    "* Modify `train`:\n",
    ">* Change the name of the input parameter `training_reviews` to `training_reviews_raw`. This will help with the next step.\n",
    ">* At the beginning of the function, you'll want to preprocess your reviews to convert them to a list of indices (from `word2index`) that are actually used in the review. This is equivalent to what you saw in the video when Andrew set specific indices to 1. Your code should create a local `list` variable named `training_reviews` that should contain a `list` for each review in `training_reviews_raw`. Those lists should contain the indices for words found in the review.\n",
    ">* Remove call to `update_input_layer`\n",
    ">* Use `self`'s  `layer_1` instead of a local `layer_1` object.\n",
    ">* In the forward pass, replace the code that updates `layer_1` with new logic that only adds the weights for the indices used in the review.\n",
    ">* When updating `weights_0_1`, only update the individual weights that were used in the forward pass.\n",
    "* Modify `run`:\n",
    ">* Remove call to `update_input_layer` \n",
    ">* Use `self`'s  `layer_1` instead of a local `layer_1` object.\n",
    ">* Much like you did in `train`, you will need to pre-process the `review` so you can work with word indices, then update `layer_1` by adding weights for the indices used in the review."
   ]
  },
  {
   "cell_type": "code",
   "execution_count": null,
   "metadata": {},
   "outputs": [],
   "source": [
    "# TODO: -Copy the SentimentNetwork class from Project 4 lesson\n",
    "#       -Modify it according to the above instructions "
   ]
  },
  {
   "cell_type": "markdown",
   "metadata": {},
   "source": [
    "Run the following cell to recreate the network and train it once again."
   ]
  },
  {
   "cell_type": "code",
   "execution_count": null,
   "metadata": {},
   "outputs": [],
   "source": [
    "mlp = SentimentNetwork(reviews[:-1000],labels[:-1000], learning_rate=0.1)\n",
    "mlp.train(reviews[:-1000],labels[:-1000])"
   ]
  },
  {
   "cell_type": "markdown",
   "metadata": {},
   "source": [
    "That should have trained much better than the earlier attempts. Run the following cell to test your model with 1000 predictions."
   ]
  },
  {
   "cell_type": "code",
   "execution_count": null,
   "metadata": {},
   "outputs": [],
   "source": [
    "mlp.test(reviews[-1000:],labels[-1000:])"
   ]
  },
  {
   "cell_type": "markdown",
   "metadata": {},
   "source": [
    "# End of Project 5. \n",
    "## Watch the next video to see Andrew's solution, then continue on to the next lesson.\n",
    "# Further Noise Reduction<a id='lesson_6'></a>"
   ]
  },
  {
   "cell_type": "code",
   "execution_count": null,
   "metadata": {},
   "outputs": [],
   "source": [
    "Image(filename='sentiment_network_sparse_2.png')"
   ]
  },
  {
   "cell_type": "code",
   "execution_count": null,
   "metadata": {},
   "outputs": [],
   "source": [
    "# words most frequently seen in a review with a \"POSITIVE\" label\n",
    "pos_neg_ratios.most_common()"
   ]
  },
  {
   "cell_type": "code",
   "execution_count": null,
   "metadata": {},
   "outputs": [],
   "source": [
    "# words most frequently seen in a review with a \"NEGATIVE\" label\n",
    "list(reversed(pos_neg_ratios.most_common()))[0:30]"
   ]
  },
  {
   "cell_type": "code",
   "execution_count": null,
   "metadata": {},
   "outputs": [],
   "source": [
    "from bokeh.models import ColumnDataSource, LabelSet\n",
    "from bokeh.plotting import figure, show, output_file\n",
    "from bokeh.io import output_notebook\n",
    "output_notebook()"
   ]
  },
  {
   "cell_type": "code",
   "execution_count": null,
   "metadata": {},
   "outputs": [],
   "source": [
    "hist, edges = np.histogram(list(map(lambda x:x[1],pos_neg_ratios.most_common())), density=True, bins=100, normed=True)\n",
    "\n",
    "p = figure(tools=\"pan,wheel_zoom,reset,save\",\n",
    "           toolbar_location=\"above\",\n",
    "           title=\"Word Positive/Negative Affinity Distribution\")\n",
    "p.quad(top=hist, bottom=0, left=edges[:-1], right=edges[1:], line_color=\"#555555\")\n",
    "show(p)"
   ]
  },
  {
   "cell_type": "code",
   "execution_count": null,
   "metadata": {},
   "outputs": [],
   "source": [
    "frequency_frequency = Counter()\n",
    "\n",
    "for word, cnt in total_counts.most_common():\n",
    "    frequency_frequency[cnt] += 1"
   ]
  },
  {
   "cell_type": "code",
   "execution_count": null,
   "metadata": {},
   "outputs": [],
   "source": [
    "hist, edges = np.histogram(list(map(lambda x:x[1],frequency_frequency.most_common())), density=True, bins=100, normed=True)\n",
    "\n",
    "p = figure(tools=\"pan,wheel_zoom,reset,save\",\n",
    "           toolbar_location=\"above\",\n",
    "           title=\"The frequency distribution of the words in our corpus\")\n",
    "p.quad(top=hist, bottom=0, left=edges[:-1], right=edges[1:], line_color=\"#555555\")\n",
    "show(p)"
   ]
  },
  {
   "cell_type": "markdown",
   "metadata": {},
   "source": [
    "# Project 6: Reducing Noise by Strategically Reducing the Vocabulary<a id='project_6'></a>\n",
    "\n",
    "**TODO:** Improve `SentimentNetwork`'s performance by reducing more noise in the vocabulary. Specifically, do the following:\n",
    "* Copy the `SentimentNetwork` class from the previous project into the following cell.\n",
    "* Modify `pre_process_data`:\n",
    ">* Add two additional parameters: `min_count` and `polarity_cutoff`\n",
    ">* Calculate the positive-to-negative ratios of words used in the reviews. (You can use code you've written elsewhere in the notebook, but we are moving it into the class like we did with other helper code earlier.)\n",
    ">* Andrew's solution only calculates a postive-to-negative ratio for words that occur at least 50 times. This keeps the network from attributing too much sentiment to rarer words. You can choose to add this to your solution if you would like.  \n",
    ">* Change so words are only added to the vocabulary if they occur in the vocabulary more than `min_count` times.\n",
    ">* Change so words are only added to the vocabulary if the absolute value of their postive-to-negative ratio is at least `polarity_cutoff`\n",
    "* Modify `__init__`:\n",
    ">* Add the same two parameters (`min_count` and `polarity_cutoff`) and use them when you call `pre_process_data`"
   ]
  },
  {
   "cell_type": "code",
   "execution_count": null,
   "metadata": {},
   "outputs": [],
   "source": [
    "# TODO: -Copy the SentimentNetwork class from Project 5 lesson\n",
    "#       -Modify it according to the above instructions "
   ]
  },
  {
   "cell_type": "markdown",
   "metadata": {},
   "source": [
    "Run the following cell to train your network with a small polarity cutoff."
   ]
  },
  {
   "cell_type": "code",
   "execution_count": null,
   "metadata": {},
   "outputs": [],
   "source": [
    "mlp = SentimentNetwork(reviews[:-1000],labels[:-1000],min_count=20,polarity_cutoff=0.05,learning_rate=0.01)\n",
    "mlp.train(reviews[:-1000],labels[:-1000])"
   ]
  },
  {
   "cell_type": "markdown",
   "metadata": {},
   "source": [
    "And run the following cell to test it's performance. It should be "
   ]
  },
  {
   "cell_type": "code",
   "execution_count": null,
   "metadata": {},
   "outputs": [],
   "source": [
    "mlp.test(reviews[-1000:],labels[-1000:])"
   ]
  },
  {
   "cell_type": "markdown",
   "metadata": {},
   "source": [
    "Run the following cell to train your network with a much larger polarity cutoff."
   ]
  },
  {
   "cell_type": "code",
   "execution_count": null,
   "metadata": {},
   "outputs": [],
   "source": [
    "mlp = SentimentNetwork(reviews[:-1000],labels[:-1000],min_count=20,polarity_cutoff=0.8,learning_rate=0.01)\n",
    "mlp.train(reviews[:-1000],labels[:-1000])"
   ]
  },
  {
   "cell_type": "markdown",
   "metadata": {},
   "source": [
    "And run the following cell to test it's performance."
   ]
  },
  {
   "cell_type": "code",
   "execution_count": null,
   "metadata": {},
   "outputs": [],
   "source": [
    "mlp.test(reviews[-1000:],labels[-1000:])"
   ]
  },
  {
   "cell_type": "markdown",
   "metadata": {},
   "source": [
    "# End of Project 6. \n",
    "## Watch the next video to see Andrew's solution, then continue on to the next lesson."
   ]
  },
  {
   "cell_type": "markdown",
   "metadata": {
    "collapsed": true
   },
   "source": [
    "# Analysis: What's Going on in the Weights?<a id='lesson_7'></a>"
   ]
  },
  {
   "cell_type": "code",
   "execution_count": null,
   "metadata": {},
   "outputs": [],
   "source": [
    "mlp_full = SentimentNetwork(reviews[:-1000],labels[:-1000],min_count=0,polarity_cutoff=0,learning_rate=0.01)"
   ]
  },
  {
   "cell_type": "code",
   "execution_count": null,
   "metadata": {},
   "outputs": [],
   "source": [
    "mlp_full.train(reviews[:-1000],labels[:-1000])"
   ]
  },
  {
   "cell_type": "code",
   "execution_count": null,
   "metadata": {},
   "outputs": [],
   "source": [
    "Image(filename='sentiment_network_sparse.png')"
   ]
  },
  {
   "cell_type": "code",
   "execution_count": null,
   "metadata": {},
   "outputs": [],
   "source": [
    "def get_most_similar_words(focus = \"horrible\"):\n",
    "    most_similar = Counter()\n",
    "\n",
    "    for word in mlp_full.word2index.keys():\n",
    "        most_similar[word] = np.dot(mlp_full.weights_0_1[mlp_full.word2index[word]],mlp_full.weights_0_1[mlp_full.word2index[focus]])\n",
    "    \n",
    "    return most_similar.most_common()"
   ]
  },
  {
   "cell_type": "code",
   "execution_count": null,
   "metadata": {},
   "outputs": [],
   "source": [
    "get_most_similar_words(\"excellent\")"
   ]
  },
  {
   "cell_type": "code",
   "execution_count": null,
   "metadata": {},
   "outputs": [],
   "source": [
    "get_most_similar_words(\"terrible\")"
   ]
  },
  {
   "cell_type": "code",
   "execution_count": null,
   "metadata": {},
   "outputs": [],
   "source": [
    "import matplotlib.colors as colors\n",
    "\n",
    "words_to_visualize = list()\n",
    "for word, ratio in pos_neg_ratios.most_common(500):\n",
    "    if(word in mlp_full.word2index.keys()):\n",
    "        words_to_visualize.append(word)\n",
    "    \n",
    "for word, ratio in list(reversed(pos_neg_ratios.most_common()))[0:500]:\n",
    "    if(word in mlp_full.word2index.keys()):\n",
    "        words_to_visualize.append(word)"
   ]
  },
  {
   "cell_type": "code",
   "execution_count": null,
   "metadata": {},
   "outputs": [],
   "source": [
    "pos = 0\n",
    "neg = 0\n",
    "\n",
    "colors_list = list()\n",
    "vectors_list = list()\n",
    "for word in words_to_visualize:\n",
    "    if word in pos_neg_ratios.keys():\n",
    "        vectors_list.append(mlp_full.weights_0_1[mlp_full.word2index[word]])\n",
    "        if(pos_neg_ratios[word] > 0):\n",
    "            pos+=1\n",
    "            colors_list.append(\"#00ff00\")\n",
    "        else:\n",
    "            neg+=1\n",
    "            colors_list.append(\"#000000\")"
   ]
  },
  {
   "cell_type": "code",
   "execution_count": null,
   "metadata": {},
   "outputs": [],
   "source": [
    "from sklearn.manifold import TSNE\n",
    "tsne = TSNE(n_components=2, random_state=0)\n",
    "words_top_ted_tsne = tsne.fit_transform(vectors_list)"
   ]
  },
  {
   "cell_type": "code",
   "execution_count": null,
   "metadata": {},
   "outputs": [],
   "source": [
    "p = figure(tools=\"pan,wheel_zoom,reset,save\",\n",
    "           toolbar_location=\"above\",\n",
    "           title=\"vector T-SNE for most polarized words\")\n",
    "\n",
    "source = ColumnDataSource(data=dict(x1=words_top_ted_tsne[:,0],\n",
    "                                    x2=words_top_ted_tsne[:,1],\n",
    "                                    names=words_to_visualize,\n",
    "                                    color=colors_list))\n",
    "\n",
    "p.scatter(x=\"x1\", y=\"x2\", size=8, source=source, fill_color=\"color\")\n",
    "\n",
    "word_labels = LabelSet(x=\"x1\", y=\"x2\", text=\"names\", y_offset=6,\n",
    "                  text_font_size=\"8pt\", text_color=\"#555555\",\n",
    "                  source=source, text_align='center')\n",
    "p.add_layout(word_labels)\n",
    "\n",
    "show(p)\n",
    "\n",
    "# green indicates positive words, black indicates negative words"
   ]
  }
 ],
 "metadata": {
  "anaconda-cloud": {},
  "kernelspec": {
   "display_name": "Python 3",
   "language": "python",
   "name": "python3"
  },
  "language_info": {
   "codemirror_mode": {
    "name": "ipython",
    "version": 3
   },
   "file_extension": ".py",
   "mimetype": "text/x-python",
   "name": "python",
   "nbconvert_exporter": "python",
   "pygments_lexer": "ipython3",
   "version": "3.7.4"
  }
 },
 "nbformat": 4,
 "nbformat_minor": 1
}
